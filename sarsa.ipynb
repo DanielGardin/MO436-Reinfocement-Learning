{
 "cells": [
  {
   "cell_type": "code",
   "execution_count": 1,
   "metadata": {},
   "outputs": [
    {
     "name": "stderr",
     "output_type": "stream",
     "text": [
      "c:\\Users\\guilh\\Documents\\GitHub\\MO436-Reinfocement-Learning\\pacman\\env.py:119: SyntaxWarning: invalid escape sequence '\\#'\n",
      "  \"\"\"\n"
     ]
    }
   ],
   "source": [
    "from pacman.actions import Actions\n",
    "from pacman.agents import Agent\n",
    "from pacman.env import PacmanEnv\n",
    "import numpy as np\n",
    "from collections import defaultdict\n",
    "import random"
   ]
  },
  {
   "cell_type": "markdown",
   "metadata": {},
   "source": [
    "Ideas: analize different combinations of alpha, gamma and greed decay"
   ]
  },
  {
   "cell_type": "code",
   "execution_count": 8,
   "metadata": {},
   "outputs": [
    {
     "name": "stdout",
     "output_type": "stream",
     "text": [
      "% % % % % % % % %\n",
      "% . %       %   %\n",
      "%   %   %   % \u001b[33mP\u001b[0m %\n",
      "%   %   %   %   %\n",
      "%       %       %\n",
      "% % % % % % % % %\n",
      "Score: 0\n"
     ]
    }
   ],
   "source": [
    "Qtable = defaultdict(lambda : {action: 0 for action in Actions.actions})\n",
    "env = PacmanEnv.from_file('testMaze')\n",
    "alpha = 0.9\n",
    "gamma = 0.9\n",
    "for i in range(1000):\n",
    "    env.reset(random_init= True, seed= 42)\n",
    "    while env.iswin is False:\n",
    "        atual = env.__hash__\n",
    "        policy = ['greed', 'aleatorio']\n",
    "        weights = [0.7, 0.3]\n",
    "        chosen = random.choices(policy, weights)[0]\n",
    "        if chosen == 'greed':\n",
    "            greedy = max(Qtable[atual])\n",
    "            r = env.step(greedy)\n",
    "            Qtable[atual][greedy] = Qtable[atual][greedy] + alpha(r + gamma * max(Qtable(env.__hash__)) - Qtable[atual][greedy])\n",
    "        else:\n",
    "            aleatorio = random.choice(Qtable[atual])\n",
    "            r = env.step(aleatorio)\n",
    "            Qtable[atual][aleatorio] = Qtable[atual][aleatorio] + alpha(r + gamma * env.step(aleatorio) - Qtable[atual][aleatorio])\n",
    "\n",
    "\n",
    "        "
   ]
  }
 ],
 "metadata": {
  "kernelspec": {
   "display_name": "Python 3",
   "language": "python",
   "name": "python3"
  },
  "language_info": {
   "codemirror_mode": {
    "name": "ipython",
    "version": 3
   },
   "file_extension": ".py",
   "mimetype": "text/x-python",
   "name": "python",
   "nbconvert_exporter": "python",
   "pygments_lexer": "ipython3",
   "version": "3.12.1"
  }
 },
 "nbformat": 4,
 "nbformat_minor": 2
}
