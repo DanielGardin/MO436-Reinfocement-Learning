{
 "cells": [
  {
   "cell_type": "code",
   "execution_count": 3,
   "metadata": {},
   "outputs": [],
   "source": [
    "from pacman.actions import Actions\n",
    "from pacman.agents import Agent\n",
    "from pacman.env import PacmanEnv\n",
    "import numpy as np\n",
    "from collections import defaultdict\n",
    "import random"
   ]
  },
  {
   "cell_type": "code",
   "execution_count": 4,
   "metadata": {},
   "outputs": [
    {
     "name": "stdout",
     "output_type": "stream",
     "text": [
      "% % % % % % % % %\n",
      "% . %       % \u001b[33m^\u001b[0m %\n",
      "%   %   %   %   %\n",
      "%   %   %   %   %\n",
      "%       %       %\n",
      "% % % % % % % % %\n",
      "Score: -13\n"
     ]
    },
    {
     "ename": "KeyboardInterrupt",
     "evalue": "",
     "output_type": "error",
     "traceback": [
      "\u001b[1;31m---------------------------------------------------------------------------\u001b[0m",
      "\u001b[1;31mKeyboardInterrupt\u001b[0m                         Traceback (most recent call last)",
      "Cell \u001b[1;32mIn[4], line 33\u001b[0m\n\u001b[0;32m     31\u001b[0m sarsa \u001b[38;5;241m=\u001b[39m SARSAgent(\u001b[38;5;241m0.8\u001b[39m, \u001b[38;5;241m0.9\u001b[39m, env, \u001b[38;5;241m0.8\u001b[39m)\n\u001b[0;32m     32\u001b[0m sarsa\u001b[38;5;241m.\u001b[39mtraining()\n\u001b[1;32m---> 33\u001b[0m \u001b[43menv\u001b[49m\u001b[38;5;241;43m.\u001b[39;49m\u001b[43mrun_policy\u001b[49m\u001b[43m(\u001b[49m\u001b[43msarsa\u001b[49m\u001b[43m,\u001b[49m\u001b[43m \u001b[49m\u001b[38;5;241;43m100\u001b[39;49m\u001b[43m,\u001b[49m\u001b[43m \u001b[49m\u001b[38;5;241;43m0\u001b[39;49m\u001b[43m,\u001b[49m\u001b[43m \u001b[49m\u001b[38;5;241;43m1\u001b[39;49m\u001b[43m)\u001b[49m\n",
      "File \u001b[1;32mc:\\Users\\guilh\\Documents\\GitHub\\MO436-Reinfocement-Learning\\pacman\\env.py:551\u001b[0m, in \u001b[0;36mPacmanEnv.run_policy\u001b[1;34m(self, policy, max_length, timeout_time, delay, seed)\u001b[0m\n\u001b[0;32m    549\u001b[0m obs \u001b[38;5;241m=\u001b[39m \u001b[38;5;28mself\u001b[39m\u001b[38;5;241m.\u001b[39mobservation()\n\u001b[0;32m    550\u001b[0m \u001b[38;5;28;01mwhile\u001b[39;00m \u001b[38;5;28;01mTrue\u001b[39;00m:\n\u001b[1;32m--> 551\u001b[0m     \u001b[43mtime\u001b[49m\u001b[38;5;241;43m.\u001b[39;49m\u001b[43msleep\u001b[49m\u001b[43m(\u001b[49m\u001b[43mdelay\u001b[49m\u001b[43m)\u001b[49m\n\u001b[0;32m    553\u001b[0m     \u001b[38;5;28;01mwith\u001b[39;00m timeout(timeout_time):\n\u001b[0;32m    554\u001b[0m         action \u001b[38;5;241m=\u001b[39m policy\u001b[38;5;241m.\u001b[39mact(obs)\n",
      "\u001b[1;31mKeyboardInterrupt\u001b[0m: "
     ]
    }
   ],
   "source": [
    "class SARSAgent(Agent):\n",
    "    def __init__(self, alpha, gamma, env, eps):\n",
    "        self.alpha  = alpha\n",
    "        self.gamma  = gamma\n",
    "        self.env    = env\n",
    "        self.eps    = eps\n",
    "        self.Qtable = defaultdict(lambda : {action: 0 for action in Actions.actions})\n",
    "\n",
    "    def training(self):\n",
    "        for i in range(100):\n",
    "            atual, done = self.env.reset(random_init= True, seed= 42)\n",
    "            self.eps = 0.99 * self.eps\n",
    "            while not done:\n",
    "                action1 = self.act(atual)\n",
    "                proximo, r, done, features = self.env.step(action1)\n",
    "                action2 = self.act(atual)\n",
    "                self.Qtable[atual][action1] += self.alpha * (r + self.gamma * self.Qtable[proximo][action2] - self.Qtable[atual][action1])\n",
    "\n",
    "\n",
    "    def act(self, state):\n",
    "        if np.random.rand() > self.eps:\n",
    "            action = max(self.Qtable[state])\n",
    "        else:\n",
    "            action = Actions.sample()\n",
    "        return action\n",
    "    \n",
    "    \n",
    "    \n",
    "    \n",
    "env = PacmanEnv.from_file('testMaze')\n",
    "sarsa = SARSAgent(0.8, 0.9, env, 0.8)\n",
    "sarsa.training()\n",
    "env.run_policy(sarsa, 100, 0, 1)\n",
    "    "
   ]
  },
  {
   "cell_type": "markdown",
   "metadata": {},
   "source": [
    "Ideas: analize different combinations of alpha, gamma and greed decay"
   ]
  },
  {
   "cell_type": "code",
   "execution_count": null,
   "metadata": {},
   "outputs": [],
   "source": []
  }
 ],
 "metadata": {
  "kernelspec": {
   "display_name": "Python 3",
   "language": "python",
   "name": "python3"
  },
  "language_info": {
   "codemirror_mode": {
    "name": "ipython",
    "version": 3
   },
   "file_extension": ".py",
   "mimetype": "text/x-python",
   "name": "python",
   "nbconvert_exporter": "python",
   "pygments_lexer": "ipython3",
   "version": "3.12.1"
  }
 },
 "nbformat": 4,
 "nbformat_minor": 2
}
