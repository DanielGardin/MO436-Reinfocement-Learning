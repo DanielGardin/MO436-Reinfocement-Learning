{
 "cells": [
  {
   "cell_type": "code",
   "execution_count": 1,
   "metadata": {},
   "outputs": [
    {
     "name": "stderr",
     "output_type": "stream",
     "text": [
      "c:\\Users\\guilh\\Documents\\GitHub\\MO436-Reinfocement-Learning\\pacman\\env.py:119: SyntaxWarning: invalid escape sequence '\\#'\n",
      "  \"\"\"\n"
     ]
    }
   ],
   "source": [
    "from pacman.actions import Actions\n",
    "from pacman.agents import Agent\n",
    "from pacman.env import PacmanEnv\n",
    "import numpy as np\n",
    "from collections import defaultdict\n",
    "import random"
   ]
  },
  {
   "cell_type": "code",
   "execution_count": 6,
   "metadata": {},
   "outputs": [
    {
     "name": "stdout",
     "output_type": "stream",
     "text": [
      "% % % % % % % % %\n",
      "% \u001b[33m^\u001b[0m %       %   %\n",
      "%   %   %   %   %\n",
      "%   %   %   %   %\n",
      "%       %       %\n",
      "% % % % % % % % %\n",
      "Score: 50\n"
     ]
    }
   ],
   "source": [
    "class SARSAgent(Agent):\n",
    "    def __init__(self, alpha, gamma, env, eps):\n",
    "        self.alpha  = alpha\n",
    "        self.gamma  = gamma\n",
    "        self.env    = env\n",
    "        self.eps    = eps\n",
    "        self.Qtable = defaultdict(lambda : {action: 0 for action in Actions.actions})\n",
    "\n",
    "    def training(self):\n",
    "        for i in range(100):\n",
    "            atual, done = self.env.reset(random_init= True, seed= 42)\n",
    "            while not done:\n",
    "                action1 = self.act(atual)\n",
    "                proximo, r, done, features = self.env.step(action1)\n",
    "                action2 = self.act(atual)\n",
    "                self.Qtable[atual][action1] += self.alpha * (r + self.gamma * self.Qtable[proximo][action2] - self.Qtable[atual][action1])\n",
    "\n",
    "\n",
    "    def act(self, state):\n",
    "        if np.random.rand() < self.eps:\n",
    "            action = max(self.Qtable[state])\n",
    "        else:\n",
    "            action = Actions.sample()\n",
    "        return action\n",
    "    \n",
    "    \n",
    "    \n",
    "env = PacmanEnv.from_file('testMaze')\n",
    "sarsa = SARSAgent(0.8, 0.8, env, 0.8)\n",
    "sarsa.training()\n",
    "env.run_policy(sarsa, 100, 0, 1)\n",
    "    "
   ]
  },
  {
   "cell_type": "markdown",
   "metadata": {},
   "source": [
    "Ideas: analize different combinations of alpha, gamma and greed decay"
   ]
  },
  {
   "cell_type": "code",
   "execution_count": null,
   "metadata": {},
   "outputs": [],
   "source": []
  }
 ],
 "metadata": {
  "kernelspec": {
   "display_name": "Python 3",
   "language": "python",
   "name": "python3"
  },
  "language_info": {
   "codemirror_mode": {
    "name": "ipython",
    "version": 3
   },
   "file_extension": ".py",
   "mimetype": "text/x-python",
   "name": "python",
   "nbconvert_exporter": "python",
   "pygments_lexer": "ipython3",
   "version": "3.12.1"
  }
 },
 "nbformat": 4,
 "nbformat_minor": 2
}
