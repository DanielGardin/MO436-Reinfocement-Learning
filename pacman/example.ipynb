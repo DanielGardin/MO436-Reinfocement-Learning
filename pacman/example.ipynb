{
 "cells": [
  {
   "cell_type": "code",
   "execution_count": 4,
   "metadata": {},
   "outputs": [],
   "source": [
    "from env import PacmanEnv\n",
    "from actions import Actions"
   ]
  },
  {
   "cell_type": "code",
   "execution_count": 5,
   "metadata": {},
   "outputs": [
    {
     "name": "stdout",
     "output_type": "stream",
     "text": [
      "% % % % % % %\n",
      "%         \u001b[33mP\u001b[0m %\n",
      "%   % % %   %\n",
      "%     %     %\n",
      "% %       % %\n",
      "% .   % % % %\n",
      "% % % % % % %\n",
      "Score: 0\n"
     ]
    }
   ],
   "source": [
    "env = PacmanEnv.from_file('tinyMaze')\n",
    "env.reset()"
   ]
  },
  {
   "cell_type": "code",
   "execution_count": 6,
   "metadata": {},
   "outputs": [
    {
     "name": "stdout",
     "output_type": "stream",
     "text": [
      "% % % % % % %\n",
      "%       \u001b[33m<\u001b[0m   %\n",
      "%   % % %   %\n",
      "%     %     %\n",
      "% %       % %\n",
      "% .   % % % %\n",
      "% % % % % % %\n",
      "Score: -1\n"
     ]
    },
    {
     "data": {
      "text/plain": [
       "(<env.PacmanEnv at 0x7f5f802f2320>, -1, False)"
      ]
     },
     "execution_count": 6,
     "metadata": {},
     "output_type": "execute_result"
    }
   ],
   "source": [
    "env.step(Actions.LEFT)"
   ]
  },
  {
   "cell_type": "code",
   "execution_count": 7,
   "metadata": {},
   "outputs": [
    {
     "name": "stdout",
     "output_type": "stream",
     "text": [
      "% % % % % % %\n",
      "%     \u001b[33m<\u001b[0m     %\n",
      "%   % % %   %\n",
      "%     %     %\n",
      "% %       % %\n",
      "% .   % % % %\n",
      "% % % % % % %\n",
      "Score: -2\n"
     ]
    },
    {
     "data": {
      "text/plain": [
       "(<env.PacmanEnv at 0x7f5f802f2320>, -1, False)"
      ]
     },
     "execution_count": 7,
     "metadata": {},
     "output_type": "execute_result"
    }
   ],
   "source": [
    "env.step(Actions.LEFT)"
   ]
  },
  {
   "cell_type": "code",
   "execution_count": 8,
   "metadata": {},
   "outputs": [
    {
     "name": "stdout",
     "output_type": "stream",
     "text": [
      "% % % % % % %\n",
      "%   \u001b[33m<\u001b[0m       %\n",
      "%   % % %   %\n",
      "%     %     %\n",
      "% %       % %\n",
      "% .   % % % %\n",
      "% % % % % % %\n",
      "Score: -3\n"
     ]
    },
    {
     "data": {
      "text/plain": [
       "(<env.PacmanEnv at 0x7f5f802f2320>, -1, False)"
      ]
     },
     "execution_count": 8,
     "metadata": {},
     "output_type": "execute_result"
    }
   ],
   "source": [
    "env.step(Actions.LEFT)"
   ]
  },
  {
   "cell_type": "code",
   "execution_count": 9,
   "metadata": {},
   "outputs": [
    {
     "name": "stdout",
     "output_type": "stream",
     "text": [
      "% % % % % % %\n",
      "% \u001b[33m<\u001b[0m         %\n",
      "%   % % %   %\n",
      "%     %     %\n",
      "% %       % %\n",
      "% .   % % % %\n",
      "% % % % % % %\n",
      "Score: -4\n"
     ]
    },
    {
     "data": {
      "text/plain": [
       "(<env.PacmanEnv at 0x7f5f802f2320>, -1, False)"
      ]
     },
     "execution_count": 9,
     "metadata": {},
     "output_type": "execute_result"
    }
   ],
   "source": [
    "env.step(Actions.LEFT)"
   ]
  },
  {
   "cell_type": "code",
   "execution_count": 10,
   "metadata": {},
   "outputs": [
    {
     "name": "stdout",
     "output_type": "stream",
     "text": [
      "% % % % % % %\n",
      "%           %\n",
      "% \u001b[33mv\u001b[0m % % %   %\n",
      "%     %     %\n",
      "% %       % %\n",
      "% .   % % % %\n",
      "% % % % % % %\n",
      "Score: -5\n"
     ]
    },
    {
     "data": {
      "text/plain": [
       "(<env.PacmanEnv at 0x7f5f802f2320>, -1, False)"
      ]
     },
     "execution_count": 10,
     "metadata": {},
     "output_type": "execute_result"
    }
   ],
   "source": [
    "env.step(Actions.DOWN)"
   ]
  },
  {
   "cell_type": "code",
   "execution_count": 11,
   "metadata": {},
   "outputs": [
    {
     "name": "stdout",
     "output_type": "stream",
     "text": [
      "% % % % % % %\n",
      "%           %\n",
      "%   % % %   %\n",
      "% \u001b[33mv\u001b[0m   %     %\n",
      "% %       % %\n",
      "% .   % % % %\n",
      "% % % % % % %\n",
      "Score: -6\n"
     ]
    },
    {
     "data": {
      "text/plain": [
       "(<env.PacmanEnv at 0x7f5f802f2320>, -1, False)"
      ]
     },
     "execution_count": 11,
     "metadata": {},
     "output_type": "execute_result"
    }
   ],
   "source": [
    "env.step(Actions.DOWN)"
   ]
  },
  {
   "cell_type": "code",
   "execution_count": 12,
   "metadata": {},
   "outputs": [
    {
     "name": "stdout",
     "output_type": "stream",
     "text": [
      "% % % % % % %\n",
      "%           %\n",
      "%   % % %   %\n",
      "%   \u001b[33m>\u001b[0m %     %\n",
      "% %       % %\n",
      "% .   % % % %\n",
      "% % % % % % %\n",
      "Score: -7\n"
     ]
    },
    {
     "data": {
      "text/plain": [
       "(<env.PacmanEnv at 0x7f5f802f2320>, -1, False)"
      ]
     },
     "execution_count": 12,
     "metadata": {},
     "output_type": "execute_result"
    }
   ],
   "source": [
    "env.step(Actions.RIGHT)"
   ]
  },
  {
   "cell_type": "code",
   "execution_count": 13,
   "metadata": {},
   "outputs": [
    {
     "name": "stdout",
     "output_type": "stream",
     "text": [
      "% % % % % % %\n",
      "%           %\n",
      "%   % % %   %\n",
      "%     %     %\n",
      "% % \u001b[33mv\u001b[0m     % %\n",
      "% .   % % % %\n",
      "% % % % % % %\n",
      "Score: -8\n"
     ]
    },
    {
     "data": {
      "text/plain": [
       "(<env.PacmanEnv at 0x7f5f802f2320>, -1, False)"
      ]
     },
     "execution_count": 13,
     "metadata": {},
     "output_type": "execute_result"
    }
   ],
   "source": [
    "env.step(Actions.DOWN)"
   ]
  },
  {
   "cell_type": "code",
   "execution_count": 14,
   "metadata": {},
   "outputs": [
    {
     "name": "stdout",
     "output_type": "stream",
     "text": [
      "% % % % % % %\n",
      "%           %\n",
      "%   % % %   %\n",
      "%     %     %\n",
      "% %       % %\n",
      "% . \u001b[33mv\u001b[0m % % % %\n",
      "% % % % % % %\n",
      "Score: -9\n"
     ]
    },
    {
     "data": {
      "text/plain": [
       "(<env.PacmanEnv at 0x7f5f802f2320>, -1, False)"
      ]
     },
     "execution_count": 14,
     "metadata": {},
     "output_type": "execute_result"
    }
   ],
   "source": [
    "env.step(Actions.DOWN)"
   ]
  },
  {
   "cell_type": "code",
   "execution_count": 15,
   "metadata": {},
   "outputs": [
    {
     "name": "stdout",
     "output_type": "stream",
     "text": [
      "% % % % % % %\n",
      "%           %\n",
      "%   % % %   %\n",
      "%     %     %\n",
      "% %       % %\n",
      "% \u001b[33m<\u001b[0m   % % % %\n",
      "% % % % % % %\n",
      "Score: 500\n"
     ]
    },
    {
     "data": {
      "text/plain": [
       "(<env.PacmanEnv at 0x7f5f802f2320>, 509, True)"
      ]
     },
     "execution_count": 15,
     "metadata": {},
     "output_type": "execute_result"
    }
   ],
   "source": [
    "env.step(Actions.LEFT)"
   ]
  }
 ],
 "metadata": {
  "kernelspec": {
   "display_name": "base",
   "language": "python",
   "name": "python3"
  },
  "language_info": {
   "codemirror_mode": {
    "name": "ipython",
    "version": 3
   },
   "file_extension": ".py",
   "mimetype": "text/x-python",
   "name": "python",
   "nbconvert_exporter": "python",
   "pygments_lexer": "ipython3",
   "version": "3.10.9"
  }
 },
 "nbformat": 4,
 "nbformat_minor": 2
}
