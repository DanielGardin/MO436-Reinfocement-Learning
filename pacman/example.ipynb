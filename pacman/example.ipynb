{
 "cells": [
  {
   "cell_type": "code",
   "execution_count": 1,
   "metadata": {},
   "outputs": [],
   "source": [
    "from env import PacmanEnv\n",
    "from actions import Actions"
   ]
  },
  {
   "cell_type": "code",
   "execution_count": 2,
   "metadata": {},
   "outputs": [
    {
     "name": "stdout",
     "output_type": "stream",
     "text": [
      "% % % % % % % % % % % % % % % % % % % % % % %\n",
      "%                                           %\n",
      "%                                           %\n",
      "%                                           %\n",
      "%         \u001b[31mG\u001b[0m \u001b[36mG\u001b[0m \u001b[35mG\u001b[0m \u001b[32mG\u001b[0m \u001b[31mG\u001b[0m \u001b[36mG\u001b[0m \u001b[35mG\u001b[0m \u001b[32mG\u001b[0m \u001b[31mG\u001b[0m \u001b[36mG\u001b[0m \u001b[35mG\u001b[0m \u001b[32mG\u001b[0m \u001b[31mG\u001b[0m         %\n",
      "%       % % % % % % % % % % % % % % %       %\n",
      "%   \u001b[33mP\u001b[0m   % % % % % % % % % % % % % % %   .   %\n",
      "% % % % % % % % % % % % % % % % % % % % % % %\n",
      "Score: 0\n"
     ]
    }
   ],
   "source": [
    "env = PacmanEnv.from_file('gridWorld', ghost_names='ImmobileGhost')\n",
    "env.reset()"
   ]
  },
  {
   "cell_type": "code",
   "execution_count": 3,
   "metadata": {},
   "outputs": [],
   "source": [
    "from agents import RandomGhost"
   ]
  },
  {
   "cell_type": "code",
   "execution_count": 7,
   "metadata": {},
   "outputs": [
    {
     "name": "stdout",
     "output_type": "stream",
     "text": [
      "% % % % % % % % % % % % % % % % % % % % % % %\n",
      "%                                           %\n",
      "%                                           %\n",
      "%                                           %\n",
      "%         \u001b[31mG\u001b[0m \u001b[36mG\u001b[0m \u001b[35mG\u001b[0m \u001b[32mG\u001b[0m \u001b[31mG\u001b[0m \u001b[36mG\u001b[0m \u001b[35mG\u001b[0m \u001b[32mG\u001b[0m \u001b[31mG\u001b[0m \u001b[36mG\u001b[0m \u001b[35mG\u001b[0m \u001b[32mG\u001b[0m \u001b[31mG\u001b[0m         %\n",
      "%       % % % % % % % % % % % % % % %       %\n",
      "%   \u001b[33mP\u001b[0m   % % % % % % % % % % % % % % %   .   %\n",
      "% % % % % % % % % % % % % % % % % % % % % % %\n",
      "Score: 0\n",
      "% % % % % % % % % % % % % % % % % % % % % % %\n",
      "%                                           %\n",
      "%                                           %\n",
      "%                                           %\n",
      "%         \u001b[31mG\u001b[0m \u001b[36mG\u001b[0m \u001b[35mG\u001b[0m \u001b[32mG\u001b[0m \u001b[31mG\u001b[0m \u001b[36mG\u001b[0m \u001b[35mG\u001b[0m \u001b[32mG\u001b[0m \u001b[31mG\u001b[0m \u001b[36mG\u001b[0m \u001b[35mG\u001b[0m \u001b[32mG\u001b[0m \u001b[31mG\u001b[0m         %\n",
      "%   \u001b[33m^\u001b[0m   % % % % % % % % % % % % % % %       %\n",
      "%       % % % % % % % % % % % % % % %   .   %\n",
      "% % % % % % % % % % % % % % % % % % % % % % %\n",
      "Score: -1\n",
      "% % % % % % % % % % % % % % % % % % % % % % %\n",
      "%                                           %\n",
      "%                                           %\n",
      "%                                           %\n",
      "%   \u001b[33m^\u001b[0m     \u001b[31mG\u001b[0m \u001b[36mG\u001b[0m \u001b[35mG\u001b[0m \u001b[32mG\u001b[0m \u001b[31mG\u001b[0m \u001b[36mG\u001b[0m \u001b[35mG\u001b[0m \u001b[32mG\u001b[0m \u001b[31mG\u001b[0m \u001b[36mG\u001b[0m \u001b[35mG\u001b[0m \u001b[32mG\u001b[0m \u001b[31mG\u001b[0m         %\n",
      "%       % % % % % % % % % % % % % % %       %\n",
      "%       % % % % % % % % % % % % % % %   .   %\n",
      "% % % % % % % % % % % % % % % % % % % % % % %\n",
      "Score: -2\n",
      "% % % % % % % % % % % % % % % % % % % % % % %\n",
      "%                                           %\n",
      "%                                           %\n",
      "%   \u001b[33m^\u001b[0m                                       %\n",
      "%         \u001b[31mG\u001b[0m \u001b[36mG\u001b[0m \u001b[35mG\u001b[0m \u001b[32mG\u001b[0m \u001b[31mG\u001b[0m \u001b[36mG\u001b[0m \u001b[35mG\u001b[0m \u001b[32mG\u001b[0m \u001b[31mG\u001b[0m \u001b[36mG\u001b[0m \u001b[35mG\u001b[0m \u001b[32mG\u001b[0m \u001b[31mG\u001b[0m         %\n",
      "%       % % % % % % % % % % % % % % %       %\n",
      "%       % % % % % % % % % % % % % % %   .   %\n",
      "% % % % % % % % % % % % % % % % % % % % % % %\n",
      "Score: -3\n",
      "% % % % % % % % % % % % % % % % % % % % % % %\n",
      "%                                           %\n",
      "%   \u001b[33m^\u001b[0m                                       %\n",
      "%                                           %\n",
      "%         \u001b[31mG\u001b[0m \u001b[36mG\u001b[0m \u001b[35mG\u001b[0m \u001b[32mG\u001b[0m \u001b[31mG\u001b[0m \u001b[36mG\u001b[0m \u001b[35mG\u001b[0m \u001b[32mG\u001b[0m \u001b[31mG\u001b[0m \u001b[36mG\u001b[0m \u001b[35mG\u001b[0m \u001b[32mG\u001b[0m \u001b[31mG\u001b[0m         %\n",
      "%       % % % % % % % % % % % % % % %       %\n",
      "%       % % % % % % % % % % % % % % %   .   %\n",
      "% % % % % % % % % % % % % % % % % % % % % % %\n",
      "Score: -4\n",
      "% % % % % % % % % % % % % % % % % % % % % % %\n",
      "%                                           %\n",
      "%     \u001b[33m>\u001b[0m                                     %\n",
      "%                                           %\n",
      "%         \u001b[31mG\u001b[0m \u001b[36mG\u001b[0m \u001b[35mG\u001b[0m \u001b[32mG\u001b[0m \u001b[31mG\u001b[0m \u001b[36mG\u001b[0m \u001b[35mG\u001b[0m \u001b[32mG\u001b[0m \u001b[31mG\u001b[0m \u001b[36mG\u001b[0m \u001b[35mG\u001b[0m \u001b[32mG\u001b[0m \u001b[31mG\u001b[0m         %\n",
      "%       % % % % % % % % % % % % % % %       %\n",
      "%       % % % % % % % % % % % % % % %   .   %\n",
      "% % % % % % % % % % % % % % % % % % % % % % %\n",
      "Score: -5\n",
      "% % % % % % % % % % % % % % % % % % % % % % %\n",
      "%                                           %\n",
      "%       \u001b[33m>\u001b[0m                                   %\n",
      "%                                           %\n",
      "%         \u001b[31mG\u001b[0m \u001b[36mG\u001b[0m \u001b[35mG\u001b[0m \u001b[32mG\u001b[0m \u001b[31mG\u001b[0m \u001b[36mG\u001b[0m \u001b[35mG\u001b[0m \u001b[32mG\u001b[0m \u001b[31mG\u001b[0m \u001b[36mG\u001b[0m \u001b[35mG\u001b[0m \u001b[32mG\u001b[0m \u001b[31mG\u001b[0m         %\n",
      "%       % % % % % % % % % % % % % % %       %\n",
      "%       % % % % % % % % % % % % % % %   .   %\n",
      "% % % % % % % % % % % % % % % % % % % % % % %\n",
      "Score: -6\n",
      "% % % % % % % % % % % % % % % % % % % % % % %\n",
      "%                                           %\n",
      "%     \u001b[33m<\u001b[0m                                     %\n",
      "%                                           %\n",
      "%         \u001b[31mG\u001b[0m \u001b[36mG\u001b[0m \u001b[35mG\u001b[0m \u001b[32mG\u001b[0m \u001b[31mG\u001b[0m \u001b[36mG\u001b[0m \u001b[35mG\u001b[0m \u001b[32mG\u001b[0m \u001b[31mG\u001b[0m \u001b[36mG\u001b[0m \u001b[35mG\u001b[0m \u001b[32mG\u001b[0m \u001b[31mG\u001b[0m         %\n",
      "%       % % % % % % % % % % % % % % %       %\n",
      "%       % % % % % % % % % % % % % % %   .   %\n",
      "% % % % % % % % % % % % % % % % % % % % % % %\n",
      "Score: -7\n",
      "% % % % % % % % % % % % % % % % % % % % % % %\n",
      "%                                           %\n",
      "%   \u001b[33m<\u001b[0m                                       %\n",
      "%                                           %\n",
      "%         \u001b[31mG\u001b[0m \u001b[36mG\u001b[0m \u001b[35mG\u001b[0m \u001b[32mG\u001b[0m \u001b[31mG\u001b[0m \u001b[36mG\u001b[0m \u001b[35mG\u001b[0m \u001b[32mG\u001b[0m \u001b[31mG\u001b[0m \u001b[36mG\u001b[0m \u001b[35mG\u001b[0m \u001b[32mG\u001b[0m \u001b[31mG\u001b[0m         %\n",
      "%       % % % % % % % % % % % % % % %       %\n",
      "%       % % % % % % % % % % % % % % %   .   %\n",
      "% % % % % % % % % % % % % % % % % % % % % % %\n",
      "Score: -8\n",
      "% % % % % % % % % % % % % % % % % % % % % % %\n",
      "%   \u001b[33m^\u001b[0m                                       %\n",
      "%                                           %\n",
      "%                                           %\n",
      "%         \u001b[31mG\u001b[0m \u001b[36mG\u001b[0m \u001b[35mG\u001b[0m \u001b[32mG\u001b[0m \u001b[31mG\u001b[0m \u001b[36mG\u001b[0m \u001b[35mG\u001b[0m \u001b[32mG\u001b[0m \u001b[31mG\u001b[0m \u001b[36mG\u001b[0m \u001b[35mG\u001b[0m \u001b[32mG\u001b[0m \u001b[31mG\u001b[0m         %\n",
      "%       % % % % % % % % % % % % % % %       %\n",
      "%       % % % % % % % % % % % % % % %   .   %\n",
      "% % % % % % % % % % % % % % % % % % % % % % %\n",
      "Score: -9\n",
      "% % % % % % % % % % % % % % % % % % % % % % %\n",
      "% \u001b[33m<\u001b[0m                                         %\n",
      "%                                           %\n",
      "%                                           %\n",
      "%         \u001b[31mG\u001b[0m \u001b[36mG\u001b[0m \u001b[35mG\u001b[0m \u001b[32mG\u001b[0m \u001b[31mG\u001b[0m \u001b[36mG\u001b[0m \u001b[35mG\u001b[0m \u001b[32mG\u001b[0m \u001b[31mG\u001b[0m \u001b[36mG\u001b[0m \u001b[35mG\u001b[0m \u001b[32mG\u001b[0m \u001b[31mG\u001b[0m         %\n",
      "%       % % % % % % % % % % % % % % %       %\n",
      "%       % % % % % % % % % % % % % % %   .   %\n",
      "% % % % % % % % % % % % % % % % % % % % % % %\n",
      "Score: -10\n"
     ]
    },
    {
     "data": {
      "text/plain": [
       "[(<env.PacmanEnv at 0x7f684c2fe650>,\n",
       "  'Up',\n",
       "  -1,\n",
       "  <env.PacmanEnv at 0x7f684c2fe650>),\n",
       " (<env.PacmanEnv at 0x7f684c2fe650>,\n",
       "  'Up',\n",
       "  -1,\n",
       "  <env.PacmanEnv at 0x7f684c2fe650>),\n",
       " (<env.PacmanEnv at 0x7f684c2fe650>,\n",
       "  'Up',\n",
       "  -1,\n",
       "  <env.PacmanEnv at 0x7f684c2fe650>),\n",
       " (<env.PacmanEnv at 0x7f684c2fe650>,\n",
       "  'Up',\n",
       "  -1,\n",
       "  <env.PacmanEnv at 0x7f684c2fe650>),\n",
       " (<env.PacmanEnv at 0x7f684c2fe650>,\n",
       "  'Right',\n",
       "  -1,\n",
       "  <env.PacmanEnv at 0x7f684c2fe650>),\n",
       " (<env.PacmanEnv at 0x7f684c2fe650>,\n",
       "  'Right',\n",
       "  -1,\n",
       "  <env.PacmanEnv at 0x7f684c2fe650>),\n",
       " (<env.PacmanEnv at 0x7f684c2fe650>,\n",
       "  'Left',\n",
       "  -1,\n",
       "  <env.PacmanEnv at 0x7f684c2fe650>),\n",
       " (<env.PacmanEnv at 0x7f684c2fe650>,\n",
       "  'Left',\n",
       "  -1,\n",
       "  <env.PacmanEnv at 0x7f684c2fe650>),\n",
       " (<env.PacmanEnv at 0x7f684c2fe650>,\n",
       "  'Up',\n",
       "  -1,\n",
       "  <env.PacmanEnv at 0x7f684c2fe650>),\n",
       " (<env.PacmanEnv at 0x7f684c2fe650>,\n",
       "  'Left',\n",
       "  -1,\n",
       "  <env.PacmanEnv at 0x7f684c2fe650>)]"
      ]
     },
     "execution_count": 7,
     "metadata": {},
     "output_type": "execute_result"
    }
   ],
   "source": [
    "env.run_game(RandomGhost((2, 1)), 10)"
   ]
  },
  {
   "cell_type": "code",
   "execution_count": 3,
   "metadata": {},
   "outputs": [
    {
     "name": "stdout",
     "output_type": "stream",
     "text": [
      "% % % % % % % % % % % % % % % % % % % % % % %\n",
      "%                                           %\n",
      "%                                           %\n",
      "%                                           %\n",
      "%         \u001b[31mG\u001b[0m \u001b[36mG\u001b[0m \u001b[35mG\u001b[0m \u001b[32mG\u001b[0m \u001b[31mG\u001b[0m \u001b[36mG\u001b[0m \u001b[35mG\u001b[0m \u001b[32mG\u001b[0m \u001b[31mG\u001b[0m \u001b[36mG\u001b[0m \u001b[35mG\u001b[0m \u001b[32mG\u001b[0m \u001b[31mG\u001b[0m         %\n",
      "%       % % % % % % % % % % % % % % %       %\n",
      "% \u001b[33m<\u001b[0m     % % % % % % % % % % % % % % %   .   %\n",
      "% % % % % % % % % % % % % % % % % % % % % % %\n",
      "Score: -1\n"
     ]
    },
    {
     "data": {
      "text/plain": [
       "(<env.PacmanEnv at 0x7f59547d3430>, -1, False)"
      ]
     },
     "execution_count": 3,
     "metadata": {},
     "output_type": "execute_result"
    }
   ],
   "source": [
    "env.step(Actions.LEFT)"
   ]
  },
  {
   "cell_type": "code",
   "execution_count": 4,
   "metadata": {},
   "outputs": [
    {
     "name": "stdout",
     "output_type": "stream",
     "text": [
      "% % % % % % % % % % % % % % % % % % % % % % %\n",
      "%                                           %\n",
      "%                                           %\n",
      "%                                           %\n",
      "%         \u001b[31mG\u001b[0m \u001b[36mG\u001b[0m \u001b[35mG\u001b[0m \u001b[32mG\u001b[0m \u001b[31mG\u001b[0m \u001b[36mG\u001b[0m \u001b[35mG\u001b[0m \u001b[32mG\u001b[0m \u001b[31mG\u001b[0m \u001b[36mG\u001b[0m \u001b[35mG\u001b[0m \u001b[32mG\u001b[0m \u001b[31mG\u001b[0m         %\n",
      "%       % % % % % % % % % % % % % % %       %\n",
      "% \u001b[33m<\u001b[0m     % % % % % % % % % % % % % % %   .   %\n",
      "% % % % % % % % % % % % % % % % % % % % % % %\n",
      "Score: -2\n"
     ]
    },
    {
     "data": {
      "text/plain": [
       "(<env.PacmanEnv at 0x7f59547d3430>, -1, False)"
      ]
     },
     "execution_count": 4,
     "metadata": {},
     "output_type": "execute_result"
    }
   ],
   "source": [
    "env.step(Actions.LEFT)"
   ]
  },
  {
   "cell_type": "code",
   "execution_count": 5,
   "metadata": {},
   "outputs": [
    {
     "name": "stdout",
     "output_type": "stream",
     "text": [
      "% % % % % % % % % % % % % % % % % % % % % % %\n",
      "%                                           %\n",
      "%                                           %\n",
      "%                                           %\n",
      "%         \u001b[31mG\u001b[0m \u001b[36mG\u001b[0m \u001b[35mG\u001b[0m \u001b[32mG\u001b[0m \u001b[31mG\u001b[0m \u001b[36mG\u001b[0m \u001b[35mG\u001b[0m \u001b[32mG\u001b[0m \u001b[31mG\u001b[0m \u001b[36mG\u001b[0m \u001b[35mG\u001b[0m \u001b[32mG\u001b[0m \u001b[31mG\u001b[0m         %\n",
      "%       % % % % % % % % % % % % % % %       %\n",
      "% \u001b[33m<\u001b[0m     % % % % % % % % % % % % % % %   .   %\n",
      "% % % % % % % % % % % % % % % % % % % % % % %\n",
      "Score: -3\n"
     ]
    },
    {
     "data": {
      "text/plain": [
       "(<env.PacmanEnv at 0x7f59547d3430>, -1, False)"
      ]
     },
     "execution_count": 5,
     "metadata": {},
     "output_type": "execute_result"
    }
   ],
   "source": [
    "env.step(Actions.LEFT)"
   ]
  },
  {
   "cell_type": "code",
   "execution_count": 6,
   "metadata": {},
   "outputs": [
    {
     "name": "stdout",
     "output_type": "stream",
     "text": [
      "% % % % % % % % % % % % % % % % % % % % % % %\n",
      "%                                           %\n",
      "%                                           %\n",
      "%                                           %\n",
      "%         \u001b[31mG\u001b[0m \u001b[36mG\u001b[0m \u001b[35mG\u001b[0m \u001b[32mG\u001b[0m \u001b[31mG\u001b[0m \u001b[36mG\u001b[0m \u001b[35mG\u001b[0m \u001b[32mG\u001b[0m \u001b[31mG\u001b[0m \u001b[36mG\u001b[0m \u001b[35mG\u001b[0m \u001b[32mG\u001b[0m \u001b[31mG\u001b[0m         %\n",
      "% \u001b[33m^\u001b[0m     % % % % % % % % % % % % % % %       %\n",
      "%       % % % % % % % % % % % % % % %   .   %\n",
      "% % % % % % % % % % % % % % % % % % % % % % %\n",
      "Score: -4\n"
     ]
    },
    {
     "data": {
      "text/plain": [
       "(<env.PacmanEnv at 0x7f59547d3430>, -1, False)"
      ]
     },
     "execution_count": 6,
     "metadata": {},
     "output_type": "execute_result"
    }
   ],
   "source": [
    "env.step(Actions.UP)"
   ]
  },
  {
   "cell_type": "code",
   "execution_count": 7,
   "metadata": {},
   "outputs": [
    {
     "name": "stdout",
     "output_type": "stream",
     "text": [
      "% % % % % % % % % % % % % % % % % % % % % % %\n",
      "%                                           %\n",
      "%                                           %\n",
      "%                                           %\n",
      "% \u001b[33m^\u001b[0m       \u001b[31mG\u001b[0m \u001b[36mG\u001b[0m \u001b[35mG\u001b[0m \u001b[32mG\u001b[0m \u001b[31mG\u001b[0m \u001b[36mG\u001b[0m \u001b[35mG\u001b[0m \u001b[32mG\u001b[0m \u001b[31mG\u001b[0m \u001b[36mG\u001b[0m \u001b[35mG\u001b[0m \u001b[32mG\u001b[0m \u001b[31mG\u001b[0m         %\n",
      "%       % % % % % % % % % % % % % % %       %\n",
      "%       % % % % % % % % % % % % % % %   .   %\n",
      "% % % % % % % % % % % % % % % % % % % % % % %\n",
      "Score: -5\n"
     ]
    },
    {
     "data": {
      "text/plain": [
       "(<env.PacmanEnv at 0x7f59547d3430>, -1, False)"
      ]
     },
     "execution_count": 7,
     "metadata": {},
     "output_type": "execute_result"
    }
   ],
   "source": [
    "env.step(Actions.UP)"
   ]
  },
  {
   "cell_type": "code",
   "execution_count": 8,
   "metadata": {},
   "outputs": [
    {
     "name": "stdout",
     "output_type": "stream",
     "text": [
      "% % % % % % % % % % % % % % % % % % % % % % %\n",
      "%                                           %\n",
      "%                                           %\n",
      "% \u001b[33m^\u001b[0m                                         %\n",
      "%         \u001b[31mG\u001b[0m \u001b[36mG\u001b[0m \u001b[35mG\u001b[0m \u001b[32mG\u001b[0m \u001b[31mG\u001b[0m \u001b[36mG\u001b[0m \u001b[35mG\u001b[0m \u001b[32mG\u001b[0m \u001b[31mG\u001b[0m \u001b[36mG\u001b[0m \u001b[35mG\u001b[0m \u001b[32mG\u001b[0m \u001b[31mG\u001b[0m         %\n",
      "%       % % % % % % % % % % % % % % %       %\n",
      "%       % % % % % % % % % % % % % % %   .   %\n",
      "% % % % % % % % % % % % % % % % % % % % % % %\n",
      "Score: -6\n"
     ]
    },
    {
     "data": {
      "text/plain": [
       "(<env.PacmanEnv at 0x7f59547d3430>, -1, False)"
      ]
     },
     "execution_count": 8,
     "metadata": {},
     "output_type": "execute_result"
    }
   ],
   "source": [
    "env.step(Actions.UP)"
   ]
  },
  {
   "cell_type": "code",
   "execution_count": 9,
   "metadata": {},
   "outputs": [
    {
     "name": "stdout",
     "output_type": "stream",
     "text": [
      "% % % % % % % % % % % % % % % % % % % % % % %\n",
      "%                                           %\n",
      "% \u001b[33m^\u001b[0m                                         %\n",
      "%                                           %\n",
      "%         \u001b[31mG\u001b[0m \u001b[36mG\u001b[0m \u001b[35mG\u001b[0m \u001b[32mG\u001b[0m \u001b[31mG\u001b[0m \u001b[36mG\u001b[0m \u001b[35mG\u001b[0m \u001b[32mG\u001b[0m \u001b[31mG\u001b[0m \u001b[36mG\u001b[0m \u001b[35mG\u001b[0m \u001b[32mG\u001b[0m \u001b[31mG\u001b[0m         %\n",
      "%       % % % % % % % % % % % % % % %       %\n",
      "%       % % % % % % % % % % % % % % %   .   %\n",
      "% % % % % % % % % % % % % % % % % % % % % % %\n",
      "Score: -7\n"
     ]
    },
    {
     "data": {
      "text/plain": [
       "(<env.PacmanEnv at 0x7f59547d3430>, -1, False)"
      ]
     },
     "execution_count": 9,
     "metadata": {},
     "output_type": "execute_result"
    }
   ],
   "source": [
    "env.step(Actions.UP)"
   ]
  },
  {
   "cell_type": "code",
   "execution_count": 10,
   "metadata": {},
   "outputs": [
    {
     "name": "stdout",
     "output_type": "stream",
     "text": [
      "% % % % % % % % % % % % % % % % % % % % % % %\n",
      "% \u001b[33m^\u001b[0m                                         %\n",
      "%                                           %\n",
      "%                                           %\n",
      "%         \u001b[31mG\u001b[0m \u001b[36mG\u001b[0m \u001b[35mG\u001b[0m \u001b[32mG\u001b[0m \u001b[31mG\u001b[0m \u001b[36mG\u001b[0m \u001b[35mG\u001b[0m \u001b[32mG\u001b[0m \u001b[31mG\u001b[0m \u001b[36mG\u001b[0m \u001b[35mG\u001b[0m \u001b[32mG\u001b[0m \u001b[31mG\u001b[0m         %\n",
      "%       % % % % % % % % % % % % % % %       %\n",
      "%       % % % % % % % % % % % % % % %   .   %\n",
      "% % % % % % % % % % % % % % % % % % % % % % %\n",
      "Score: -8\n"
     ]
    },
    {
     "data": {
      "text/plain": [
       "(<env.PacmanEnv at 0x7f59547d3430>, -1, False)"
      ]
     },
     "execution_count": 10,
     "metadata": {},
     "output_type": "execute_result"
    }
   ],
   "source": [
    "env.step(Actions.UP)"
   ]
  },
  {
   "cell_type": "code",
   "execution_count": 11,
   "metadata": {},
   "outputs": [
    {
     "name": "stdout",
     "output_type": "stream",
     "text": [
      "% % % % % % % % % % % % % % % % % % % % % % %\n",
      "% \u001b[33m^\u001b[0m                                         %\n",
      "%                                           %\n",
      "%                                           %\n",
      "%         \u001b[31mG\u001b[0m \u001b[36mG\u001b[0m \u001b[35mG\u001b[0m \u001b[32mG\u001b[0m \u001b[31mG\u001b[0m \u001b[36mG\u001b[0m \u001b[35mG\u001b[0m \u001b[32mG\u001b[0m \u001b[31mG\u001b[0m \u001b[36mG\u001b[0m \u001b[35mG\u001b[0m \u001b[32mG\u001b[0m \u001b[31mG\u001b[0m         %\n",
      "%       % % % % % % % % % % % % % % %       %\n",
      "%       % % % % % % % % % % % % % % %   .   %\n",
      "% % % % % % % % % % % % % % % % % % % % % % %\n",
      "Score: -9\n"
     ]
    },
    {
     "data": {
      "text/plain": [
       "(<env.PacmanEnv at 0x7f59547d3430>, -1, False)"
      ]
     },
     "execution_count": 11,
     "metadata": {},
     "output_type": "execute_result"
    }
   ],
   "source": [
    "env.step(Actions.UP)"
   ]
  },
  {
   "cell_type": "code",
   "execution_count": 12,
   "metadata": {},
   "outputs": [
    {
     "name": "stdout",
     "output_type": "stream",
     "text": [
      "% % % % % % % % % % % % % % % % % % % % % % %\n",
      "%   \u001b[33m>\u001b[0m                                       %\n",
      "%                                           %\n",
      "%                                           %\n",
      "%         \u001b[31mG\u001b[0m \u001b[36mG\u001b[0m \u001b[35mG\u001b[0m \u001b[32mG\u001b[0m \u001b[31mG\u001b[0m \u001b[36mG\u001b[0m \u001b[35mG\u001b[0m \u001b[32mG\u001b[0m \u001b[31mG\u001b[0m \u001b[36mG\u001b[0m \u001b[35mG\u001b[0m \u001b[32mG\u001b[0m \u001b[31mG\u001b[0m         %\n",
      "%       % % % % % % % % % % % % % % %       %\n",
      "%       % % % % % % % % % % % % % % %   .   %\n",
      "% % % % % % % % % % % % % % % % % % % % % % %\n",
      "Score: -10\n"
     ]
    },
    {
     "data": {
      "text/plain": [
       "(<env.PacmanEnv at 0x7f59547d3430>, -1, False)"
      ]
     },
     "execution_count": 12,
     "metadata": {},
     "output_type": "execute_result"
    }
   ],
   "source": [
    "env.step(Actions.RIGHT)"
   ]
  },
  {
   "cell_type": "code",
   "execution_count": null,
   "metadata": {},
   "outputs": [],
   "source": []
  }
 ],
 "metadata": {
  "kernelspec": {
   "display_name": "base",
   "language": "python",
   "name": "python3"
  },
  "language_info": {
   "codemirror_mode": {
    "name": "ipython",
    "version": 3
   },
   "file_extension": ".py",
   "mimetype": "text/x-python",
   "name": "python",
   "nbconvert_exporter": "python",
   "pygments_lexer": "ipython3",
   "version": "3.10.9"
  }
 },
 "nbformat": 4,
 "nbformat_minor": 2
}
