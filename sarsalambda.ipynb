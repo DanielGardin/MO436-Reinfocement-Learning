{
 "cells": [
  {
   "cell_type": "code",
   "execution_count": 1,
   "metadata": {},
   "outputs": [],
   "source": [
    "from pacman.actions import Actions\n",
    "from pacman.agents import Agent\n",
    "from pacman.env import PacmanEnv\n",
    "import numpy as np\n",
    "from collections import defaultdict"
   ]
  },
  {
   "cell_type": "code",
   "execution_count": 2,
   "metadata": {},
   "outputs": [],
   "source": [
    "class SARSAgent(Agent):\n",
    "    def __init__(self, alpha, gamma, env, eps):\n",
    "        self.alpha  = alpha\n",
    "        self.gamma  = gamma\n",
    "        self.env    = env\n",
    "        self.eps    = eps\n",
    "        self.Qtable = defaultdict(lambda : {action: 0 for action in Actions.actions})\n",
    "\n",
    "\n",
    "    def training(self, n_episodes=1000):\n",
    "        for i in range(n_episodes):\n",
    "            state, done = self.env.reset()\n",
    "            action = self.act(state)\n",
    "\n",
    "            while not done:\n",
    "                next_state, reward, done, info = self.env.step(action)\n",
    "                next_action = self.act(next_state)\n",
    "                self.Qtable[state][action] += self.alpha * (reward + self.gamma * self.Qtable[next_state][next_action] - self.Qtable[state][action])\n",
    "\n",
    "                state  = next_state\n",
    "                action = next_action\n",
    "\n",
    "            self.eps = 0.99 * self.eps\n",
    "\n",
    "\n",
    "    def act(self, state):\n",
    "        if np.random.rand() > self.eps:\n",
    "            action = max(self.Qtable[state], key=self.Qtable[state].get)\n",
    "\n",
    "        else:\n",
    "            action = Actions.sample()\n",
    "\n",
    "        return action\n",
    "\n",
    "\n",
    "    def eval(self):\n",
    "        self.eps = 0\n",
    "\n",
    "\n",
    "env = PacmanEnv.from_file('testMaze',render_mode=None)\n",
    "sarsa = SARSAgent(0.8, 0.9, env, 0.8)\n",
    "sarsa.training()"
   ]
  },
  {
   "cell_type": "code",
   "execution_count": 4,
   "metadata": {},
   "outputs": [
    {
     "name": "stdout",
     "output_type": "stream",
     "text": [
      "% % % % % % % % %\n",
      "% \u001b[33m^\u001b[0m %       %   %\n",
      "%   %   %   %   %\n",
      "%   %   %   %   %\n",
      "%       %       %\n",
      "% % % % % % % % %\n",
      "Score: 51\n"
     ]
    },
    {
     "data": {
      "text/plain": [
       "[((7, 4), 'Down', 0, (7, 3)),\n",
       " ((7, 3), 'Down', 0, (7, 2)),\n",
       " ((7, 2), 'Down', 0, (7, 1)),\n",
       " ((7, 1), 'Left', 0, (6, 1)),\n",
       " ((6, 1), 'Left', 0, (5, 1)),\n",
       " ((5, 1), 'Up', 0, (5, 2)),\n",
       " ((5, 2), 'Up', 0, (5, 3)),\n",
       " ((5, 3), 'Up', 0, (5, 4)),\n",
       " ((5, 4), 'Left', 0, (4, 4)),\n",
       " ((4, 4), 'Left', 0, (3, 4)),\n",
       " ((3, 4), 'Down', 0, (3, 3)),\n",
       " ((3, 3), 'Down', 0, (3, 2)),\n",
       " ((3, 2), 'Down', 0, (3, 1)),\n",
       " ((3, 1), 'Left', 0, (2, 1)),\n",
       " ((2, 1), 'Left', 0, (1, 1)),\n",
       " ((1, 1), 'Up', 0, (1, 2)),\n",
       " ((1, 2), 'Up', 0, (1, 3)),\n",
       " ((1, 3), 'Up', 51, (1, 4))]"
      ]
     },
     "execution_count": 4,
     "metadata": {},
     "output_type": "execute_result"
    }
   ],
   "source": [
    "sarsa.eval()\n",
    "env.set_render('ansi')\n",
    "env.run_policy(sarsa, 100, 0, 1)"
   ]
  },
  {
   "cell_type": "code",
   "execution_count": null,
   "metadata": {},
   "outputs": [],
   "source": []
  }
 ],
 "metadata": {
  "kernelspec": {
   "display_name": "Python 3",
   "language": "python",
   "name": "python3"
  },
  "language_info": {
   "codemirror_mode": {
    "name": "ipython",
    "version": 3
   },
   "file_extension": ".py",
   "mimetype": "text/x-python",
   "name": "python",
   "nbconvert_exporter": "python",
   "pygments_lexer": "ipython3",
   "version": "3.8.10"
  }
 },
 "nbformat": 4,
 "nbformat_minor": 2
}
