{
 "cells": [
  {
   "cell_type": "code",
   "execution_count": 1,
   "metadata": {},
   "outputs": [],
   "source": [
    "from pacman.actions import Actions\n",
    "from pacman.agents import Agent\n",
    "from pacman.env import PacmanEnv\n",
    "import numpy as np\n",
    "from collections import defaultdict"
   ]
  },
  {
   "cell_type": "markdown",
   "metadata": {},
   "source": [
    "SARSA LAMBDA "
   ]
  },
  {
   "cell_type": "code",
   "execution_count": 6,
   "metadata": {},
   "outputs": [],
   "source": [
    "class SARSAgent(Agent):\n",
    "    def __init__(self, env, alpha, gamma , epsilon, lmbda):\n",
    "        self.alpha   = alpha\n",
    "        self.gamma   = gamma\n",
    "        self.env     = env\n",
    "        self.epsilon = epsilon\n",
    "        self.Qtable  = defaultdict(lambda : {action: 0 for action in Actions.actions})\n",
    "        self.lmbda   = lmbda\n",
    "\n",
    "\n",
    "    def train(self, max_episodes=None, tol=1e-7):\n",
    "        curr_epsiode = 0\n",
    "        if max_episodes is None:\n",
    "            max_episodes = np.inf\n",
    "\n",
    "\n",
    "        while curr_epsiode < max_episodes:\n",
    "            errors = []\n",
    "            \n",
    "            Etable  = defaultdict(lambda : {action: 0 for action in Actions.actions})\n",
    "\n",
    "            state, done = self.env.reset()\n",
    "            action = self.act(state)\n",
    "\n",
    "            while not done:\n",
    "                Etable[state][action] = Etable[state][action] + 1\n",
    "\n",
    "                next_state, reward, done, info = self.env.step(action)\n",
    "                next_action = self.act(next_state)\n",
    "\n",
    "                td_error = reward + self.gamma * self.Qtable[next_state][next_action] - self.Qtable[state][action]\n",
    "\n",
    "                errors.append(abs(td_error))\n",
    "\n",
    "                self.update_tables(Etable, td_error)\n",
    "\n",
    "                state  = next_state\n",
    "                action = next_action\n",
    "\n",
    "            self.epsilon = 0.99 * self.epsilon\n",
    "\n",
    "            if max(errors) < tol:\n",
    "                break\n",
    "\n",
    "\n",
    "    def act(self, state):\n",
    "        if np.random.rand() > self.epsilon:\n",
    "            action = max(self.Qtable[state], key=self.Qtable[state].get)\n",
    "\n",
    "        else:\n",
    "            action = Actions.sample()\n",
    "\n",
    "        return action\n",
    "\n",
    "\n",
    "    def eval(self):\n",
    "        self.epsilon = 0\n",
    "\n",
    "    def update_tables(self, Etable, td_error):\n",
    "        for state in Etable:\n",
    "            for action in Actions.actions:\n",
    "                self.Qtable[state][action] += td_error * self.alpha * Etable[state][action]\n",
    "                Etable[state][action] *= self.gamma * self.lmbda\n",
    "\n",
    "\n",
    "\n",
    "            \n",
    "\n",
    "\n",
    "env = PacmanEnv.contourDanger(7, ghost_name= \"FollowGhost\",render_mode=None, config={\"TIME_PENALTY\" : 1})\n",
    "sarsa = SARSAgent(env, 0.2, 0.99, 1, 0.2)\n",
    "sarsa.train()"
   ]
  },
  {
   "cell_type": "code",
   "execution_count": 7,
   "metadata": {},
   "outputs": [
    {
     "name": "stdout",
     "output_type": "stream",
     "text": [
      "% % % % % % % % %\n",
      "% \u001b[33m<\u001b[0m \u001b[31mE\u001b[0m           %\n",
      "%               %\n",
      "%               %\n",
      "%               %\n",
      "%               %\n",
      "%               %\n",
      "%               %\n",
      "% % % % % % % % %\n",
      "Score: 19\n"
     ]
    },
    {
     "data": {
      "text/plain": [
       "[(((4, 4), (0.0,), ((2, 6),), (0,)),\n",
       "  'Right',\n",
       "  -1,\n",
       "  ((5, 4), (0.0,), ((2.0, 5.0),), (0,))),\n",
       " (((5, 4), (0.0,), ((2.0, 5.0),), (0,)),\n",
       "  'Up',\n",
       "  -1,\n",
       "  ((5, 5), (0.0,), ((2.0, 4.0),), (0,))),\n",
       " (((5, 5), (0.0,), ((2.0, 4.0),), (0,)),\n",
       "  'Up',\n",
       "  -1,\n",
       "  ((5, 6), (0.0,), ((2.0, 5.0),), (0,))),\n",
       " (((5, 6), (0.0,), ((2.0, 5.0),), (0,)),\n",
       "  'Down',\n",
       "  -1,\n",
       "  ((5, 5), (0.0,), ((2.0, 6.0),), (0,))),\n",
       " (((5, 5), (0.0,), ((2.0, 6.0),), (0,)),\n",
       "  'Left',\n",
       "  -1,\n",
       "  ((4, 5), (0.0,), ((2.0, 5.0),), (0,))),\n",
       " (((4, 5), (0.0,), ((2.0, 5.0),), (0,)),\n",
       "  'Up',\n",
       "  -1,\n",
       "  ((4, 6), (0.0,), ((3.0, 5.0),), (0,))),\n",
       " (((4, 6), (0.0,), ((3.0, 5.0),), (0,)),\n",
       "  'Up',\n",
       "  -1,\n",
       "  ((4, 7), (0.0,), ((3.0, 6.0),), (0,))),\n",
       " (((4, 7), (0.0,), ((3.0, 6.0),), (0,)),\n",
       "  'Up',\n",
       "  -2,\n",
       "  ((4, 7), (0.0,), ((3.0, 7.0),), (0,))),\n",
       " (((4, 7), (0.0,), ((3.0, 7.0),), (0,)),\n",
       "  'Left',\n",
       "  -21,\n",
       "  ((3, 7), (0.0,), ((4.0, 7.0),), (0,))),\n",
       " (((3, 7), (0.0,), ((4.0, 7.0),), (0,)),\n",
       "  'Left',\n",
       "  -1,\n",
       "  ((2, 7), (0.0,), ((3.0, 7.0),), (0,))),\n",
       " (((2, 7), (0.0,), ((3.0, 7.0),), (0,)),\n",
       "  'Left',\n",
       "  50,\n",
       "  ((1, 7), (1.0,), ((2.0, 7.0),), (0,)))]"
      ]
     },
     "execution_count": 7,
     "metadata": {},
     "output_type": "execute_result"
    }
   ],
   "source": [
    "sarsa.eval()\n",
    "env.set_render('ansi')\n",
    "env.run_policy(sarsa, 0, 1)"
   ]
  },
  {
   "cell_type": "code",
   "execution_count": null,
   "metadata": {},
   "outputs": [],
   "source": []
  }
 ],
 "metadata": {
  "kernelspec": {
   "display_name": "Python 3",
   "language": "python",
   "name": "python3"
  },
  "language_info": {
   "codemirror_mode": {
    "name": "ipython",
    "version": 3
   },
   "file_extension": ".py",
   "mimetype": "text/x-python",
   "name": "python",
   "nbconvert_exporter": "python",
   "pygments_lexer": "ipython3",
   "version": "3.12.1"
  }
 },
 "nbformat": 4,
 "nbformat_minor": 2
}
