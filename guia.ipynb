{
 "cells": [
  {
   "cell_type": "markdown",
   "metadata": {},
   "source": [
    "O objetivo desse notebook é guiar a criação de agentes para implementação de algoritmos para resolver o problema do PACMAN utilizando Aprendizado por Reforço."
   ]
  },
  {
   "cell_type": "code",
   "execution_count": 2,
   "metadata": {},
   "outputs": [],
   "source": [
    "from pacman.actions import Actions\n",
    "from pacman.agents import Agent"
   ]
  },
  {
   "cell_type": "markdown",
   "metadata": {},
   "source": [
    "`Actions` é uma classe (Enum) que armazena as Ações que nosso agente pode tomar. Para acessar um ação basta utilizar uma das possíveis:\n",
    "\n",
    "- `Actions.UP`\n",
    "- `Actions.DOWN`\n",
    "- `Actions.LEFT`\n",
    "- `Actions.RIGHT`\n",
    "\n",
    "Nosso agente deve ser da classe `Agent`. Para que nosso agente consiga se comunicar com o ambiente, devemos criar um ambiente do pacman que nos retorne um estado. Para isso, utilizaremos a classe `PacmanEnv`"
   ]
  },
  {
   "cell_type": "code",
   "execution_count": 3,
   "metadata": {},
   "outputs": [
    {
     "name": "stdout",
     "output_type": "stream",
     "text": [
      "% % % % % % % % %\n",
      "% . %       % \u001b[33mP\u001b[0m %\n",
      "%   %   %   %   %\n",
      "%   %   %   %   %\n",
      "%       %       %\n",
      "% % % % % % % % %\n",
      "Score: 0\n"
     ]
    }
   ],
   "source": [
    "from pacman.env import PacmanEnv\n",
    "\n",
    "# Carregar o ambiente da pasta pacman/layout\n",
    "env = PacmanEnv.from_file('testMaze')\n",
    "\n",
    "# Iniciar o ambiente\n",
    "env.reset()"
   ]
  },
  {
   "cell_type": "code",
   "execution_count": 4,
   "metadata": {},
   "outputs": [
    {
     "name": "stdout",
     "output_type": "stream",
     "text": [
      "% % % % % % % % %\n",
      "% . %       %   %\n",
      "%   %   %   % \u001b[33mv\u001b[0m %\n",
      "%   %   %   %   %\n",
      "%       %       %\n",
      "% % % % % % % % %\n",
      "Score: -1\n"
     ]
    },
    {
     "data": {
      "text/plain": [
       "(<pacman.env.PacmanEnv at 0x7fbbbc22b1f0>, -1, False)"
      ]
     },
     "execution_count": 4,
     "metadata": {},
     "output_type": "execute_result"
    }
   ],
   "source": [
    "env.step(Actions.DOWN)"
   ]
  },
  {
   "cell_type": "markdown",
   "metadata": {},
   "source": [
    "```python\n",
    "\n",
    "agent.act(env.observation()) -> Actions\n",
    "\n",
    "```"
   ]
  },
  {
   "cell_type": "code",
   "execution_count": 5,
   "metadata": {},
   "outputs": [],
   "source": [
    "from pacman.utils import discrete\n",
    "\n",
    "class GoAhead(Agent):\n",
    "    def __init__(self) -> None:\n",
    "        super().__init__()\n",
    "        self.visited = set()\n",
    "\n",
    "    def act(self, state:PacmanEnv):\n",
    "        for action in Actions.actions:\n",
    "            pos = discrete(Actions.apply_action(state.position, action))\n",
    "            if not state.haswall(pos) and pos not in self.visited: \n",
    "                self.visited.add(state.position)\n",
    "                return action"
   ]
  },
  {
   "cell_type": "code",
   "execution_count": 8,
   "metadata": {},
   "outputs": [
    {
     "name": "stdout",
     "output_type": "stream",
     "text": [
      "% % % % % % % % %\n",
      "% . %       % \u001b[33mP\u001b[0m %\n",
      "%   %   %   %   %\n",
      "%   %   %   %   %\n",
      "%       %       %\n",
      "% % % % % % % % %\n",
      "Score: 0\n",
      "% % % % % % % % %\n",
      "% . %       %   %\n",
      "%   %   %   % \u001b[33mv\u001b[0m %\n",
      "%   %   %   %   %\n",
      "%       %       %\n",
      "% % % % % % % % %\n",
      "Score: -1\n",
      "% % % % % % % % %\n",
      "% . %       %   %\n",
      "%   %   %   %   %\n",
      "%   %   %   % \u001b[33mv\u001b[0m %\n",
      "%       %       %\n",
      "% % % % % % % % %\n",
      "Score: -2\n",
      "% % % % % % % % %\n",
      "% . %       %   %\n",
      "%   %   %   %   %\n",
      "%   %   %   %   %\n",
      "%       %     \u001b[33mv\u001b[0m %\n",
      "% % % % % % % % %\n",
      "Score: -3\n",
      "% % % % % % % % %\n",
      "% . %       %   %\n",
      "%   %   %   %   %\n",
      "%   %   %   %   %\n",
      "%       %   \u001b[33m<\u001b[0m   %\n",
      "% % % % % % % % %\n",
      "Score: -4\n",
      "% % % % % % % % %\n",
      "% . %       %   %\n",
      "%   %   %   %   %\n",
      "%   %   %   %   %\n",
      "%       % \u001b[33m<\u001b[0m     %\n",
      "% % % % % % % % %\n",
      "Score: -5\n",
      "% % % % % % % % %\n",
      "% . %       %   %\n",
      "%   %   %   %   %\n",
      "%   %   % \u001b[33m^\u001b[0m %   %\n",
      "%       %       %\n",
      "% % % % % % % % %\n",
      "Score: -6\n",
      "% % % % % % % % %\n",
      "% . %       %   %\n",
      "%   %   % \u001b[33m^\u001b[0m %   %\n",
      "%   %   %   %   %\n",
      "%       %       %\n",
      "% % % % % % % % %\n",
      "Score: -7\n",
      "% % % % % % % % %\n",
      "% . %     \u001b[33m^\u001b[0m %   %\n",
      "%   %   %   %   %\n",
      "%   %   %   %   %\n",
      "%       %       %\n",
      "% % % % % % % % %\n",
      "Score: -8\n",
      "% % % % % % % % %\n",
      "% . %   \u001b[33m<\u001b[0m   %   %\n",
      "%   %   %   %   %\n",
      "%   %   %   %   %\n",
      "%       %       %\n",
      "% % % % % % % % %\n",
      "Score: -9\n",
      "% % % % % % % % %\n",
      "% . % \u001b[33m<\u001b[0m     %   %\n",
      "%   %   %   %   %\n",
      "%   %   %   %   %\n",
      "%       %       %\n",
      "% % % % % % % % %\n",
      "Score: -10\n",
      "% % % % % % % % %\n",
      "% . %       %   %\n",
      "%   % \u001b[33mv\u001b[0m %   %   %\n",
      "%   %   %   %   %\n",
      "%       %       %\n",
      "% % % % % % % % %\n",
      "Score: -11\n",
      "% % % % % % % % %\n",
      "% . %       %   %\n",
      "%   %   %   %   %\n",
      "%   % \u001b[33mv\u001b[0m %   %   %\n",
      "%       %       %\n",
      "% % % % % % % % %\n",
      "Score: -12\n",
      "% % % % % % % % %\n",
      "% . %       %   %\n",
      "%   %   %   %   %\n",
      "%   %   %   %   %\n",
      "%     \u001b[33mv\u001b[0m %       %\n",
      "% % % % % % % % %\n",
      "Score: -13\n",
      "% % % % % % % % %\n",
      "% . %       %   %\n",
      "%   %   %   %   %\n",
      "%   %   %   %   %\n",
      "%   \u001b[33m<\u001b[0m   %       %\n",
      "% % % % % % % % %\n",
      "Score: -14\n",
      "% % % % % % % % %\n",
      "% . %       %   %\n",
      "%   %   %   %   %\n",
      "%   %   %   %   %\n",
      "% \u001b[33m<\u001b[0m     %       %\n",
      "% % % % % % % % %\n",
      "Score: -15\n",
      "% % % % % % % % %\n",
      "% . %       %   %\n",
      "%   %   %   %   %\n",
      "% \u001b[33m^\u001b[0m %   %   %   %\n",
      "%       %       %\n",
      "% % % % % % % % %\n",
      "Score: -16\n",
      "% % % % % % % % %\n",
      "% . %       %   %\n",
      "% \u001b[33m^\u001b[0m %   %   %   %\n",
      "%   %   %   %   %\n",
      "%       %       %\n",
      "% % % % % % % % %\n",
      "Score: -17\n",
      "% % % % % % % % %\n",
      "% \u001b[33m^\u001b[0m %       %   %\n",
      "%   %   %   %   %\n",
      "%   %   %   %   %\n",
      "%       %       %\n",
      "% % % % % % % % %\n",
      "Score: 492\n"
     ]
    }
   ],
   "source": [
    "env.run_game(GoAhead());"
   ]
  }
 ],
 "metadata": {
  "kernelspec": {
   "display_name": "base",
   "language": "python",
   "name": "python3"
  },
  "language_info": {
   "codemirror_mode": {
    "name": "ipython",
    "version": 3
   },
   "file_extension": ".py",
   "mimetype": "text/x-python",
   "name": "python",
   "nbconvert_exporter": "python",
   "pygments_lexer": "ipython3",
   "version": "3.10.9"
  }
 },
 "nbformat": 4,
 "nbformat_minor": 2
}
