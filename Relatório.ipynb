{
 "cells": [
  {
   "cell_type": "markdown",
   "metadata": {},
   "source": [
    "# Reinforcement Learning (MO436)\n",
    "\n",
    "Autores:\n",
    "\n",
    "**Aline Cavalca Caravlho Soares de Azevedo** (RA: )\n",
    "\n",
    "**Beatriz Cardoso Nascimento**               (RA: )\n",
    "\n",
    "**Daniel Gardin Gratti**                     (RA: 214729)\n",
    "\n",
    "**Guilhermo de Luiggi Mocelim de Oliveira** (RA: )\n",
    "\n",
    "\n",
    "## Introdução"
   ]
  },
  {
   "cell_type": "code",
   "execution_count": 1,
   "metadata": {},
   "outputs": [],
   "source": [
    "from collections import defaultdict\n",
    "from pacman.actions import Actions\n",
    "from pacman.env import PacmanEnv\n",
    "from pacman.agents import Agent\n",
    "from typing import Any\n",
    "\n",
    "import matplotlib.pyplot as plt\n",
    "import numpy as np"
   ]
  },
  {
   "cell_type": "code",
   "execution_count": 3,
   "metadata": {},
   "outputs": [],
   "source": [
    "env = PacmanEnv.contourDanger(7, ghost_name= \"FollowGhost\")"
   ]
  },
  {
   "cell_type": "markdown",
   "metadata": {},
   "source": [
    "### Monte Carlo"
   ]
  },
  {
   "cell_type": "code",
   "execution_count": 76,
   "metadata": {},
   "outputs": [],
   "source": [
    "class MonteCarlo(Agent):\n",
    "    def __init__(self, env, gamma, alpha=None, N0=1):\n",
    "        self.env    = env\n",
    "        self.gamma  = gamma\n",
    "        self.alpha = alpha\n",
    "        self.N0    = N0\n",
    "        \n",
    "        self.Qtable = defaultdict(lambda : {action: 0 for action in Actions.actions})\n",
    "    \n",
    "    def train(self, max_episodes=1000):\n",
    "        curr_episode = 0\n",
    "\n",
    "        history = {\n",
    "            \"cumulative reward\"  : [],\n",
    "            \"episode error\" : []\n",
    "        }\n",
    "\n",
    "        Ntable  = defaultdict(lambda : {action: 0 for action in Actions.actions})\n",
    "\n",
    "        while curr_episode < max_episodes:\n",
    "\n",
    "            state, done = self.env.reset()\n",
    "            cumulative_reward = 0\n",
    "            cumulative_error  = 0\n",
    "\n",
    "            while not done:\n",
    "                epsilon = self.N0 / (self.N0 + sum(Ntable[state].values()))\n",
    "\n",
    "                action = self.act(state, epsilon)\n",
    "                next_state, reward, done, info = self.env.step(action)\n",
    "\n",
    "                Ntable[state][action] += 1\n",
    "               \n",
    "                cumulative_reward = (self.gamma * cumulative_reward) + reward\n",
    "\n",
    "                alpha = 1/Ntable[state][action] if self.alpha is None else self.alpha\n",
    "\n",
    "                error = (cumulative_reward - self.Qtable[state][action])\n",
    "\n",
    "                cumulative_error += abs(error)\n",
    "\n",
    "                self.Qtable[state][action] += alpha * error\n",
    "\n",
    "                state  = next_state\n",
    "\n",
    "            history[\"cumulative reward\"].append(cumulative_reward)\n",
    "            history[\"episode error\"].append(cumulative_error)\n",
    "\n",
    "            curr_episode += 1\n",
    "        \n",
    "        return history\n",
    "\n",
    "\n",
    "    def act(self, state, epsilon=0):\n",
    "        if np.random.rand() > epsilon:\n",
    "            action = max(self.Qtable[state], key=self.Qtable[state].get)\n",
    "\n",
    "        else:\n",
    "            action = Actions.sample()\n",
    "\n",
    "        return action"
   ]
  },
  {
   "cell_type": "code",
   "execution_count": 95,
   "metadata": {},
   "outputs": [],
   "source": [
    "monte_carlo = MonteCarlo(env.set_render(None), 0.99)\n",
    "mc_history = monte_carlo.train(10000)"
   ]
  },
  {
   "cell_type": "code",
   "execution_count": 96,
   "metadata": {},
   "outputs": [
    {
     "name": "stdout",
     "output_type": "stream",
     "text": [
      "% % % % % % % % %\n",
      "% \u001b[33m^\u001b[0m             %\n",
      "% \u001b[31mM\u001b[0m             %\n",
      "%               %\n",
      "%               %\n",
      "%               %\n",
      "%               %\n",
      "%               %\n",
      "% % % % % % % % %\n",
      "Score: 1\n"
     ]
    }
   ],
   "source": [
    "env.set_render('ansi')\n",
    "env.run_policy(monte_carlo, 0, .5);"
   ]
  },
  {
   "cell_type": "code",
   "execution_count": 97,
   "metadata": {},
   "outputs": [
    {
     "data": {
      "text/plain": [
       "[<matplotlib.lines.Line2D at 0x7f13edc22bf0>]"
      ]
     },
     "execution_count": 97,
     "metadata": {},
     "output_type": "execute_result"
    },
    {
     "data": {
      "image/png": "[encoded data removed]",
      "text/plain": [
       "<Figure size 640x480 with 1 Axes>"
      ]
     },
     "metadata": {},
     "output_type": "display_data"
    }
   ],
   "source": [
    "plt.plot(mc_history[\"cumulative reward\"])"
   ]
  },
  {
   "cell_type": "markdown",
   "metadata": {},
   "source": [
    "### Q-Learning"
   ]
  },
  {
   "cell_type": "code",
   "execution_count": 85,
   "metadata": {},
   "outputs": [],
   "source": [
    "class QLearning(Agent):\n",
    "    def __init__(self, env, gamma, alpha=None, N0=1):\n",
    "        self.env   = env\n",
    "        self.gamma = gamma\n",
    "        self.alpha = alpha\n",
    "        self.N0    = N0\n",
    "        \n",
    "        self.Qtable = defaultdict(lambda : {action: 0 for action in Actions.actions})  # type: ignore\n",
    "\n",
    "    \n",
    "    def train(self, max_episodes=None, tol=1e-7):\n",
    "        curr_episode = 0\n",
    "\n",
    "        history = {\n",
    "            \"cumulative reward\"  : [],\n",
    "            \"episode error\" : []\n",
    "        }\n",
    "\n",
    "        Ntable = defaultdict(lambda : {action: 0 for action in Actions.actions})\n",
    "\n",
    "        while curr_episode < max_episodes:\n",
    "\n",
    "            state, done = self.env.reset()\n",
    "            cumulative_reward = 0\n",
    "            cumulative_error  = 0\n",
    "\n",
    "            while not done:\n",
    "                epsilon = self.N0 / (self.N0 + sum(Ntable[state].values()))\n",
    "\n",
    "                action = self.act(state, epsilon)\n",
    "                next_state, reward, done, info = self.env.step(action)\n",
    "\n",
    "                Ntable[state][action] += 1\n",
    "\n",
    "                cumulative_reward = (self.gamma * cumulative_reward) + reward\n",
    "\n",
    "                td_error = reward + self.gamma * max(self.Qtable[next_state].values()) - self.Qtable[state][action]\n",
    "\n",
    "                cumulative_error += abs(td_error)\n",
    "\n",
    "                alpha = 1/Ntable[state][action] if self.alpha is None else self.alpha\n",
    "\n",
    "                self.Qtable[state][action] += alpha * td_error\n",
    "\n",
    "                state  = next_state\n",
    "\n",
    "            history[\"cumulative reward\"].append(cumulative_reward)\n",
    "            history[\"episode error\"].append(cumulative_error)\n",
    "\n",
    "            curr_episode += 1\n",
    "\n",
    "        return history\n",
    "\n",
    "\n",
    "    def act(self, state, epsilon=0):\n",
    "        if np.random.rand() > epsilon:\n",
    "            action = max(self.Qtable[state], key=self.Qtable[state].get)\n",
    "\n",
    "        else:\n",
    "            action = Actions.sample()\n",
    "\n",
    "        return action"
   ]
  },
  {
   "cell_type": "code",
   "execution_count": 86,
   "metadata": {},
   "outputs": [],
   "source": [
    "q_learning = QLearning(env.set_render(None), 0.99)\n",
    "q_history = q_learning.train(5000)"
   ]
  },
  {
   "cell_type": "code",
   "execution_count": 87,
   "metadata": {},
   "outputs": [
    {
     "name": "stdout",
     "output_type": "stream",
     "text": [
      "% % % % % % % % %\n",
      "% \u001b[33m<\u001b[0m \u001b[31mE\u001b[0m           %\n",
      "%               %\n",
      "%               %\n",
      "%               %\n",
      "%               %\n",
      "%               %\n",
      "%               %\n",
      "% % % % % % % % %\n",
      "Score: 37\n"
     ]
    }
   ],
   "source": [
    "env.set_render('ansi')\n",
    "env.run_policy(q_learning, 0, .5);"
   ]
  },
  {
   "cell_type": "code",
   "execution_count": 88,
   "metadata": {},
   "outputs": [
    {
     "data": {
      "text/plain": [
       "[<matplotlib.lines.Line2D at 0x7f13eda75f00>]"
      ]
     },
     "execution_count": 88,
     "metadata": {},
     "output_type": "execute_result"
    },
    {
     "data": {
      "image/png": "[encoded data removed]",
      "text/plain": [
       "<Figure size 640x480 with 1 Axes>"
      ]
     },
     "metadata": {},
     "output_type": "display_data"
    }
   ],
   "source": [
    "plt.plot(q_history[\"cumulative reward\"])"
   ]
  },
  {
   "cell_type": "markdown",
   "metadata": {},
   "source": [
    "### SARSA($\\lambda$)"
   ]
  },
  {
   "cell_type": "code",
   "execution_count": 89,
   "metadata": {},
   "outputs": [],
   "source": [
    "class SARSAgent(Agent):\n",
    "    def __init__(self, env, gamma, lmbda, alpha=None, N0=1):\n",
    "        self.env   = env\n",
    "        self.gamma = gamma\n",
    "        self.lmbda = lmbda\n",
    "        self.alpha = alpha\n",
    "        self.N0    = N0\n",
    "\n",
    "        self.Qtable = defaultdict(lambda : {action: 0 for action in Actions.actions})\n",
    "\n",
    "\n",
    "    def train(self, max_episodes=None, tol=1e-7):\n",
    "        curr_episode = 0\n",
    "\n",
    "        history = {\n",
    "            \"cumulative reward\"  : [],\n",
    "            \"episode error\" : []\n",
    "        }\n",
    "\n",
    "        Ntable = defaultdict(lambda : {action: 0 for action in Actions.actions})\n",
    "\n",
    "        while curr_episode < max_episodes:\n",
    "            \n",
    "            Etable  = defaultdict(lambda : {action: 0 for action in Actions.actions})\n",
    "\n",
    "            state, done = self.env.reset()\n",
    "            action = self.act(state, epsilon=1)\n",
    "\n",
    "            cumulative_reward = 0\n",
    "            cumulative_error  = 0\n",
    "\n",
    "            while not done:\n",
    "                Etable[state][action] = Etable[state][action] + 1\n",
    "                epsilon = self.N0 / (self.N0 + sum(Ntable[state].values()))\n",
    "\n",
    "                next_state, reward, done, info = self.env.step(action)\n",
    "                next_action = self.act(next_state, epsilon)\n",
    "\n",
    "                Ntable[state][action] += 1\n",
    "\n",
    "                cumulative_reward = (self.gamma * cumulative_reward) + reward\n",
    "\n",
    "                td_error = reward + self.gamma * self.Qtable[next_state][next_action] - self.Qtable[state][action]\n",
    "\n",
    "                cumulative_error += abs(td_error)\n",
    "\n",
    "                alpha = 1/Ntable[state][action] if self.alpha is None else self.alpha\n",
    "\n",
    "                self.update_tables(Etable, alpha, td_error)\n",
    "\n",
    "                state  = next_state\n",
    "                action = next_action\n",
    "\n",
    "            history[\"cumulative reward\"].append(cumulative_reward)\n",
    "            history[\"episode error\"].append(cumulative_error)\n",
    "\n",
    "            curr_episode += 1\n",
    "        \n",
    "        return history\n",
    "\n",
    "\n",
    "    def act(self, state, epsilon=0):\n",
    "        if np.random.rand() > epsilon:\n",
    "            action = max(self.Qtable[state], key=self.Qtable[state].get)\n",
    "\n",
    "        else:\n",
    "            action = Actions.sample()\n",
    "\n",
    "        return action\n",
    "\n",
    "    def update_tables(self, Etable, alpha, td_error):\n",
    "        for state in Etable:\n",
    "            for action in Actions.actions:\n",
    "                self.Qtable[state][action] += td_error * alpha * Etable[state][action]\n",
    "                Etable[state][action] *= self.gamma * self.lmbda"
   ]
  },
  {
   "cell_type": "code",
   "execution_count": 92,
   "metadata": {},
   "outputs": [],
   "source": [
    "sarsa = SARSAgent(env.set_render(None), 0.99, 0.2)\n",
    "sarsa_history = sarsa.train(5000)"
   ]
  },
  {
   "cell_type": "code",
   "execution_count": 93,
   "metadata": {},
   "outputs": [
    {
     "name": "stdout",
     "output_type": "stream",
     "text": [
      "% % % % % % % % %\n",
      "% \u001b[33m^\u001b[0m             %\n",
      "% \u001b[31mE\u001b[0m             %\n",
      "%               %\n",
      "%               %\n",
      "%               %\n",
      "%               %\n",
      "%               %\n",
      "% % % % % % % % %\n",
      "Score: 37\n"
     ]
    }
   ],
   "source": [
    "env.set_render('ansi')\n",
    "env.run_policy(sarsa, 0, .5);"
   ]
  },
  {
   "cell_type": "code",
   "execution_count": 94,
   "metadata": {},
   "outputs": [
    {
     "data": {
      "text/plain": [
       "[<matplotlib.lines.Line2D at 0x7f13eda95c30>]"
      ]
     },
     "execution_count": 94,
     "metadata": {},
     "output_type": "execute_result"
    },
    {
     "data": {
      "image/png": "[encoded data removed]",
      "text/plain": [
       "<Figure size 640x480 with 1 Axes>"
      ]
     },
     "metadata": {},
     "output_type": "display_data"
    }
   ],
   "source": [
    "plt.plot(sarsa_history[\"cumulative reward\"])"
   ]
  }
 ],
 "metadata": {
  "kernelspec": {
   "display_name": "Python 3",
   "language": "python",
   "name": "python3"
  },
  "language_info": {
   "codemirror_mode": {
    "name": "ipython",
    "version": 3
   },
   "file_extension": ".py",
   "mimetype": "text/x-python",
   "name": "python",
   "nbconvert_exporter": "python",
   "pygments_lexer": "ipython3",
   "version": "3.10.9"
  },
  "orig_nbformat": 4
 },
 "nbformat": 4,
 "nbformat_minor": 2
}
