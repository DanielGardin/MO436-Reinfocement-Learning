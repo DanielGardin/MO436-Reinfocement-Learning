{
 "cells": [
  {
   "cell_type": "markdown",
   "metadata": {},
   "source": [
    "#### Importando Bibliotecas"
   ]
  },
  {
   "cell_type": "code",
   "execution_count": 1,
   "metadata": {},
   "outputs": [],
   "source": [
    "from collections import defaultdict\n",
    "from pacman.actions import Actions\n",
    "from pacman.env import PacmanEnv\n",
    "from pacman.agents import Agent\n",
    "\n",
    "import matplotlib.pyplot as plt\n",
    "import seaborn as sns\n",
    "import numpy as np"
   ]
  },
  {
   "cell_type": "markdown",
   "metadata": {},
   "source": [
    "# Reinforcement Learning (MO436)\n",
    "\n",
    "Autores:\n",
    "\n",
    "**Aline Cavalca Caravlho Soares de Azevedo** (RA: )\n",
    "\n",
    "**Beatriz Cardoso Nascimento**               (RA: )\n",
    "\n",
    "**Daniel Gardin Gratti**                     (RA: 214729)\n",
    "\n",
    "**Guilhermo de Luiggi Mocelim de Oliveira** (RA: )\n",
    "\n",
    "\n",
    "## Introdução\n",
    "\n",
    "Reinforcement Learning é um paradigma de Inteligência Artificial baseada em controle"
   ]
  },
  {
   "cell_type": "code",
   "execution_count": 2,
   "metadata": {},
   "outputs": [],
   "source": [
    "env = PacmanEnv.contourDanger(4, ghost_name= \"RobustGhost\")"
   ]
  },
  {
   "cell_type": "code",
   "execution_count": 3,
   "metadata": {},
   "outputs": [],
   "source": [
    "def plot_episodes(episodes, smooth=11, alpha=0.4):\n",
    "    fig, ax = plt.subplots(figsize=(8, 5))\n",
    "\n",
    "    n_episode = np.array(range(len(episodes)))\n",
    "\n",
    "\n",
    "    plt.plot(episodes, alpha=alpha)\n",
    "    smooth_episode = np.convolve(np.pad(np.array(episodes), (smooth//2,smooth//2), mode='edge'), np.ones(smooth)/smooth, mode='valid')\n",
    "\n",
    "    ax.plot(smooth_episode, linewidth=2)\n",
    "\n",
    "    return fig, ax"
   ]
  },
  {
   "cell_type": "code",
   "execution_count": 5,
   "metadata": {},
   "outputs": [],
   "source": [
    "class EpsilonGreedyQAgent(Agent):\n",
    "    \"\"\"\n",
    "    Generic agent with internal Q table and epsilon-greedy policy.\n",
    "    This class do not include any default training algorithm.\n",
    "    \"\"\"\n",
    "\n",
    "    def __init__(self):\n",
    "        self.Qtable = defaultdict(lambda : {action: 0. for action in Actions.actions})\n",
    "    \n",
    "    \n",
    "    def act(self, state, epsilon=0.) -> str:\n",
    "        if np.random.rand() > epsilon:\n",
    "            action_values = self.Qtable[state]\n",
    "            \n",
    "            action = max(action_values, key=lambda k : action_values[k])\n",
    "\n",
    "        else:\n",
    "            action = Actions.sample()\n",
    "\n",
    "        return action\n",
    "\n",
    "\n",
    "    def Q(self, state, action):\n",
    "        return self.Qtable[state][action]\n",
    "    \n",
    "\n",
    "    def max_Q(self, state):\n",
    "        action_values = self.Qtable[state]\n",
    "\n",
    "        action = max(action_values, key=lambda k : action_values[k])\n",
    "\n",
    "        return action, action_values[action]\n",
    "    \n",
    "\n",
    "    def update_Q(self, state, action, alpha, error):\n",
    "        self.Qtable[state][action] += alpha * error\n",
    "\n",
    "\n",
    "    def reset(self):\n",
    "        \"\"\"\n",
    "        Reset agent's Q table.\n",
    "        \"\"\"\n",
    "        self.Qtable.clear()"
   ]
  },
  {
   "cell_type": "code",
   "execution_count": 6,
   "metadata": {},
   "outputs": [],
   "source": [
    "class BaseController:\n",
    "    def __init__(self, env):\n",
    "        self.env    = env\n",
    "\n",
    "    def train(self, policy):\n",
    "        pass\n"
   ]
  },
  {
   "cell_type": "markdown",
   "metadata": {},
   "source": [
    "### Monte Carlo"
   ]
  },
  {
   "cell_type": "code",
   "execution_count": 8,
   "metadata": {},
   "outputs": [],
   "source": [
    "class MonteCarloControl(BaseController):\n",
    "    def __init__(self, env, gamma, alpha=None, N0=1):\n",
    "        super().__init__(env)\n",
    "\n",
    "        self.gamma = gamma\n",
    "        self.alpha = alpha\n",
    "        self.N0    = N0\n",
    "    \n",
    "\n",
    "    def train(self, policy, max_episodes=1000):\n",
    "        curr_episode = 0\n",
    "\n",
    "        history = {\n",
    "            \"cumulative reward\"  : [],\n",
    "            \"episode error\"      : [],\n",
    "            \"episode length\"     : [],\n",
    "            \"episode win\"        : []\n",
    "        }\n",
    "\n",
    "        Ntable  = defaultdict(lambda : {action: 0 for action in Actions.actions})\n",
    "\n",
    "        while curr_episode < max_episodes:\n",
    "\n",
    "            state, done = self.env.reset(random_init=True)\n",
    "            cumulative_reward = 0\n",
    "            cumulative_error  = 0\n",
    "            n_steps           = 0\n",
    "\n",
    "            while not done:\n",
    "                epsilon = self.N0 / (self.N0 + sum(Ntable[state].values()))\n",
    "\n",
    "                action = policy.act(state, epsilon)\n",
    "\n",
    "                next_state, reward, done, info = self.env.step(action)\n",
    "\n",
    "                Ntable[state][action] += 1\n",
    "                n_steps += 1\n",
    "               \n",
    "                cumulative_reward = (self.gamma * cumulative_reward) + reward\n",
    "\n",
    "                alpha = 1/Ntable[state][action] if self.alpha is None else self.alpha\n",
    "                error = (cumulative_reward - policy.Q(state, action))\n",
    "                policy.update_Q(state, action, alpha, error)\n",
    "\n",
    "                cumulative_error += abs(error)\n",
    "\n",
    "                state  = next_state\n",
    "\n",
    "            history[\"cumulative reward\"].append(cumulative_reward)\n",
    "            history[\"episode error\"].append(cumulative_error)\n",
    "            history[\"episode length\"].append(n_steps)\n",
    "            history[\"episode win\"].append(env.is_win())\n",
    "\n",
    "            curr_episode += 1\n",
    "        \n",
    "        return policy, history"
   ]
  },
  {
   "cell_type": "code",
   "execution_count": 9,
   "metadata": {},
   "outputs": [],
   "source": [
    "monte_carlo = MonteCarloControl(\n",
    "    env    = env.set_render(None),\n",
    "    gamma  = 0.99,\n",
    "    N0     = 10\n",
    ")\n",
    "mc_policy, mc_history = monte_carlo.train(EpsilonGreedyQAgent(), 10000)"
   ]
  },
  {
   "cell_type": "code",
   "execution_count": 14,
   "metadata": {},
   "outputs": [
    {
     "name": "stdout",
     "output_type": "stream",
     "text": [
      "[  43.   39.   43.   33.   39.   41.   37. -103. -104.   41.   39.   45.\n",
      "   33.   31.   43.   35.   35.   43.   29.   43.   43.   31.   37.   31.\n",
      "   41.   45.   37.   37.   43.   35.   45.   35.   39.   33.   41.   37.\n",
      "   29.   37.   41.   45.   45.   27.   41.   45.   37.   37.   41.   39.\n",
      "   43.]\n"
     ]
    }
   ],
   "source": [
    "monte_carlo = MonteCarloControl(env.set_render(None), 0.99)\n",
    "mc_policy = EpsilonGreedyQAgent()\n",
    "scores = np.zeros([49,100])\n",
    "\n",
    "for i in range (1,50):\n",
    "    monte_carlo.N0 = i\n",
    "    _, mc_history = monte_carlo.train(mc_policy, 10000)\n",
    "\n",
    "    #print(scores)\n",
    "\n",
    "    for j in range(100):\n",
    "        env.run_policy(mc_policy, 0, 0)\n",
    "        scores[i-1][j] =  env.get_score()\n",
    "\n",
    "    mc_policy.reset()\n",
    "\n",
    "media = np.mean(scores, 1)\n",
    "print(media)"
   ]
  },
  {
   "cell_type": "code",
   "execution_count": 20,
   "metadata": {},
   "outputs": [
    {
     "data": {
      "text/plain": [
       "[0, 2, 11, 14, 17, 19, 20, 25, 28, 30, 39, 40, 43, 48]"
      ]
     },
     "execution_count": 20,
     "metadata": {},
     "output_type": "execute_result"
    }
   ],
   "source": [
    "best_n0 = []\n",
    "for i in range (0,49):\n",
    "    if media[i] >= 43:\n",
    "        best_n0.append(i)\n",
    "\n",
    "best_n0"
   ]
  },
  {
   "cell_type": "code",
   "execution_count": 18,
   "metadata": {},
   "outputs": [
    {
     "name": "stdout",
     "output_type": "stream",
     "text": [
      "% % % % % %\n",
      "% \u001b[33m<\u001b[0m \u001b[31mM\u001b[0m     %\n",
      "%         %\n",
      "%         %\n",
      "%         %\n",
      "% % % % % %\n",
      "Score: 43\n"
     ]
    }
   ],
   "source": [
    "env.set_render('ansi')\n",
    "env.run_policy(mc_policy, 0, .5);"
   ]
  },
  {
   "cell_type": "code",
   "execution_count": 21,
   "metadata": {},
   "outputs": [
    {
     "data": {
      "text/plain": [
       "(<Figure size 800x500 with 1 Axes>, <Axes: >)"
      ]
     },
     "execution_count": 21,
     "metadata": {},
     "output_type": "execute_result"
    },
    {
     "data": {
      "image/png": "[encoded data removed]",
      "text/plain": [
       "<Figure size 800x500 with 1 Axes>"
      ]
     },
     "metadata": {},
     "output_type": "display_data"
    }
   ],
   "source": [
    "plot_episodes(mc_history[\"cumulative reward\"], smooth=100)"
   ]
  },
  {
   "cell_type": "markdown",
   "metadata": {},
   "source": [
    "### Q-Learning"
   ]
  },
  {
   "cell_type": "code",
   "execution_count": 22,
   "metadata": {},
   "outputs": [],
   "source": [
    "class QLearning(BaseController):\n",
    "    def __init__(self, env, gamma, alpha=None, N0=1):\n",
    "        super().__init__(env)\n",
    "\n",
    "        self.gamma = gamma\n",
    "        self.alpha = alpha\n",
    "        self.N0    = N0\n",
    "\n",
    "    \n",
    "    def train(self, policy, max_episodes=1000):\n",
    "        curr_episode = 0\n",
    "\n",
    "        history = {\n",
    "            \"cumulative reward\"  : [],\n",
    "            \"episode error\"      : [],\n",
    "            \"episode length\"     : [],\n",
    "            \"episode win\"        : []\n",
    "        }\n",
    "\n",
    "        Ntable = defaultdict(lambda : {action: 0 for action in Actions.actions})\n",
    "\n",
    "        while curr_episode < max_episodes:\n",
    "\n",
    "            state, done = self.env.reset(random_init=True)\n",
    "            cumulative_reward = 0\n",
    "            cumulative_error  = 0\n",
    "\n",
    "            n_steps = 0\n",
    "\n",
    "            while not done:\n",
    "                epsilon = self.N0 / (self.N0 + sum(Ntable[state].values()))\n",
    "\n",
    "                action = policy.act(state, epsilon)\n",
    "                next_state, reward, done, info = self.env.step(action)\n",
    "\n",
    "                Ntable[state][action] += 1\n",
    "                n_steps += 1\n",
    "\n",
    "                cumulative_reward = (self.gamma * cumulative_reward) + reward\n",
    "\n",
    "                _, Qmax = policy.max_Q(next_state)\n",
    "\n",
    "                td_error = reward + self.gamma * Qmax - policy.Q(state, action)\n",
    "\n",
    "                cumulative_error += abs(td_error)\n",
    "\n",
    "                alpha = 1/Ntable[state][action] if self.alpha is None else self.alpha\n",
    "\n",
    "                policy.update_Q(state, action, alpha, td_error)\n",
    "\n",
    "                state  = next_state\n",
    "\n",
    "            history[\"cumulative reward\"].append(cumulative_reward)\n",
    "            history[\"episode error\"].append(cumulative_error)\n",
    "            history[\"episode length\"].append(n_steps)\n",
    "            history[\"episode win\"].append(env.is_win())\n",
    "\n",
    "            curr_episode += 1\n",
    "\n",
    "        return policy, history"
   ]
  },
  {
   "cell_type": "code",
   "execution_count": 23,
   "metadata": {},
   "outputs": [],
   "source": [
    "q_learning = QLearning(\n",
    "    env    = env.set_render(None),\n",
    "    gamma  = 0.99,\n",
    "    N0     = 10\n",
    ")\n",
    "q_policy, q_history = q_learning.train(EpsilonGreedyQAgent(), 10000)"
   ]
  },
  {
   "cell_type": "code",
   "execution_count": 24,
   "metadata": {},
   "outputs": [
    {
     "name": "stdout",
     "output_type": "stream",
     "text": [
      "% % % % % %\n",
      "% \u001b[33m<\u001b[0m \u001b[31mM\u001b[0m     %\n",
      "%         %\n",
      "%         %\n",
      "%         %\n",
      "% % % % % %\n",
      "Score: 45\n"
     ]
    }
   ],
   "source": [
    "env.set_render('ansi')\n",
    "env.run_policy(q_policy, 0, .5);"
   ]
  },
  {
   "cell_type": "code",
   "execution_count": 27,
   "metadata": {},
   "outputs": [
    {
     "name": "stdout",
     "output_type": "stream",
     "text": [
      "[45. 43. 45. 43. 43. 45. 43. 45. 45. 45. 45. 45. 45. 45. 43. 45. 43. 45.\n",
      " 45. 43. 45. 45. 45. 45. 45. 45. 43. 45. 45. 45. 43. 45. 43. 43. 43. 45.\n",
      " 43. 43. 43. 43. 43. 45. 45. 45. 45. 45. 45. 43. 45.]\n"
     ]
    }
   ],
   "source": [
    "q_learning = QLearning(env.set_render(None), 0.99)\n",
    "q_policy = EpsilonGreedyQAgent()\n",
    "scoresQ = np.zeros([49,100])\n",
    "\n",
    "for i in range (1,50):\n",
    "    q_learning.N0 = i\n",
    "    _, q_history = q_learning.train(q_policy, 10000)\n",
    "\n",
    "    #print(scores)\n",
    "\n",
    "    for j in range(100):\n",
    "        env.run_policy(q_policy, 0, 0)\n",
    "        scoresQ[i-1][j] =  env.get_score()\n",
    "\n",
    "    q_policy.reset()\n",
    "\n",
    "mediaQ = np.mean(scoresQ, 1)\n",
    "print(mediaQ)"
   ]
  },
  {
   "cell_type": "code",
   "execution_count": 29,
   "metadata": {},
   "outputs": [
    {
     "data": {
      "text/plain": [
       "(<Figure size 800x500 with 1 Axes>, <Axes: >)"
      ]
     },
     "execution_count": 29,
     "metadata": {},
     "output_type": "execute_result"
    },
    {
     "data": {
      "image/png": "[encoded data removed]",
      "text/plain": [
       "<Figure size 800x500 with 1 Axes>"
      ]
     },
     "metadata": {},
     "output_type": "display_data"
    }
   ],
   "source": [
    "plot_episodes(q_history[\"cumulative reward\"], smooth=101)"
   ]
  },
  {
   "cell_type": "markdown",
   "metadata": {},
   "source": [
    "### SARSA($\\lambda$)"
   ]
  },
  {
   "cell_type": "code",
   "execution_count": 28,
   "metadata": {},
   "outputs": [],
   "source": [
    "class SARSA(BaseController):\n",
    "    def __init__(self, env, gamma, lmbda, alpha=None, N0=1):\n",
    "        super().__init__(env)\n",
    "\n",
    "        self.gamma = gamma\n",
    "        self.lmbda = lmbda\n",
    "        self.alpha = alpha\n",
    "        self.N0    = N0\n",
    "\n",
    "\n",
    "    def train(self, policy, max_episodes=None, tol=1e-7):\n",
    "        curr_episode = 0\n",
    "\n",
    "        history = {\n",
    "            \"cumulative reward\"  : [],\n",
    "            \"episode error\"      : [],\n",
    "            \"episode length\"     : [],\n",
    "            \"episode win\"        : []\n",
    "        }\n",
    "\n",
    "        Ntable = defaultdict(lambda : {action: 0 for action in Actions.actions})\n",
    "\n",
    "        while curr_episode < max_episodes:\n",
    "            \n",
    "            Etable  = defaultdict(lambda : {action: 0 for action in Actions.actions})\n",
    "\n",
    "            state, done = self.env.reset(random_init = True)\n",
    "            action = policy.act(state, epsilon=1)\n",
    "\n",
    "            cumulative_reward = 0\n",
    "            cumulative_error  = 0\n",
    "\n",
    "            n_steps = 0\n",
    "\n",
    "            while not done:\n",
    "                Etable[state][action] = Etable[state][action] + 1\n",
    "\n",
    "                next_state, reward, done, info = self.env.step(action)\n",
    "\n",
    "                epsilon = self.N0 / (self.N0 + sum(Ntable[next_state].values()))\n",
    "\n",
    "                next_action = policy.act(next_state, epsilon)\n",
    "\n",
    "                Ntable[state][action] += 1\n",
    "                n_steps += 1\n",
    "\n",
    "                cumulative_reward = (self.gamma * cumulative_reward) + reward\n",
    "\n",
    "                td_error = reward + self.gamma * policy.Q(next_state, next_action) - policy.Q(state, action)\n",
    "\n",
    "                cumulative_error += abs(td_error)\n",
    "\n",
    "                alpha = 1/Ntable[state][action] if self.alpha is None else self.alpha\n",
    "\n",
    "                for state in Etable:\n",
    "                    for action in Actions.actions:\n",
    "                        policy.update_Q(state, action, alpha, td_error * Etable[state][action])\n",
    "                        Etable[state][action] *= self.gamma * self.lmbda\n",
    "\n",
    "                state  = next_state\n",
    "                action = next_action\n",
    "\n",
    "            history[\"cumulative reward\"].append(cumulative_reward)\n",
    "            history[\"episode error\"].append(cumulative_error)\n",
    "            history[\"episode length\"].append(n_steps)\n",
    "            history[\"episode win\"].append(env.is_win())\n",
    "\n",
    "            curr_episode += 1\n",
    "        \n",
    "        return policy, history"
   ]
  },
  {
   "cell_type": "code",
   "execution_count": 29,
   "metadata": {},
   "outputs": [],
   "source": [
    "sarsa = SARSA(\n",
    "    env    = env.set_render(None),\n",
    "    gamma  = 0.99,\n",
    "    lmbda  = 0.2,\n",
    "    N0     = 10\n",
    ")\n",
    "sarsa_policy, sarsa_history = sarsa.train(EpsilonGreedyQAgent(), 10000)"
   ]
  },
  {
   "cell_type": "code",
   "execution_count": 30,
   "metadata": {},
   "outputs": [
    {
     "name": "stdout",
     "output_type": "stream",
     "text": [
      "% % % % % %\n",
      "% \u001b[33m<\u001b[0m \u001b[31mM\u001b[0m     %\n",
      "%         %\n",
      "%         %\n",
      "%         %\n",
      "% % % % % %\n",
      "Score: 43\n"
     ]
    }
   ],
   "source": [
    "env.set_render('ansi')\n",
    "env.run_policy(sarsa_policy, 0, .5);"
   ]
  },
  {
   "cell_type": "code",
   "execution_count": 32,
   "metadata": {},
   "outputs": [
    {
     "name": "stdout",
     "output_type": "stream",
     "text": [
      "[43. 43. 43. 45. 43. 45. 43. 45. 43. 43. 43. 43. 43. 45. 45. 43. 45. 45.\n",
      " 45. 43. 43. 43. 45. 43. 43. 43. 45. 45. 45. 43. 43. 43. 43. 43. 45. 45.\n",
      " 45. 45. 43. 45. 45. 43. 43. 45. 43. 43. 45. 43. 45.]\n"
     ]
    }
   ],
   "source": [
    "sarsa = SARSA(env.set_render(None), 0.99,0.2)\n",
    "sarsa_policy = EpsilonGreedyQAgent()\n",
    "scoresSarsa = np.zeros([49,100])\n",
    "\n",
    "for i in range (1,50):\n",
    "    sarsa.N0 = i\n",
    "    _, sarsa_history = sarsa.train(sarsa_policy, 10000)\n",
    "\n",
    "    #print(scores)\n",
    "\n",
    "    for j in range(100):\n",
    "        env.run_policy(sarsa_policy, 0, 0)\n",
    "        scoresSarsa[i-1][j] =  env.get_score()\n",
    "\n",
    "    sarsa_policy.reset()\n",
    "\n",
    "mediaSarsa = np.mean(scoresSarsa, 1)\n",
    "print(mediaSarsa)"
   ]
  },
  {
   "cell_type": "code",
   "execution_count": 39,
   "metadata": {},
   "outputs": [
    {
     "data": {
      "text/plain": [
       "(<Figure size 800x500 with 1 Axes>, <Axes: >)"
      ]
     },
     "execution_count": 39,
     "metadata": {},
     "output_type": "execute_result"
    },
    {
     "data": {
      "image/png": "[encoded data removed]",
      "text/plain": [
       "<Figure size 800x500 with 1 Axes>"
      ]
     },
     "metadata": {},
     "output_type": "display_data"
    }
   ],
   "source": [
    "plot_episodes(sarsa_history[\"cumulative reward\"], smooth=101)"
   ]
  },
  {
   "cell_type": "markdown",
   "metadata": {},
   "source": [
    "## Linear Features"
   ]
  },
  {
   "cell_type": "code",
   "execution_count": null,
   "metadata": {},
   "outputs": [],
   "source": [
    "class EpsilonGreedyLinearAgent(Agent):\n",
    "    \"\"\"\n",
    "    Generic agent with internal Q table and epsilon-greedy policy.\n",
    "    This class do not include any default training algorithm.\n",
    "    \"\"\"\n",
    "\n",
    "    def __init__(self, state_dim, action_dim):\n",
    "        self.weights = np.zeros(action_dim, state_dim)\n",
    "    \n",
    "    \n",
    "    def act(self, state, epsilon=0.) -> str:\n",
    "        if np.random.rand() > epsilon:\n",
    "            action_values = self.Qtable[state]\n",
    "            \n",
    "            action = max(action_values, key=lambda k : action_values[k])\n",
    "\n",
    "        else:\n",
    "            action = Actions.sample()\n",
    "\n",
    "        return action\n",
    "\n",
    "\n",
    "    def Q(self, state, action):\n",
    "        idx = Actions.action_index(action)\n",
    "\n",
    "        return (self.weights @ state)[idx]\n",
    "    \n",
    "\n",
    "    def max_Q(self, state):\n",
    "        Qvalues = (self.weights @ state)\n",
    "\n",
    "        idx = np.argmax(Qvalues)\n",
    "\n",
    "        return Actions.actions[idx], Qvalues[idx]\n",
    "    \n",
    "\n",
    "    def update_Q(self, state, action, alpha, error):\n",
    "        self.Qtable[state][action] += alpha * error\n",
    "\n",
    "\n",
    "    def reset(self):\n",
    "        \"\"\"\n",
    "        Reset agent's Q table.\n",
    "        \"\"\"\n",
    "        self.weights = np.zeros(action_dim, state_dim)"
   ]
  }
 ],
 "metadata": {
  "kernelspec": {
   "display_name": "Python 3",
   "language": "python",
   "name": "python3"
  },
  "language_info": {
   "codemirror_mode": {
    "name": "ipython",
    "version": 3
   },
   "file_extension": ".py",
   "mimetype": "text/x-python",
   "name": "python",
   "nbconvert_exporter": "python",
   "pygments_lexer": "ipython3",
   "version": "3.9.16"
  },
  "orig_nbformat": 4
 },
 "nbformat": 4,
 "nbformat_minor": 2
}
