{
 "cells": [
  {
   "cell_type": "markdown",
   "metadata": {},
   "source": [
    "#### Importando Bibliotecas"
   ]
  },
  {
   "cell_type": "code",
   "execution_count": 1,
   "metadata": {},
   "outputs": [],
   "source": [
    "from collections import defaultdict\n",
    "from pacman.actions import Actions\n",
    "from pacman.env import PacmanEnv\n",
    "from pacman.agents import Agent\n",
    "\n",
    "import matplotlib.pyplot as plt\n",
    "from tqdm.notebook import tqdm\n",
    "import seaborn as sns\n",
    "import numpy as np"
   ]
  },
  {
   "cell_type": "markdown",
   "metadata": {},
   "source": [
    "# Reinforcement Learning (MO436)\n",
    "\n",
    "Autores:\n",
    "\n",
    "**Aline Cavalca Caravlho Soares de Azevedo** (RA: )\n",
    "\n",
    "**Beatriz Cardoso Nascimento**               (RA: )\n",
    "\n",
    "**Daniel Gardin Gratti**                     (RA: 214729)\n",
    "\n",
    "**Guilhermo de Luiggi Mocelim de Oliveira** (RA: )\n",
    "\n",
    "\n",
    "## Introdução\n",
    "\n",
    "Reinforcement Learning é um paradigma de Inteligência Artificial baseada em controle"
   ]
  },
  {
   "cell_type": "code",
   "execution_count": 3,
   "metadata": {},
   "outputs": [],
   "source": [
    "env = PacmanEnv.contourDanger(4, ghost_names= \"RobustGhost\", state_space=\"features\", render_mode=\"human\")"
   ]
  },
  {
   "cell_type": "code",
   "execution_count": 4,
   "metadata": {},
   "outputs": [
    {
     "data": {
      "image/png": "[encoded data removed]",
      "text/plain": [
       "<Figure size 600x600 with 1 Axes>"
      ]
     },
     "metadata": {},
     "output_type": "display_data"
    },
    {
     "data": {
      "text/plain": [
       "((2.0, 4.0), False)"
      ]
     },
     "execution_count": 4,
     "metadata": {},
     "output_type": "execute_result"
    }
   ],
   "source": [
    "env.reset()"
   ]
  },
  {
   "cell_type": "code",
   "execution_count": 6,
   "metadata": {},
   "outputs": [],
   "source": [
    "def plot_episodes(history, metric:str, smooth=11, alpha=0.4):\n",
    "    fig, ax = plt.subplots(figsize=(8, 5))\n",
    "\n",
    "    episodes = np.array(history[metric])\n",
    "\n",
    "    n_episode = np.array(range(len(episodes)))\n",
    "\n",
    "    plt.plot(episodes, alpha=alpha)\n",
    "\n",
    "    padded_episodes = np.pad(episodes, (smooth//2,smooth//2), 'edge')\n",
    "    smooth_episodes = np.convolve(padded_episodes, np.ones(smooth)/smooth, mode='valid')\n",
    "\n",
    "    ax.plot(smooth_episodes, linewidth=2)\n",
    "\n",
    "    ax.set_title(f\"{metric.capitalize()} during training\")\n",
    "    ax.set_ylabel(metric)\n",
    "    ax.set_xlabel(\"episode\")\n",
    "\n",
    "    return fig, ax"
   ]
  },
  {
   "cell_type": "code",
   "execution_count": 7,
   "metadata": {},
   "outputs": [],
   "source": [
    "from pacman.distributions import UniformDistribution\n",
    "\n",
    "class RandomAgent(Agent):\n",
    "    def get_distribution(self, state):\n",
    "        return UniformDistribution(Actions.actions)"
   ]
  },
  {
   "cell_type": "code",
   "execution_count": 8,
   "metadata": {},
   "outputs": [],
   "source": [
    "class EpsilonGreedyQAgent(Agent):\n",
    "    \"\"\"\n",
    "    Agent with internal Q table and epsilon-greedy policy. Can learn from a control algorithm.\n",
    "    \"\"\"\n",
    "\n",
    "    def __init__(self):\n",
    "        self.Qtable = defaultdict(lambda : {action: 0. for action in Actions.actions})\n",
    "    \n",
    "    \n",
    "    def act(self, state, epsilon=0.) -> str:\n",
    "        if np.random.rand() > epsilon:\n",
    "            action, _ = self.max_Q(state)\n",
    "\n",
    "        else:\n",
    "            action = Actions.sample()\n",
    "\n",
    "        return action\n",
    "\n",
    "\n",
    "    def Q(self, state, action):\n",
    "        return self.Qtable[state][action]\n",
    "    \n",
    "\n",
    "    def max_Q(self, state):\n",
    "        action_values = self.Qtable[state]\n",
    "\n",
    "        action = max(action_values, key=lambda k : action_values[k])\n",
    "\n",
    "        return action, action_values[action]\n",
    "    \n",
    "\n",
    "    def update_Q(self, state, action, alpha, error):\n",
    "        self.Qtable[state][action] += alpha * error\n",
    "\n",
    "\n",
    "    def reset(self):\n",
    "        \"\"\"\n",
    "        Reset agent's Q table.\n",
    "        \"\"\"\n",
    "        self.Qtable.clear()"
   ]
  },
  {
   "cell_type": "code",
   "execution_count": 9,
   "metadata": {},
   "outputs": [],
   "source": [
    "class BaseController:\n",
    "    def __init__(self, env):\n",
    "        self.env    = env\n",
    "\n",
    "    def train(self, policy, max_episodes):\n",
    "        pass\n"
   ]
  },
  {
   "cell_type": "markdown",
   "metadata": {},
   "source": [
    "### Monte Carlo"
   ]
  },
  {
   "cell_type": "code",
   "execution_count": 11,
   "metadata": {},
   "outputs": [],
   "source": [
    "class MonteCarloControl(BaseController):\n",
    "    def __init__(self, env, gamma, alpha=None, N0=1):\n",
    "        super().__init__(env)\n",
    "\n",
    "        self.gamma = gamma\n",
    "        self.alpha = alpha\n",
    "        self.N0    = N0\n",
    "    \n",
    "\n",
    "    def train(self, policy, max_episodes=1000):\n",
    "        history = {\n",
    "            \"cumulative reward\"  : [],\n",
    "            \"episode error\"      : [],\n",
    "            \"episode length\"     : [],\n",
    "            \"episode win\"        : []\n",
    "        }\n",
    "\n",
    "        Ntable  = defaultdict(lambda : {action: 0 for action in Actions.actions})\n",
    "\n",
    "        for _ in tqdm(range(max_episodes)):\n",
    "\n",
    "            state, done = self.env.reset(random_init=True)\n",
    "            cumulative_reward = 0\n",
    "            cumulative_error  = 0\n",
    "            n_steps           = 0\n",
    "\n",
    "            while not done:\n",
    "                epsilon = self.N0 / (self.N0 + sum(Ntable[state].values()))\n",
    "\n",
    "                action = policy.act(state, epsilon)\n",
    "\n",
    "                next_state, reward, done, info = self.env.step(action)\n",
    "\n",
    "                Ntable[state][action] += 1\n",
    "                n_steps += 1\n",
    "               \n",
    "                cumulative_reward = (self.gamma * cumulative_reward) + reward\n",
    "\n",
    "                alpha = 1/Ntable[state][action] if self.alpha is None else self.alpha\n",
    "                error = (cumulative_reward - policy.Q(state, action))\n",
    "                policy.update_Q(state, action, alpha, error)\n",
    "\n",
    "                cumulative_error += abs(error)\n",
    "\n",
    "                state  = next_state\n",
    "\n",
    "            history[\"cumulative reward\"].append(cumulative_reward)\n",
    "            history[\"episode error\"].append(cumulative_error)\n",
    "            history[\"episode length\"].append(n_steps)\n",
    "            history[\"episode win\"].append(env.is_win())\n",
    "\n",
    "        \n",
    "        return policy, history"
   ]
  },
  {
   "cell_type": "code",
   "execution_count": null,
   "metadata": {},
   "outputs": [],
   "source": [
    "monte_carlo = MonteCarloControl(env.set_render(None), 0.99)\n",
    "mc_policy = EpsilonGreedyQAgent()\n",
    "scores = np.zeros([49,100])\n",
    "\n",
    "for i in range (1,50):\n",
    "    monte_carlo.N0 = i\n",
    "    _, mc_history = monte_carlo.train(mc_policy, 10000)\n",
    "\n",
    "    #print(scores)\n",
    "\n",
    "    for j in range(100):\n",
    "        env.run_policy(mc_policy, 0, 0)\n",
    "        scores[i-1][j] =  env.get_score()\n",
    "\n",
    "    mc_policy.reset()\n",
    "\n",
    "media = np.mean(scores, 1)\n",
    "print(media)"
   ]
  },
  {
   "cell_type": "code",
   "execution_count": null,
   "metadata": {},
   "outputs": [],
   "source": [
    "best_n0 = []\n",
    "for i in range (0,49):\n",
    "    if media[i] >= 43:\n",
    "        best_n0.append(i)\n",
    "\n",
    "best_n0"
   ]
  },
  {
   "cell_type": "code",
   "execution_count": null,
   "metadata": {},
   "outputs": [],
   "source": [
    "monte_carlo = MonteCarloControl(\n",
    "    env    = env.set_render(None),\n",
    "    gamma  = 0.99,\n",
    "    N0     = best_n0[0]\n",
    ")\n",
    "mc_policy, mc_history = monte_carlo.train(EpsilonGreedyQAgent(), 1000)"
   ]
  },
  {
   "cell_type": "code",
   "execution_count": null,
   "metadata": {},
   "outputs": [],
   "source": [
    "env.set_render('human')\n",
    "env.run_policy(mc_policy, 0, .5);"
   ]
  },
  {
   "cell_type": "code",
   "execution_count": null,
   "metadata": {},
   "outputs": [],
   "source": [
    "plot_episodes(mc_history, \"cumulative reward\", smooth=100)"
   ]
  },
  {
   "cell_type": "markdown",
   "metadata": {},
   "source": [
    "### Q-Learning"
   ]
  },
  {
   "cell_type": "code",
   "execution_count": 35,
   "metadata": {},
   "outputs": [],
   "source": [
    "class QLearning(BaseController):\n",
    "    def __init__(self, env, gamma, alpha=None, N0=1):\n",
    "        super().__init__(env)\n",
    "\n",
    "        self.gamma = gamma\n",
    "        self.alpha = alpha\n",
    "        self.N0    = N0\n",
    "\n",
    "    \n",
    "    def train(self, policy, max_episodes=1000):\n",
    "        history = {\n",
    "            \"cumulative reward\"  : [],\n",
    "            \"episode error\"      : [],\n",
    "            \"episode length\"     : [],\n",
    "            \"episode win\"        : []\n",
    "        }\n",
    "\n",
    "        Ntable = defaultdict(lambda : {action: 0 for action in Actions.actions})\n",
    "\n",
    "        for _ in tqdm(range(max_episodes)):\n",
    "            state, done = self.env.reset(random_init=True)\n",
    "            cumulative_reward = 0\n",
    "            cumulative_error  = 0\n",
    "\n",
    "            n_steps = 0\n",
    "\n",
    "            while not done:\n",
    "                epsilon = self.N0 / (self.N0 + sum(Ntable[state].values()))\n",
    "\n",
    "                action = policy.act(state, epsilon)\n",
    "                next_state, reward, done, info = self.env.step(action)\n",
    "\n",
    "                Ntable[state][action] += 1\n",
    "                n_steps += 1\n",
    "\n",
    "                cumulative_reward = (self.gamma * cumulative_reward) + reward\n",
    "\n",
    "                _, Qmax = policy.max_Q(next_state)\n",
    "\n",
    "                td_error = reward + self.gamma * Qmax - policy.Q(state, action)\n",
    "\n",
    "                cumulative_error += abs(td_error)\n",
    "\n",
    "                alpha = 1/Ntable[state][action] if self.alpha is None else self.alpha\n",
    "\n",
    "                policy.update_Q(state, action, alpha, td_error)\n",
    "\n",
    "                state  = next_state\n",
    "\n",
    "            history[\"cumulative reward\"].append(cumulative_reward)\n",
    "            history[\"episode error\"].append(cumulative_error)\n",
    "            history[\"episode length\"].append(n_steps)\n",
    "            history[\"episode win\"].append(env.is_win())\n",
    "\n",
    "        return policy, history"
   ]
  },
  {
   "cell_type": "code",
   "execution_count": null,
   "metadata": {},
   "outputs": [],
   "source": [
    "q_learning = QLearning(env.set_render(None), 0.99)\n",
    "q_policy = EpsilonGreedyQAgent()\n",
    "scoresQ = np.zeros([49,100])\n",
    "\n",
    "for i in range (1,50):\n",
    "    q_learning.N0 = i\n",
    "    _, q_history = q_learning.train(q_policy, 10000)\n",
    "\n",
    "    #print(scores)\n",
    "\n",
    "    for j in range(100):\n",
    "        env.run_policy(q_policy, 0, 0)\n",
    "        scoresQ[i-1][j] =  env.get_score()\n",
    "\n",
    "    q_policy.reset()\n",
    "\n",
    "mediaQ = np.mean(scoresQ, 1)\n",
    "print(mediaQ)"
   ]
  },
  {
   "cell_type": "code",
   "execution_count": 36,
   "metadata": {},
   "outputs": [
    {
     "data": {
      "application/vnd.jupyter.widget-view+json": {
       "model_id": "6c6530d868894e258a583e366b6d9c64",
       "version_major": 2,
       "version_minor": 0
      },
      "text/plain": [
       "  0%|          | 0/10000 [00:00<?, ?it/s]"
      ]
     },
     "metadata": {},
     "output_type": "display_data"
    }
   ],
   "source": [
    "q_learning = QLearning(\n",
    "    env    = env.set_render(None),\n",
    "    gamma  = 0.99,\n",
    "    N0     = 10\n",
    ")\n",
    "q_policy, q_history = q_learning.train(EpsilonGreedyQAgent(), 10000)"
   ]
  },
  {
   "cell_type": "code",
   "execution_count": 37,
   "metadata": {},
   "outputs": [
    {
     "name": "stdout",
     "output_type": "stream",
     "text": [
      "% % % % % %\n",
      "% \u001b[33m<\u001b[0m \u001b[31mM\u001b[0m     %\n",
      "%         %\n",
      "%         %\n",
      "%         %\n",
      "% % % % % %\n",
      "Score: 43\n"
     ]
    }
   ],
   "source": [
    "env.set_render('human')\n",
    "env.run_policy(q_policy, 0, .5);"
   ]
  },
  {
   "cell_type": "code",
   "execution_count": 62,
   "metadata": {},
   "outputs": [
    {
     "data": {
      "text/plain": [
       "(<Figure size 800x500 with 1 Axes>,\n",
       " <Axes: title={'center': 'Cumulative reward during training'}, xlabel='episode', ylabel='cumulative reward'>)"
      ]
     },
     "execution_count": 62,
     "metadata": {},
     "output_type": "execute_result"
    },
    {
     "data": {
      "image/png": "[encoded data removed]",
      "text/plain": [
       "<Figure size 800x500 with 1 Axes>"
      ]
     },
     "metadata": {},
     "output_type": "display_data"
    }
   ],
   "source": [
    "plot_episodes(q_history, \"cumulative reward\", smooth=101)"
   ]
  },
  {
   "cell_type": "markdown",
   "metadata": {},
   "source": [
    "### SARSA($\\lambda$)"
   ]
  },
  {
   "cell_type": "code",
   "execution_count": 39,
   "metadata": {},
   "outputs": [],
   "source": [
    "class SARSA(BaseController):\n",
    "    def __init__(self, env, gamma, lmbda, alpha=None, N0=1):\n",
    "        super().__init__(env)\n",
    "\n",
    "        self.gamma = gamma\n",
    "        self.lmbda = lmbda\n",
    "        self.alpha = alpha\n",
    "        self.N0    = N0\n",
    "\n",
    "\n",
    "    def train(self, policy, max_episodes=1000):\n",
    "        history = {\n",
    "            \"cumulative reward\"  : [],\n",
    "            \"episode error\"      : [],\n",
    "            \"episode length\"     : [],\n",
    "            \"episode win\"        : []\n",
    "        }\n",
    "\n",
    "        Ntable = defaultdict(lambda : {action: 0 for action in Actions.actions})\n",
    "\n",
    "        for _ in tqdm(range(max_episodes)):\n",
    "            \n",
    "            Etable  = defaultdict(lambda : {action: 0 for action in Actions.actions})\n",
    "\n",
    "            state, done = self.env.reset(random_init = True)\n",
    "            action = policy.act(state, epsilon=1)\n",
    "\n",
    "            cumulative_reward = 0\n",
    "            cumulative_error  = 0\n",
    "\n",
    "            n_steps = 0\n",
    "\n",
    "            while not done:\n",
    "                Etable[state][action] = Etable[state][action] + 1\n",
    "\n",
    "                next_state, reward, done, info = self.env.step(action)\n",
    "\n",
    "                epsilon = self.N0 / (self.N0 + sum(Ntable[next_state].values()))\n",
    "\n",
    "                next_action = policy.act(next_state, epsilon)\n",
    "\n",
    "                Ntable[state][action] += 1\n",
    "                n_steps += 1\n",
    "\n",
    "                cumulative_reward = (self.gamma * cumulative_reward) + reward\n",
    "\n",
    "                td_error = reward + self.gamma * policy.Q(next_state, next_action) - policy.Q(state, action)\n",
    "\n",
    "                cumulative_error += abs(td_error)\n",
    "\n",
    "                alpha = 1/Ntable[state][action] if self.alpha is None else self.alpha\n",
    "\n",
    "                for state in Etable:\n",
    "                    for action in Actions.actions:\n",
    "                        policy.update_Q(state, action, alpha, td_error * Etable[state][action])\n",
    "                        Etable[state][action] *= self.gamma * self.lmbda\n",
    "\n",
    "                state  = next_state\n",
    "                action = next_action\n",
    "\n",
    "            history[\"cumulative reward\"].append(cumulative_reward)\n",
    "            history[\"episode error\"].append(cumulative_error)\n",
    "            history[\"episode length\"].append(n_steps)\n",
    "            history[\"episode win\"].append(env.is_win())\n",
    "        \n",
    "        return policy, history"
   ]
  },
  {
   "cell_type": "code",
   "execution_count": null,
   "metadata": {},
   "outputs": [],
   "source": [
    "sarsa = SARSA(env.set_render(None), 0.99,0.2)\n",
    "sarsa_policy = EpsilonGreedyQAgent()\n",
    "scoresSarsa = np.zeros([49,100])\n",
    "\n",
    "for i in range (1,50):\n",
    "    sarsa.N0 = i\n",
    "    _, sarsa_history = sarsa.train(sarsa_policy, 10000)\n",
    "\n",
    "    #print(scores)\n",
    "\n",
    "    for j in range(100):\n",
    "        env.run_policy(sarsa_policy, 0, 0)\n",
    "        scoresSarsa[i-1][j] =  env.get_score()\n",
    "\n",
    "    sarsa_policy.reset()\n",
    "\n",
    "mediaSarsa = np.mean(scoresSarsa, 1)\n",
    "print(mediaSarsa)"
   ]
  },
  {
   "cell_type": "code",
   "execution_count": 40,
   "metadata": {},
   "outputs": [
    {
     "data": {
      "application/vnd.jupyter.widget-view+json": {
       "model_id": "f30590d4d2f649118998e3efc9f436f4",
       "version_major": 2,
       "version_minor": 0
      },
      "text/plain": [
       "  0%|          | 0/10000 [00:00<?, ?it/s]"
      ]
     },
     "metadata": {},
     "output_type": "display_data"
    }
   ],
   "source": [
    "sarsa = SARSA(\n",
    "    env    = env.set_render(None),\n",
    "    gamma  = 0.99,\n",
    "    lmbda  = 0.2,\n",
    "    N0     = 10\n",
    ")\n",
    "sarsa_policy, sarsa_history = sarsa.train(EpsilonGreedyQAgent(), 10000)"
   ]
  },
  {
   "cell_type": "code",
   "execution_count": 41,
   "metadata": {},
   "outputs": [
    {
     "name": "stdout",
     "output_type": "stream",
     "text": [
      "% % % % % %\n",
      "% \u001b[33m<\u001b[0m \u001b[31mM\u001b[0m     %\n",
      "%         %\n",
      "%         %\n",
      "%         %\n",
      "% % % % % %\n",
      "Score: 45\n"
     ]
    }
   ],
   "source": [
    "env.set_render('human')\n",
    "env.run_policy(sarsa_policy, 0, .5);"
   ]
  },
  {
   "cell_type": "code",
   "execution_count": 64,
   "metadata": {},
   "outputs": [
    {
     "data": {
      "text/plain": [
       "(<Figure size 800x500 with 1 Axes>,\n",
       " <Axes: title={'center': 'Episode win during training'}, xlabel='episode', ylabel='episode win'>)"
      ]
     },
     "execution_count": 64,
     "metadata": {},
     "output_type": "execute_result"
    },
    {
     "data": {
      "image/png": "[encoded data removed]",
      "text/plain": [
       "<Figure size 800x500 with 1 Axes>"
      ]
     },
     "metadata": {},
     "output_type": "display_data"
    }
   ],
   "source": [
    "plot_episodes(sarsa_history, \"episode win\", smooth=101)"
   ]
  },
  {
   "cell_type": "markdown",
   "metadata": {},
   "source": [
    "## Linear Features"
   ]
  },
  {
   "cell_type": "code",
   "execution_count": 23,
   "metadata": {},
   "outputs": [],
   "source": [
    "class EpsilonGreedyLinearAgent(Agent):\n",
    "    \"\"\"\n",
    "    Agent with linear approximation for Q and epsilon-greedy policy.\n",
    "    This class do not include any default training algorithm.\n",
    "    \"\"\"\n",
    "\n",
    "    def __init__(self, state_dim, action_dim):\n",
    "        self.weights = np.random.randn(action_dim, state_dim)\n",
    "    \n",
    "    \n",
    "    def act(self, state, epsilon=0.) -> str:\n",
    "        if np.random.rand() > epsilon:\n",
    "            action, _ = self.max_Q(state)\n",
    "\n",
    "        else:\n",
    "            action = Actions.sample()\n",
    "\n",
    "        return action\n",
    "\n",
    "\n",
    "    def Q(self, state, action):\n",
    "        idx = Actions.action_index(action)\n",
    "\n",
    "        return (self.weights @ np.array(state))[idx]\n",
    "\n",
    "\n",
    "    def max_Q(self, state):\n",
    "        Qvalues = self.weights @ np.array(state)\n",
    "\n",
    "        idx = np.argmax(Qvalues)\n",
    "\n",
    "        return Actions.actions[idx], Qvalues[idx]\n",
    "\n",
    "\n",
    "    def update_Q(self, state, action, alpha, error):\n",
    "        bellman_loss_grad = np.array(state)\n",
    "\n",
    "        self.weights += alpha * error * bellman_loss_grad\n",
    "\n",
    "\n",
    "    def reset(self):\n",
    "        \"\"\"\n",
    "        Reset agent's Q table.\n",
    "        \"\"\"\n",
    "        self.weights = np.random.randn(*self.weights.shape)"
   ]
  },
  {
   "cell_type": "code",
   "execution_count": 24,
   "metadata": {},
   "outputs": [
    {
     "data": {
      "application/vnd.jupyter.widget-view+json": {
       "model_id": "9476b01673284185bcad78e4b58187e4",
       "version_major": 2,
       "version_minor": 0
      },
      "text/plain": [
       "  0%|          | 0/10000 [00:00<?, ?it/s]"
      ]
     },
     "metadata": {},
     "output_type": "display_data"
    }
   ],
   "source": [
    "linear_env = PacmanEnv.contourDanger(4, ghost_names=\"RobustGhost\", state_space=\"features\")\n",
    "\n",
    "monte_carlo = MonteCarloControl(\n",
    "    env    = linear_env.set_render(None),\n",
    "    gamma  = 0.99,\n",
    "    alpha  = 0.1,\n",
    ")\n",
    "mc_policy, mc_history = monte_carlo.train(EpsilonGreedyLinearAgent(2, 4), 10000)"
   ]
  },
  {
   "cell_type": "code",
   "execution_count": 67,
   "metadata": {},
   "outputs": [],
   "source": [
    "q_learning = QLearning(\n",
    "    env    = linear_env.set_render(None),\n",
    "    gamma  = 0.99,\n",
    "    N0     = 10\n",
    ")\n",
    "q_policy, q_history = q_learning.train(EpsilonGreedyLinearAgent(2, 4), 10000)"
   ]
  }
 ],
 "metadata": {
  "kernelspec": {
   "display_name": "Python 3",
   "language": "python",
   "name": "python3"
  },
  "language_info": {
   "codemirror_mode": {
    "name": "ipython",
    "version": 3
   },
   "file_extension": ".py",
   "mimetype": "text/x-python",
   "name": "python",
   "nbconvert_exporter": "python",
   "pygments_lexer": "ipython3",
   "version": "3.9.16"
  },
  "orig_nbformat": 4
 },
 "nbformat": 4,
 "nbformat_minor": 2
}
