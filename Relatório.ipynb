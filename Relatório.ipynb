{
 "cells": [
  {
   "cell_type": "markdown",
   "metadata": {},
   "source": [
    "#### Importando Bibliotecas"
   ]
  },
  {
   "cell_type": "code",
   "execution_count": 1,
   "metadata": {},
   "outputs": [
    {
     "ename": "IndentationError",
     "evalue": "expected an indented block (env.py, line 595)",
     "output_type": "error",
     "traceback": [
      "Traceback \u001b[0;36m(most recent call last)\u001b[0m:\n",
      "  File \u001b[1;32m\"/home/danielgardin/miniconda3/envs/ML/lib/python3.9/site-packages/IPython/core/interactiveshell.py\"\u001b[0m, line \u001b[1;32m3553\u001b[0m, in \u001b[1;35mrun_code\u001b[0m\n    exec(code_obj, self.user_global_ns, self.user_ns)\n",
      "\u001b[0;36m  File \u001b[0;32m\"/tmp/ipykernel_466621/4283931886.py\"\u001b[0;36m, line \u001b[0;32m3\u001b[0;36m, in \u001b[0;35m<cell line: 3>\u001b[0;36m\u001b[0m\n\u001b[0;31m    from pacman.env import PacmanEnv\u001b[0m\n",
      "\u001b[0;36m  File \u001b[0;32m\"/media/danielgardin/Daniel/Acadêmico/Aulas/Mestrado/02 - 2S2023/MO436 - Reinforcement Learning/MO436-Reinfocement-Learning/pacman/env.py\"\u001b[0;36m, line \u001b[0;32m595\u001b[0m\n\u001b[0;31m    elif isinstance(self.render_mode, agents.Agent):\u001b[0m\n\u001b[0m    ^\u001b[0m\n\u001b[0;31mIndentationError\u001b[0m\u001b[0;31m:\u001b[0m expected an indented block\n"
     ]
    }
   ],
   "source": [
    "from collections import defaultdict\n",
    "from pacman.actions import Actions\n",
    "from pacman.env import PacmanEnv\n",
    "from pacman.agents import Agent\n",
    "\n",
    "import matplotlib.pyplot as plt\n",
    "from tqdm.notebook import tqdm\n",
    "import seaborn as sns\n",
    "import numpy as np"
   ]
  },
  {
   "cell_type": "markdown",
   "metadata": {},
   "source": [
    "# Reinforcement Learning (MO436)\n",
    "\n",
    "Autores:\n",
    "\n",
    "**Aline Cavalca Caravlho Soares de Azevedo** (RA: )\n",
    "\n",
    "**Beatriz Cardoso Nascimento**               (RA: )\n",
    "\n",
    "**Daniel Gardin Gratti**                     (RA: 214729)\n",
    "\n",
    "**Guilhermo de Luiggi Mocelim de Oliveira** (RA: )\n",
    "\n",
    "\n",
    "## Introdução\n",
    "\n",
    "Reinforcement Learning é um paradigma de Inteligência Artificial baseada em controle"
   ]
  },
  {
   "cell_type": "code",
   "execution_count": 212,
   "metadata": {},
   "outputs": [],
   "source": [
    "env = PacmanEnv.contourDanger(4, ghost_names= \"RobustGhost\", state_space=\"features\")"
   ]
  },
  {
   "cell_type": "code",
   "execution_count": 213,
   "metadata": {},
   "outputs": [],
   "source": [
    "def plot_episodes(history, metric:str, smooth=11, alpha=0.4):\n",
    "    fig, ax = plt.subplots(figsize=(8, 5))\n",
    "\n",
    "    episodes = np.array(history[metric])\n",
    "\n",
    "    n_episode = np.array(range(len(episodes)))\n",
    "\n",
    "    plt.plot(episodes, alpha=alpha)\n",
    "\n",
    "    padded_episodes = np.pad(episodes, (smooth//2,smooth//2), 'edge')\n",
    "    smooth_episodes = np.convolve(padded_episodes, np.ones(smooth)/smooth, mode='valid')\n",
    "\n",
    "    ax.plot(smooth_episodes, linewidth=2)\n",
    "\n",
    "    ax.set_title(f\"{metric.capitalize()} during training\")\n",
    "    ax.set_ylabel(metric)\n",
    "    ax.set_xlabel(\"episode\")\n",
    "\n",
    "    return fig, ax"
   ]
  },
  {
   "cell_type": "code",
<<<<<<< HEAD
   "execution_count": 71,
   "metadata": {},
   "outputs": [],
   "source": [
    "from pacman.distributions import UniformDistribution\n",
    "\n",
    "class RandomAgent(Agent):\n",
    "    def get_distribution(self, state):\n",
    "        return UniformDistribution(Actions.actions)"
   ]
  },
  {
   "cell_type": "code",
   "execution_count": 72,
=======
   "execution_count": 5,
>>>>>>> 65c1331ca49c269dd67aa9fee95f003d9b044837
   "metadata": {},
   "outputs": [],
   "source": [
    "class EpsilonGreedyQAgent(Agent):\n",
    "    \"\"\"\n",
    "    Agent with internal Q table and epsilon-greedy policy. Can learn from a control algorithm.\n",
    "    \"\"\"\n",
    "\n",
    "    def __init__(self):\n",
    "        self.Qtable = defaultdict(lambda : {action: 0. for action in Actions.actions})\n",
    "    \n",
    "    \n",
    "    def act(self, state, epsilon=0.) -> str:\n",
    "        if np.random.rand() > epsilon:\n",
    "            action, _ = self.max_Q(state)\n",
    "\n",
    "        else:\n",
    "            action = Actions.sample()\n",
    "\n",
    "        return action\n",
    "\n",
    "\n",
    "    def Q(self, state, action):\n",
    "        return self.Qtable[state][action]\n",
    "    \n",
    "\n",
    "    def max_Q(self, state):\n",
    "        action_values = self.Qtable[state]\n",
    "\n",
    "        action = max(action_values, key=lambda k : action_values[k])\n",
    "\n",
    "        return action, action_values[action]\n",
    "    \n",
    "\n",
    "    def update_Q(self, state, action, alpha, error):\n",
    "        self.Qtable[state][action] += alpha * error\n",
    "\n",
    "\n",
    "    def reset(self):\n",
    "        \"\"\"\n",
    "        Reset agent's Q table.\n",
    "        \"\"\"\n",
    "        self.Qtable.clear()"
   ]
  },
  {
   "cell_type": "code",
<<<<<<< HEAD
   "execution_count": 73,
=======
   "execution_count": 6,
>>>>>>> 65c1331ca49c269dd67aa9fee95f003d9b044837
   "metadata": {},
   "outputs": [],
   "source": [
    "class BaseController:\n",
    "    def __init__(self, env):\n",
    "        self.env    = env\n",
    "\n",
    "    def train(self, policy, max_episodes):\n",
    "        pass\n"
   ]
  },
  {
   "cell_type": "markdown",
   "metadata": {},
   "source": [
    "### Monte Carlo"
   ]
  },
  {
   "cell_type": "code",
<<<<<<< HEAD
   "execution_count": 74,
=======
   "execution_count": 8,
>>>>>>> 65c1331ca49c269dd67aa9fee95f003d9b044837
   "metadata": {},
   "outputs": [],
   "source": [
    "class MonteCarloControl(BaseController):\n",
    "    def __init__(self, env, gamma, alpha=None, N0=1):\n",
    "        super().__init__(env)\n",
    "\n",
    "        self.gamma = gamma\n",
    "        self.alpha = alpha\n",
    "        self.N0    = N0\n",
    "    \n",
    "\n",
    "    def train(self, policy, max_episodes=1000):\n",
    "        history = {\n",
    "            \"cumulative reward\"  : [],\n",
    "            \"episode error\"      : [],\n",
    "            \"episode length\"     : [],\n",
    "            \"episode win\"        : []\n",
    "        }\n",
    "\n",
    "        Ntable  = defaultdict(lambda : {action: 0 for action in Actions.actions})\n",
    "\n",
    "        for _ in tqdm(range(max_episodes)):\n",
    "\n",
    "            state, done = self.env.reset(random_init=True)\n",
    "            cumulative_reward = 0\n",
    "            cumulative_error  = 0\n",
    "            n_steps           = 0\n",
    "\n",
    "            while not done:\n",
    "                epsilon = self.N0 / (self.N0 + sum(Ntable[state].values()))\n",
    "\n",
    "                action = policy.act(state, epsilon)\n",
    "\n",
    "                next_state, reward, done, info = self.env.step(action)\n",
    "\n",
    "                Ntable[state][action] += 1\n",
    "                n_steps += 1\n",
    "               \n",
    "                cumulative_reward = (self.gamma * cumulative_reward) + reward\n",
    "\n",
    "                alpha = 1/Ntable[state][action] if self.alpha is None else self.alpha\n",
    "                error = (cumulative_reward - policy.Q(state, action))\n",
    "                policy.update_Q(state, action, alpha, error)\n",
    "\n",
    "                cumulative_error += abs(error)\n",
    "\n",
    "                state  = next_state\n",
    "\n",
    "            history[\"cumulative reward\"].append(cumulative_reward)\n",
    "            history[\"episode error\"].append(cumulative_error)\n",
    "            history[\"episode length\"].append(n_steps)\n",
    "            history[\"episode win\"].append(env.is_win())\n",
    "\n",
    "        \n",
    "        return policy, history"
   ]
  },
  {
   "cell_type": "code",
<<<<<<< HEAD
   "execution_count": 79,
=======
   "execution_count": 9,
>>>>>>> 65c1331ca49c269dd67aa9fee95f003d9b044837
   "metadata": {},
   "outputs": [
    {
     "data": {
      "application/vnd.jupyter.widget-view+json": {
       "model_id": "8c621bb8a0b142b68b52150029b7a8bc",
       "version_major": 2,
       "version_minor": 0
      },
      "text/plain": [
       "  0%|          | 0/100000 [00:00<?, ?it/s]"
      ]
     },
     "metadata": {},
     "output_type": "display_data"
    }
   ],
   "source": [
    "monte_carlo = MonteCarloControl(\n",
    "    env    = env.set_render(None),\n",
    "    gamma  = 0.99,\n",
    "    N0     = 100\n",
    ")\n",
    "mc_policy, mc_history = monte_carlo.train(EpsilonGreedyQAgent(), 100000)"
   ]
  },
  {
   "cell_type": "code",
<<<<<<< HEAD
   "execution_count": 80,
=======
   "execution_count": 14,
   "metadata": {},
   "outputs": [
    {
     "name": "stdout",
     "output_type": "stream",
     "text": [
      "[  43.   39.   43.   33.   39.   41.   37. -103. -104.   41.   39.   45.\n",
      "   33.   31.   43.   35.   35.   43.   29.   43.   43.   31.   37.   31.\n",
      "   41.   45.   37.   37.   43.   35.   45.   35.   39.   33.   41.   37.\n",
      "   29.   37.   41.   45.   45.   27.   41.   45.   37.   37.   41.   39.\n",
      "   43.]\n"
     ]
    }
   ],
   "source": [
    "monte_carlo = MonteCarloControl(env.set_render(None), 0.99)\n",
    "mc_policy = EpsilonGreedyQAgent()\n",
    "scores = np.zeros([49,100])\n",
    "\n",
    "for i in range (1,50):\n",
    "    monte_carlo.N0 = i\n",
    "    _, mc_history = monte_carlo.train(mc_policy, 10000)\n",
    "\n",
    "    #print(scores)\n",
    "\n",
    "    for j in range(100):\n",
    "        env.run_policy(mc_policy, 0, 0)\n",
    "        scores[i-1][j] =  env.get_score()\n",
    "\n",
    "    mc_policy.reset()\n",
    "\n",
    "media = np.mean(scores, 1)\n",
    "print(media)"
   ]
  },
  {
   "cell_type": "code",
   "execution_count": 20,
   "metadata": {},
   "outputs": [
    {
     "data": {
      "text/plain": [
       "[0, 2, 11, 14, 17, 19, 20, 25, 28, 30, 39, 40, 43, 48]"
      ]
     },
     "execution_count": 20,
     "metadata": {},
     "output_type": "execute_result"
    }
   ],
   "source": [
    "best_n0 = []\n",
    "for i in range (0,49):\n",
    "    if media[i] >= 43:\n",
    "        best_n0.append(i)\n",
    "\n",
    "best_n0"
   ]
  },
  {
   "cell_type": "code",
   "execution_count": 18,
>>>>>>> 65c1331ca49c269dd67aa9fee95f003d9b044837
   "metadata": {},
   "outputs": [
    {
     "name": "stdout",
     "output_type": "stream",
     "text": [
      "% % % % % % % % % % % % % % % % % % % %\n",
      "% . . . . . . %         % . . \u001b[31m3\u001b[0m . . . %\n",
      "% . % % . . . % %     % % . \u001b[36m3\u001b[0m   % % . %\n",
      "% . % o . % . . . . . . . . %   o % . %\n",
      "% . % % . % . % % % % % % . %   % % . %\n",
      "% . . . . . . . .               . . . %\n",
      "% % % % % % % % % % % % % % % % % % % %\n",
      "Score: -22 Game Over!\n"
     ]
    }
   ],
   "source": [
    "env.set_render('ansi')\n",
    "env.run_policy(mc_policy, 0, .5);"
   ]
  },
  {
   "cell_type": "code",
<<<<<<< HEAD
   "execution_count": 84,
=======
   "execution_count": 21,
>>>>>>> 65c1331ca49c269dd67aa9fee95f003d9b044837
   "metadata": {},
   "outputs": [
    {
     "data": {
      "text/plain": [
       "(<Figure size 800x500 with 1 Axes>,\n",
       " <Axes: title={'center': 'Episode win during training'}, xlabel='episode', ylabel='episode win'>)"
      ]
     },
<<<<<<< HEAD
     "execution_count": 84,
=======
     "execution_count": 21,
>>>>>>> 65c1331ca49c269dd67aa9fee95f003d9b044837
     "metadata": {},
     "output_type": "execute_result"
    },
    {
     "data": {
<<<<<<< HEAD
      "image/png": "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",
=======
      "image/png": "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",
>>>>>>> 65c1331ca49c269dd67aa9fee95f003d9b044837
      "text/plain": [
       "<Figure size 800x500 with 1 Axes>"
      ]
     },
     "metadata": {},
     "output_type": "display_data"
    }
   ],
   "source": [
    "plot_episodes(mc_history, \"episode win\", smooth=100)"
   ]
  },
  {
   "cell_type": "markdown",
   "metadata": {},
   "source": [
    "### Q-Learning"
   ]
  },
  {
   "cell_type": "code",
<<<<<<< HEAD
   "execution_count": 35,
=======
   "execution_count": 22,
>>>>>>> 65c1331ca49c269dd67aa9fee95f003d9b044837
   "metadata": {},
   "outputs": [],
   "source": [
    "class QLearning(BaseController):\n",
    "    def __init__(self, env, gamma, alpha=None, N0=1):\n",
    "        super().__init__(env)\n",
    "\n",
    "        self.gamma = gamma\n",
    "        self.alpha = alpha\n",
    "        self.N0    = N0\n",
    "\n",
    "    \n",
    "    def train(self, policy, max_episodes=1000):\n",
    "        history = {\n",
    "            \"cumulative reward\"  : [],\n",
    "            \"episode error\"      : [],\n",
    "            \"episode length\"     : [],\n",
    "            \"episode win\"        : []\n",
    "        }\n",
    "\n",
    "        Ntable = defaultdict(lambda : {action: 0 for action in Actions.actions})\n",
    "\n",
    "        for _ in tqdm(range(max_episodes)):\n",
    "            state, done = self.env.reset(random_init=True)\n",
    "            cumulative_reward = 0\n",
    "            cumulative_error  = 0\n",
    "\n",
    "            n_steps = 0\n",
    "\n",
    "            while not done:\n",
    "                epsilon = self.N0 / (self.N0 + sum(Ntable[state].values()))\n",
    "\n",
    "                action = policy.act(state, epsilon)\n",
    "                next_state, reward, done, info = self.env.step(action)\n",
    "\n",
    "                Ntable[state][action] += 1\n",
    "                n_steps += 1\n",
    "\n",
    "                cumulative_reward = (self.gamma * cumulative_reward) + reward\n",
    "\n",
    "                _, Qmax = policy.max_Q(next_state)\n",
    "\n",
    "                td_error = reward + self.gamma * Qmax - policy.Q(state, action)\n",
    "\n",
    "                cumulative_error += abs(td_error)\n",
    "\n",
    "                alpha = 1/Ntable[state][action] if self.alpha is None else self.alpha\n",
    "\n",
    "                policy.update_Q(state, action, alpha, td_error)\n",
    "\n",
    "                state  = next_state\n",
    "\n",
    "            history[\"cumulative reward\"].append(cumulative_reward)\n",
    "            history[\"episode error\"].append(cumulative_error)\n",
    "            history[\"episode length\"].append(n_steps)\n",
    "            history[\"episode win\"].append(env.is_win())\n",
    "\n",
    "        return policy, history"
   ]
  },
  {
   "cell_type": "code",
<<<<<<< HEAD
   "execution_count": 36,
=======
   "execution_count": 23,
>>>>>>> 65c1331ca49c269dd67aa9fee95f003d9b044837
   "metadata": {},
   "outputs": [
    {
     "data": {
      "application/vnd.jupyter.widget-view+json": {
       "model_id": "6c6530d868894e258a583e366b6d9c64",
       "version_major": 2,
       "version_minor": 0
      },
      "text/plain": [
       "  0%|          | 0/10000 [00:00<?, ?it/s]"
      ]
     },
     "metadata": {},
     "output_type": "display_data"
    }
   ],
   "source": [
    "q_learning = QLearning(\n",
    "    env    = env.set_render(None),\n",
    "    gamma  = 0.99,\n",
    "    N0     = 10\n",
    ")\n",
    "q_policy, q_history = q_learning.train(EpsilonGreedyQAgent(), 10000)"
   ]
  },
  {
   "cell_type": "code",
<<<<<<< HEAD
   "execution_count": 37,
=======
   "execution_count": 24,
>>>>>>> 65c1331ca49c269dd67aa9fee95f003d9b044837
   "metadata": {},
   "outputs": [
    {
     "name": "stdout",
     "output_type": "stream",
     "text": [
      "% % % % % %\n",
      "% \u001b[33m<\u001b[0m \u001b[31mM\u001b[0m     %\n",
      "%         %\n",
      "%         %\n",
      "%         %\n",
      "% % % % % %\n",
      "Score: 45\n"
     ]
    }
   ],
   "source": [
    "env.set_render('ansi')\n",
    "env.run_policy(q_policy, 0, .5);"
   ]
  },
  {
   "cell_type": "code",
<<<<<<< HEAD
   "execution_count": 62,
=======
   "execution_count": 27,
   "metadata": {},
   "outputs": [
    {
     "name": "stdout",
     "output_type": "stream",
     "text": [
      "[45. 43. 45. 43. 43. 45. 43. 45. 45. 45. 45. 45. 45. 45. 43. 45. 43. 45.\n",
      " 45. 43. 45. 45. 45. 45. 45. 45. 43. 45. 45. 45. 43. 45. 43. 43. 43. 45.\n",
      " 43. 43. 43. 43. 43. 45. 45. 45. 45. 45. 45. 43. 45.]\n"
     ]
    }
   ],
   "source": [
    "q_learning = QLearning(env.set_render(None), 0.99)\n",
    "q_policy = EpsilonGreedyQAgent()\n",
    "scoresQ = np.zeros([49,100])\n",
    "\n",
    "for i in range (1,50):\n",
    "    q_learning.N0 = i\n",
    "    _, q_history = q_learning.train(q_policy, 10000)\n",
    "\n",
    "    #print(scores)\n",
    "\n",
    "    for j in range(100):\n",
    "        env.run_policy(q_policy, 0, 0)\n",
    "        scoresQ[i-1][j] =  env.get_score()\n",
    "\n",
    "    q_policy.reset()\n",
    "\n",
    "mediaQ = np.mean(scoresQ, 1)\n",
    "print(mediaQ)"
   ]
  },
  {
   "cell_type": "code",
   "execution_count": 29,
>>>>>>> 65c1331ca49c269dd67aa9fee95f003d9b044837
   "metadata": {},
   "outputs": [
    {
     "data": {
      "text/plain": [
       "(<Figure size 800x500 with 1 Axes>,\n",
       " <Axes: title={'center': 'Cumulative reward during training'}, xlabel='episode', ylabel='cumulative reward'>)"
      ]
     },
     "execution_count": 62,
     "metadata": {},
     "output_type": "execute_result"
    },
    {
     "data": {
      "image/png": "iVBORw0KGgoAAAANSUhEUgAAAroAAAHUCAYAAADV64uuAAAAOXRFWHRTb2Z0d2FyZQBNYXRwbG90bGliIHZlcnNpb24zLjcuMSwgaHR0cHM6Ly9tYXRwbG90bGliLm9yZy/bCgiHAAAACXBIWXMAAA9hAAAPYQGoP6dpAAB0QklEQVR4nO3dd3yT1f4H8E920pF075a2rAJllg3KXiKKeAVEURxcFRG4qCiOCw5ARf3h1eu8V3DjQi8KKhtEQPZGBC200JbV0gKdSc7vj9rQNKNJmzTr8369+no1z/zmOcmT73Oec84jEUIIEBERERH5GamnAyAiIiIicgcmukRERETkl5joEhEREZFfYqJLRERERH6JiS4RERER+SUmukRERETkl5joEhEREZFfYqJLRERERH6JiS4RERER+SUmukQ+aP/+/bjrrruQlpYGtVqNkJAQdOnSBS+99BIKCws9HZ5dc+fOhUQiadC6K1euxNy5c63OS01NxaRJkxoeGJlMmjQJqampDV7fXWXhyTKeP38+vv32W7ds+8SJE5BIJFiyZEmD1udnn8g2uacDICLnvPfee5gyZQpat26NRx99FG3btkVVVRV27tyJt99+G1u3bsU333zj6TDdYuXKlfj3v/9tNdn95ptvoNVqmz4oajKeLOP58+fjb3/7G0aPHu3ybcfHx2Pr1q1o3rx5g9bnZ5/INia6RD5k69ateOCBBzBkyBB8++23UKlUpnlDhgzBww8/jB9//NGDEXpO586dPR2CSVlZGTQajafDsKmqqgoSiQRyuW/8BNQcT28qY3vKysqgVqsdvnOhUqnQs2fPBu/PV44LkSew6QKRD5k/fz4kEgneffddsyS3hlKpxA033GB6LZFIrNZ+1r3VuWTJEkgkEqxbtw6TJ09GZGQktFot7rjjDly5cgUFBQUYO3YswsLCEB8fj0ceeQRVVVWm9Tds2ACJRIINGzaY7cfRW7Kff/45hg4divj4eGg0GrRp0waPP/44rly5Ylpm0qRJ+Pe//216XzV/J06csHhP586dg1KpxNNPP22xr99++w0SiQT/+te/TNMKCgpw3333ISkpCUqlEmlpaXjmmWeg1+vtxl2z3+uvvx7Lli1D586doVar8cwzzzi83W7dumHkyJFm22zfvj0kEgl27NhhmrZs2TJIJBIcOHAAAHD8+HHcddddaNmyJYKCgpCYmIhRo0aZ5teoKZuPPvoIDz/8MBITE6FSqXD8+HEA1WXfunVrqFQqtGnTBh9++GG977lGVVUVZs2ahbi4OAQFBaFv377Yvn27xXK2mqvUfO5qyrC+41n3c1vz3j777DM8+eSTSEhIgFarxeDBg3H06FGzfQkhMH/+fDRr1gxqtRpdu3bF6tWr0b9/f/Tv39/u+5RIJLhy5Qo++OAD0+euZp2a97Bq1SrcfffdiI6ORlBQECoqKhwuI2vfk5pjdujQIdx6663Q6XSIjY3F3XffjeLiYrP1PXVciHyBb1zOExEMBgPWrVuHrKwsJCcnu2Uf9957L8aMGYOlS5diz549eOKJJ6DX63H06FGMGTMGf//737FmzRq8+OKLSEhIwMyZM12y32PHjuG6667DjBkzEBwcjN9++w0vvvgitm/fjnXr1gEAnn76aVy5cgVfffUVtm7dalo3Pj7eYnvR0dG4/vrr8cEHH+CZZ56BVHr1mn7x4sVQKpW47bbbAFQno927d4dUKsU///lPNG/eHFu3bsXzzz+PEydOYPHixfXGv3v3bhw5cgRPPfUU0tLSEBwc7PB2Bw8ejDfeeANVVVVQKBQ4c+YMDh48CI1Gg9WrV6Nbt24AgDVr1iA2Nhbt27cHAOTl5SEyMhIvvPACoqOjUVhYiA8++AA9evTAnj170Lp1a7MYZ8+ejV69euHtt9+GVCpFTEwMlixZgrvuugs33ngjXnnlFRQXF2Pu3LmoqKgwO2a2TJ48GR9++CEeeeQRDBkyBAcPHsSYMWNw6dKletd19nja88QTT6BPnz74z3/+g5KSEjz22GMYNWoUjhw5AplMBgB48sknsWDBAvz973/HmDFjkJubi3vvvRdVVVVo1aqV3e1v3boVAwcOxIABA0wXT3WbCtx9990YOXIkPvroI1y5cgUKhcLpMrLm5ptvxrhx43DPPffgwIEDmD17NgDg/fffr3dddx8XIp8giMgnFBQUCABi/PjxDq8DQMyZM8dierNmzcSdd95per148WIBQDz00ENmy40ePVoAEK+++qrZ9E6dOokuXbqYXq9fv14AEOvXrzdbLjs7WwAQixcvNk2bM2eOsHfqMRqNoqqqSmzcuFEAEPv27TPNe/DBB22uW/c9LV++XAAQq1atMk3T6/UiISFB3HzzzaZp9913nwgJCREnT540297LL78sAIhDhw7ZjLVmvzKZTBw9etRsuqPbXbNmjQAgNm3aJIQQ4uOPPxahoaFiypQpYsCAAab1WrZsKSZMmGAzDr1eLyorK0XLli3FP/7xD9P0mrK59tprzZY3GAwiISFBdOnSRRiNRtP0EydOCIVCIZo1a2b3fR85ckQAMNuXEEJ88sknAoBZWdgq85rPXXZ2tmmareNZM6/2dmve23XXXWe23BdffCEAiK1btwohhCgsLBQqlUqMGzfObLmtW7cKAKJfv35236sQQgQHB5vtu+57uOOOO+rdhq0ysvc9eemll8y2MWXKFKFWq83KzJPHhcjbsekCEZlcf/31Zq/btGkDABa31tu0aYOTJ0+6bL9//vknJkyYgLi4OMhkMigUCvTr1w8AcOTIkQZtc8SIEYiLizOrkf3pp5+Ql5eHu+++2zTt+++/x4ABA5CQkAC9Xm/6GzFiBABg48aN9e6rQ4cOFrVfjm63T58+UKvVWLNmDQCYbhsPHz4cW7ZsQWlpKXJzc3Hs2DEMHjzYtH29Xo/58+ejbdu2UCqVkMvlUCqVOHbsmNVjdvPNN5u9Pnr0KPLy8jBhwgSzZgXNmjVD7969633P69evBwBTzXiNsWPHNrrtr7XjaU/t5jo16wMwfUa3bduGiooKjB071my5nj17Nmp0idrqHl/A+TKyxtp7Ky8vx9mzZxu0LtC0x4XI09h0gchHREVFISgoCNnZ2W7bR0REhNlrpVJpc3p5eblL9nn58mVcc801UKvVeP7559GqVSsEBQUhNzcXY8aMQVlZWYO2K5fLMXHiRLz++uu4ePEiwsLCsGTJEsTHx2PYsGGm5c6cOYPvvvsOCoXC6nbOnz9f776sNZ9wdLtqtRp9+vTBmjVr8Mwzz2Dt2rWYNWsW+vfvD4PBgJ9//hmnT58GALNEd+bMmfj3v/+Nxx57DP369UN4eDikUinuvfdeq8esbowXLlwAAMTFxVksGxcXZ9Zu1hpb68vlckRGRtpdtz7Wjqc9dfdX03695jjUxBobG2uxrrVpDWEtZmfLyJr63ltj1m2K40LkaUx0iXyETCbDoEGD8MMPP+DUqVNISkqqdx2VSoWKigqL6TU/cK6iVqsBwGJfjiSJ69atQ15eHjZs2GCqxQWAixcvNjquu+66CwsXLsTSpUsxbtw4LF++HDNmzDC1TwSqLyA6dOiAefPmWd1GQkJCvfux1tHKme0OGjQI//znP7F9+3acOnUKQ4YMQWhoKLp164bVq1cjLy8PrVq1Mmub/fHHH+OOO+7A/PnzzbZ7/vx5hIWF1RtjTRJUUFBgsay1aXXVXj8xMdE0Xa/XW3y+an8+aneitPX5aOg4y/XFeubMGYt5BQUFLqm9tBazs2XU1JriuBB5GpsuEPmQ2bNnQwiByZMno7Ky0mJ+VVUVvvvuO9Pr1NRU7N+/32yZdevW4fLlyy6Nq+YHse6+li9fXu+6NQlC3VEk3nnnHYtlnanNAqqbWPTo0QOLFy/Gp59+ioqKCtx1111my1x//fU4ePAgmjdvjq5du1r8OZLoWuPMdgcPHgy9Xo+nn34aSUlJyMjIME1fs2YN1q1bZ1abC1Qft7rHbMWKFaba3/q0bt0a8fHx+OyzzyCEME0/efIktmzZUu/6NT3yP/nkE7PpX3zxhcVoFbY+H7U/q+7Uo0cPqFQqfP7552bTt23b5nATHJVK5fTdhcaWkbu54rgQeTvW6BL5kF69euGtt97ClClTkJWVhQceeADt2rVDVVUV9uzZg3fffReZmZkYNWoUAGDixIl4+umn8c9//hP9+vXD4cOH8cYbb0Cn07k0rri4OAwePBgLFixAeHg4mjVrhrVr12LZsmX1rtu7d2+Eh4fj/vvvx5w5c6BQKPDJJ59g3759FsvWjDjw4osvYsSIEZDJZOjQoYOpiYU1d999N+677z7k5eWhd+/eFj3dn332WaxevRq9e/fGtGnT0Lp1a5SXl+PEiRNYuXIl3n77bYdqz+tyZrtZWVkIDw/HqlWrzBLxwYMH47nnnjP9X9v111+PJUuWICMjAx06dMCuXbuwcOFCh2OVSqV47rnncO+99+Kmm27C5MmTcfHiRcydO9dqc4a62rRpg9tvvx2LFi2CQqHA4MGDcfDgQbz88ssWIxJcd911iIiIwD333INnn30WcrkcS5YsQW5urkOxNlZERARmzpxp+nzedNNNOHXqFJ555hnEx8c7NMJE+/btsWHDBnz33XeIj49HaGhovaMmNLaM3M0Vx4XI2zHRJfIxkydPRvfu3fF///d/ePHFF1FQUACFQoFWrVphwoQJmDp1qmnZRx99FCUlJViyZAlefvlldO/eHV988QVuvPFGl8f10Ucf4aGHHsJjjz0Gg8GAUaNG4bPPPkPXrl3trhcZGYkVK1bg4Ycfxu23347g4GDceOON+Pzzz9GlSxezZSdMmIBffvkFb775Jp599lkIIZCdnW33Fuv48eMxY8YMnDp1CnPmzLGYHx8fj507d+K5557DwoULcerUKYSGhiItLQ3Dhw9HeHh4g46HM9uVSqXo378/vvnmG7OEtlevXggODkZZWRkGDBhgtv3XXnsNCoUCCxYswOXLl9GlSxcsW7YMTz31lMMx3nPPPQCqLxzGjBmD1NRUPPHEE9i4caPFmMjW/Pe//0VsbCyWLFmCf/3rX+jUqRO+/vprjB8/3mw5rVaLH3/8ETNmzMDtt9+OsLAw3HvvvRgxYgTuvfdeh+NtjHnz5iE4OBhvv/02Fi9ejIyMDLz11lt48sknHWpG8Nprr+HBBx/E+PHjUVpain79+tV7jFxRRu7W2ONC5O0kovY9KyIiogCRnZ2NjIwMzJkzB0888YSnw/EaPC7kT5joEhGR39u3bx8+++wz9O7dG1qtFkePHsVLL72EkpISHDx4MGBHGeBxIX/HpgtEROT3goODsXPnTvz3v//FxYsXodPp0L9/f8ybNy+gkzkeF/J3rNElIiIiIr/ELpVERERE5JeY6BIRERGRX2KiS0RERER+iZ3R6jAajcjLy0NoaKjLH0NJRERERI0nhMClS5eQkJBg9+EmTHTryMvLM3uePBERERF5p9zcXLtPG2SiW0doaCiA6gNX9zGWREREROR5JSUlSE5ONuVttjDRraOmuYJWq2WiS0REROTF6mtmys5oREREROSXmOgSERERkV9ioktEREREfomJLhERERH5JSa6REREROSXmOgSERERkV9ioktEREREfomJLhERERH5JSa6REREROSXmOgSERERkV9ioktEREREfomJLhERERH5JSa6REREROSX5J4OINCVVxmw+dh5nL1UYTGvTXwojuRfQouYEFwqr8KZEvNlRnaIR4hKjs935JpNH9s1CXKZFBdLK7HyQIHNfWcmahGqVmD3ySJU6I1m80LUcrRL0OJIfglKyvSm6T3TI7Dtz0IAQFSIEgMzYrD68BkUlVaZltFq5Ggbr8WpojKEqOX4Lf8SBmbEoKi0EkVXKtEzPRJb/riAc5fLkaDToEd6JABg9eEzOGflONgSpJShUm+E3igAAAMyoqFVK/C/vXkAgO5p4SgqrcKxM5dN60glgEwqQeu4UBwtuIQqgzDbZrfUcKRHh1gc07rGd0uGVCoBAPx4MB+FV6oslhnXLRmni8qw82QhKvRGKGRSVP51nCOClSi8UgkAkEsl0BsF+raIwokLVxAVosLe3Ium7fRuHgmjEKbjDgBtE7TQquVm0wAgWCXDlQqD1Zh7N68+7gBwXfs4FJVWIaewFBIAp4rKTMslhWsgl0lw4nyp2frxOjXSooJN24gMUSIyWInyKiNyCktN7yM9OhhnL1VAKgFaxoRi18ki0zYGt43BL8fPQyqRoFfzSPyWfwlJ4RqkR4fAaBRYWs9xt+faVlFICg/C5mPnkVNYHbtOo4BKLkWHZB2MRmDdb2cBVB/zHukR2Jt70eJ4xYSqoJBLcbrWMQlRy3G5XI+6RraPx57cIly4XIlWsaFon6TDrr/K+8T5UsikgEImhVwmxTUtorDrZBHOXqrAjZ0SYBQCG46eQ1mlAT3TI7H5+HkEq2TQahRoFRuKxDAN9AYjVhzIx5UKA9QKKcqrjIgIrp5ft+wB4JqWUbhUrjf7/NRoHReKrGbhuFKhx//25iFWq8KgNrFmx6uGRAKIWl+N9ok6HDhdDABQyCSQSiRQKarrSUrK9OiYrENSeBBW7M8HAAxtF4uLpZXYnl2E7mnhiAhW4ceD1eeiYJUMWrUCWo0CRwsuITJEiQuXK03HfnDbWABApd6In4+dMzvvZcSH4rf8S6bXbeJDkR4VghUHqvcbqpZDJpWga7NwlFcZsfn4ebP3JZUARvOvvE3BKhlu6JiAKoPAlj/OIyJYiZMXSnHpr89Bx2Qd9uUWIyJYYfb9bx4dDKlUYnbeAQCZFDDUOs3KpRIEqWSI16lRUq5HRZXB6nmkxrB2sdidc9HsHJkQpkbv5lFQyqX4cmcuqgwCHZJ02H+q2Gxda5/flIggi3If2i4WBcXl2H+qGG3iQ9E5JRwA8OmvORbxyGUSDGsXh90ni5BfXG4z7hrNo4Pxx7krAID4MDX6tYzG8n15KK20PF+p5FLTb1J4kAIj2sfjUnkVvtuXb1omVquCTCpBz/RILNt92mz9TslhCAtSYMPRc6ZpLWJCcPyseZnUJyJYgeGZ8Th4utjimNY2qmM8fj9zGUcLLqFrajiO5JfgSoUBwSoZQlRyVBmMFmUbpJRBQKBXehTidGoUl1Vh18lCFBRfLd+kcA16N4/EvlMXUVBcgWCVDCq5DNnnryAtKhi9mlf/dq7/7axDZVBDIZOgyiDQLkGLwtJKtPzr2JRXGU2/SzUm9EjB4bwSi3NKz/QIpEeHYOn2HNN3KjNRiw5JYQ7H0VQkQggHv/aBoaSkBDqdDsXFxdBqtW7f35bj53HiQmn9C9qQFhWM7PNXzKa1TdCiU3KY1ZOTq9Wc7J2RGhlk9p6HtYtFWJCy3uTSEbFalcUFgbOymoWbJWfW9EiPQPPoEADWfwQA62VD1k3okYI/z122mrw5u52m+NzbclPnRHyz57TVeTU/LjX/h6jkZheIdU3okVLvD6yzbu2ejC93njJdHLryeIWq5aYksDEm9EgBAOzJKcKRWkmtLXE6lVly4EoDMqKRd7EcRwvqj8NT2sSHIiNOa/Nz1xhjuyahpFxvukhxpc4pYdiTc9GhZW/slICNv5/DRSvfF1d97mwZ0jYWqw+fcdv2gerP/PJ9eVYvpute3NU2uG0MFFIpfnBD+dSOzdY54rr2cRaVaTXf36bgaL7GGl0PK9dbr31zeP0qy/UrrExzl7o1oo4oqxOfQQi46nrLWu2AsyocKJMqg7HeZRpbtoGmIZ8lb2O08zmu/f6qDAJXHPisOvJZdJbe0SpNJ5VWujbZKK+q/zsGwFQb7A56g2jS82lDVOiNdj93jWEU9j/TjWHtt8sWgxC4XGH98+XOJBcADG76vtRVauP9lds5T+gNAhJ47rzZVMemsVijW0dT1+h+veuURbMBVxieGeeWq3Aib1b79ihZCgtSWK0V8za1b10Tke+oaTrZFBzN19gZzcPcdTJfdYhJLgUeJrn2+UKSC7jvvEhE7tXY5mfuwETXT/nIHQUiIiLyE5crvO9imokuERERETWaN1ayMdElIiIiokaLDFZ6OgQLTHSJiIiIqFEkxipEMNElIiIifxZcmguJ8O5h2ci1kgrW4ua1/VBwbJenQ7HAcXQpYOgu/Y5yZSQqVJGeDsWCsrIYRqkcellQ9QSJxLMB/UVVWYSI4sM4G5EFg0zt0m1LjFUQUoVLt9kYUkMFwi8dxQVdJiBhHYC3cfrzIgRkxnIEl+XDIFXhxo3DTbPKlRHYk/EwZPoynI7phzJNHABApi+FQR7UsACF8JrvraNiLuxA7IVfcbj5vda/338dQwEpxq/qapq8ou/XKA5tZbHs0G23I+rifrPJnw7f32THRWYoQ0TxYVzQZcIoUzXJPn2GEMjI/gDRF/dic6eXIaSuS/8Szm7EtXtmAAC6b7wDaL0aiG7tsu03FsfRraOpx9H15FOc3MJLT/Yp+T+i795HUSULwv/6/4RKZRgAIOHsJvTf9SAAYFebx3AseSyMMtfdegkuPW32A1vji8FbkXxmDXodeNrqet9dsxyXQtIc35EQmPBjBwDAxZAWWHnNNwCqk4M+e2ch5cwa06KXNYk4H9YRedHX4GT8cJsnPJmhHONWdTObtqXDfJxIHPXXezsFTcV5nA/r6HCZy/SlGLe6h9m0UlUMlvf/EcqqYpQrIwGJBOHFRzBiy1j82u6f+CPlFpvbkxqrEHlxP4q0baC3k6DI9VcwdnVPh2IEgP0tpiCqeD8Szm0GAORF9UHC+V+sLru6x2KcC88CJBIoqi6h3R/voW32YrNlvhjyq934nBVefBgjtoyrd7k13d/H2chuthcQAtor2ei1/0lEFh/Eqp4f4nx4Z4tldJePoUwVU/29EQIK/WVUyUOslrvUUIHYwh0o1LVDhTLcYn6zvBXocuQl/NT7M1QoIxB/bjN6HJyLkuA0bM/8J4pDW5otn3r6O/Te/4TFdkzJljBCbig3O74SYxVu/amL/YNjR5kyEt8MXFfvBU/olRMYtan6+1AQ0R3ruv/H4pioKougrjiPsEu/41TsQBhkGqvbkhir0P3gs2h++luz6WciumF3xsPQXjmB5qe+wdnwLBTq2qFlzlKoKi/CIFOjKLQ1drd9zGac6ae+QVBZAY6k32VKaEOu5OCGTSNNy+xtNR3t/ngXCkMZfs2cgy5HFkJhqP+pnWu7/wd6qRrDtt1udf72tk/heLP6P6v29N77GFLzVzq1zv/6rcSVoGTLGUIgumgPikPSTb8DNRRVl3DLmt4Obb9UFYO13f+DclUkqhTO5QotTy5Ft8PzAAC5sQNhkKoQWXwIe1tNR27cEEiNlQgv+Q09DzwF3ZUTVrfx9cANFpU26vJzkBnLzd631FCJ0esHQV110WxZi3ODMGLCjx1txnw6uh+0V/7Ej70/R5Ui1DQ9uPQUbtw4wvT6fEQXRD3wA6BwbcWINY7ma0x062Ci23DBpbkYtH0yQspOY9nA9ShXRbl1f1FFezF020SzaRdDWmBNj8UWJ7AJP7Q3/X88aQy2t38GANB/x/0WCcx3136HS8GpVvepvfwnBm2/B5qK82bTf+r5MdSVF5Af1dcsUe702ytom73EyXcGnNd1wKren9S7XHjxIQzddgdK1XEILW3YZ8laUi0zlCPh7CZcs/dhh7axqcsinIodVO9yzXO+RI9DzzoV36bOi3AqznLbEqMet/7U2WJ6buwgbOm4wJRQqCqLcPPaa53ap6vtaPsEjjW71fS67+6ZSDmz2ubylfJQKPWWj/0sCWqGS8GpSDy30eF9fzrigOn/Tr+9apGE2/ND76UYsWW8zfnf9l+N0r9qQwEg4uJBDN9a/T4vBaXg+2uXQ0hkpvkZfy5Bl6Ov1Lvf3RmPQGqsRKff/+VQnAaJAls7zkdOfPVFZds//oNOv7/m0Lr1+bb/TyjVJJheS4x6XLt7GhLP/Wyx7Iq+36A4tIXpddrp5ei1/0nTa71UhS+G7jBLhoPK8jB6w7BGx5kbOxA/d7F8z5nH3kKH428CqL6AO9jyAQBAi5Ofo/vh5xu9X0fU/gzWFXIlFzdsus70+vOh280uBqSGCoxd1R1SODe28h+JN+LXDlffn9RYhYzsDyw+FyfjhuKXTi8DEgna/vGew5+52nJjB+HnLotMr2PPb8OgHZOd3o6zalcEaMoKMOrnGyA3lGFTl0XIj+qNcau6O7Sd4uBUmwm1NYWhGfix75cYsnUioi/uNZu3fOR23NCtaWpzmeg2UCAnuvHnfkZM4S4cSxmHMlU02h9/EwnnNuOnXp84dMvwml3TkHx2PQDgaLPbsKvt4w2Ko9/OB5F4blO9yd7AX+9BXOF2i+l7W03H4eb3ml63O/4OOh57w6kYPh/yq9VbmDet7QdNpf0Bsb8Ysg099z9lVovaEPZ+HABAU34GN60f3Kh91PZLxxdwMv46U82ws/7X7wfIDeVQV5zH2YiuFjXFHY8uQrs//9uoGH/q9QlUlRfR/vhbiCw+aHfZPa1moPPvixq1P1eqUGjx/bXfI+78NvTZN6tJ910YmoGfu/wfRm0aBalw3SNTS1Ux+HbgWgDWa+u/7b8KpZp40+vR6wYhqOKsy/bfVCrlociP6o3Ywh1Q2/n+X1HH4n/9V5sS2QE77kP8+S1my9RNnG9Z1RMKQ+MfdFIlC8amLv+Hy0HJuBKUBMC8xrmpFAenY0/GTPTfNdU0rVIeglW9PkFJcJpZki81VmF8nZr382EdsKrX1fN+7PmtGLTj7w2O50T8CMgNZUg6u8Huciv7fIXrfvlbg/fzv34/mI77uB+7QCbcP55sflRvrO/6NiCRICP7A3T57WW379OejV3+hcLkQbipc1KT7I+JbgMFSqJb90fJ3q1ZoPpWe2TxAXT5bSFOxI+EXh6EcmUEcuOGIunsOly7e4bZ8peCkvFdP+duNUEIZB5/21T7AABfDfrZrHbWkZqaS5okfNf/B9Pr2rW5zlp+7QoM3zLeau2aLTmxg51Ocve3mIITCSPRf+cUaEtPAgAuaxLw3bUrbDYtyDz+Njoc+7dT+6nPgeb3of0f71hMv6KOR3B5vsPbyY0ZgJ+zzGtGbtgwHCFlp02v/0gcbXGbtin9njIeQeUFSDq7Ab+njEOFIgwXta1xzZ6ZNtc5nDYJR1MnovNvLyM1/webywWSK+o4BJdbfxLjqZj+2JT1OgAg/txmDNj5QIP3892130Ni1GPwr5MsbsPas7PN4ziRcD0MUoXZxatcXwqZsQItcr4wXQjvaT0TnY++2uAYAWB91zeRH30NtJf+wPWbR1tdZvm1K3A5OAWjNl6H0NLcRu2vLgEJvr92OVqf+Bitcj5v9PYOpd+Ddn/+13TXRmqoRJ99jyL5zDqLZdd2ew9nonpCaqgwa9Nb27IB66C78id0l/9AqTrW4rcDqK4s0MuDzZpk1fV7yni0yP0S0r86vW3I+jcqFDqbTSicVRTaGrvazIKqqhg99z/lUDMOdzqWPBZ50X2Q+ce7iCw+1KBtbMt8FkIiRa8DT9ldrlDbBuXKCLs5gcW22z+LP5NugkYpZaLr7QIl0W118lN0PbzA4eW3tn/e6pdjS4f5VtvPAfXXSNZlrfbj586vIjduCIDqDlt/W9vX6rr7Wk41q7VdOmw3jFKF1RoDay5rEs2SMHeo3SlDXX4OUmEwu+0LAH32PIJmBT9ZrLuyz1e4qG2N+HM/Y8DOKXb3s6b7fzF4+z0AgO3tnsbx5L9ZbWvo6AXA2fAuWNftPRhlSsSe34rM4+8gO/FGnInsZreGMCd2CIxSObZ2XABN+VmM3jDUbP43A9aiTB2D0MvZMMhUqJKHoOvh+TgT0R150ddgzPqBDsVXIzvheiSdWW+zduynnh/jQrjtNmi1SY1V1W2GVVFQVJVAU3EeJSHpVpdVV5zHNbtnIPriPhxofh8ONf87jDKlwzXuZ8Kz8Gv75zBgx98RWnbKofgA8xqkuhypPc+JHQJ15XlsyHoTekUIgOpmHsn5qyxuadd3IWzPpyMOIOnMWrOEplIegu+v/Q5hl37H2fCupuY+ysqL+Nvaa8zW397uaRxPGWux3cQz69Fv97R699+QZlSa8rPo8ttCNMv/0e5y29s+hfPhHXHdL7bbkTtjXdd3UBDtQBvRWn0hBm2bhNgi857uW9s/hx4H5jh8u/+zYbvN7topqopRJdc61PZeaqwChNGi81djm498OuIAwkqOmtWy1r1bZ8FOYlzbubBOFrfcaytVxeDbAavrbaOddXg+Wp/8rN791VUQ2aO6PXcdrU58gvbH38KaHktQHNLc6vGXCAPG/tStQTXGpnIWAqPXDza7u3Ii/jps6/A8jHbu3tYtD4vtAkx0fYHfJ7p/NcTvt+tBKPWX3b47Z5Jda4nXBW1bbO24ANf/fKPN9S7oMrGq50dm7TVr2g7W7shSHJyKlX2/QZvsJWYn4AMt7seBFlPQ/vibaH/8bYdiPZw2CXtb/wPDtt5W7y10APim/2pTz2574s5twcCd91md9/01/7N5HLa2fw6xhTvwW+oduKh1rH1Ur32zkZb3vc35R9LuxMHmk1Gl0NlcptWJT9D1yAt295OdMBLRRXsQUpZnmvZD789RpGtrd73Ii/sxbOttdpepsfzalbgcXN0BI6isAKM3DDGbb6/dtTvFnd+CgTuslycAfDNgDcrUsS7fr8SoR/KZNSgOaYG481uQ9dtCs/m/Zs7FH8k3292GXF+KlPyfcDrmWotOL9dvvN5056EhfkudiN1tbDffUFYWwyBT2uy4VVvrEx8j68iLpteXNYnY3eZR5Ef1hkGqblTnWHXFeVz3800WNcire3yAcxFXL6DbH3sT7Y+/ZXM7p6OvReK5TXb3Vbedp6Na5HyB7oeec3o9APix91IU6to1aF2HCFFdqVLPOcIRde/U2SIx6pGavxKZx96yeuG4ttt7MErlGPLrXTa3Ubd5iS2xF37FwO2TIYH1NOq3Zrfb7STYUI62td/caSFy4oe7doQbYUTbP/8Lhf4yDrZ4wGK0Dia6PsDfEt3mOV8isvggjqRNwhVNImILd2DAzvvdus/aVvb5Ehe1GfUul3hmA/rtfsjp7dfuBFW7jXBJcCq+v/Y7s85mNQ3o69M6+0OLxKC2otDW+LHP5xASGSTCAInRAEBYvVVXt+mFI4JLc3HjxuvqX7CWujUyjpAY9UgpWIVyVSQGbbesJVnT/b84G1l/ZwZNWQEqlWEwShXos+dRu52sgIad/Af9ejdiC3eYTas3SfSyEUAkxiqM3jDU1JHxsiYRy/vbrzF0GSGg0JdAoS+DABy66LKnbgJ/RR2Li6EZSDy3EXqZBmXKSLu103U7HPm6+tqRfjrigFlP+7oKtW3wY58vGrx/RdUltMj9Ep2P/p/FvLyoPtjQ7W1IjHqXDinlrPruIG3IesOsXW9dh9Lvxb7W053e76iNI00ddatkwfh68M8wSuRIzfseMkM5/kj+GxT6EgiJokEjowSV5cEoVUJ3+Q+z8+jeVtPxW9qddmtIG0UYIRFGdPz9NVOH5xPxI7Cl00vu2Z+D1AopxnRhouvV/CnRdeQ2tzUr+n6DkZtvcnq935rdjha5X0JurDBNy4/shfXd3rmacAgjEs5tRsaJD3E+rAP2t5pmty2bLbszHsFvaXeaTauvx2y9Qy3V0v3gXLTI/dps2udDd9gdS1ZqrMKQbRNN7afWdnsXZ6J6ObQ/i20ZKnHDxhH1dty5GNIcK6/5tkH7qK3/zgdMQ2kBV5tKOCvxzDr02237x8ggkePz4Xuc3q7MUIZ+ux5CpVyL8+EdcUHX3qxGjbyLvY4xx5NvxvbMuU0bkLsJgdS8Fejy20Ks7rEEHY7929QEKT+qd/U5EMDwX8YiouSIxeqH0u/BvtYzGhWCrVFINmS9gbyYfo3ativcsqo7FIYy0+stHRagIKonlFUlpmZB/XZOtTmiiM3hwuqRVLDWNMbrl4M3271DRY3HRNcH+FOi22vfE0jL+87uMifjhqJSoUPL3C9xQdcOP/X6DJBIoCmr7lxSpo5Ft0PPomXuVzgb3hnHUm5FdNEuxBTuRNjlP0zbqeldLTHq0fXwArTMvVo7cTzpZrQ49bXFvoHqH726CSUAXNC1s9vg3tqoCIqqEtyypo/Ndb4YvNXUFrE+6orzGLNuAABga4d5OB19rdM1s67Q7eAzaJn7lc35B5tPxv5W9bdTrJcQiCg5jJKgZg4fI1vs1VwdTpuEvRmODVlGvi3t1LemcaK3tX8WepkGMkM5TiaMdF8tlxeRCAOCS/NwOSjJ+p0FYURq3goURPZEuTraNTsVRoRdOgbd5T/RZ98s7GzzOH5Pdaz5j7vFXvjVrMZz6dCdFu16g0tPo8tvC1GmisaejJkQkPLBDz6mX+toJIY1zd0aJroN5GuJrtRQgRs3DIUE1Z17at+aGruqO+S1rqCt+aH3UhS5uI2WrYckOOL3lHHY2e4pqCqL0Gfvo4i78KvFMpc1CVje37LDFgAk56+yOvartRpgX6CqKMTN667Wxqzo+w3CS46g9/4nHB5rt6mpK86j366p0F36A9mJ1Z3Vmp/6BufDOmBN98UufSAHEfkOiTBAXXEeZaoYr2pWRK4zoUdKk+3L0XyNjwD2cSM3jzGN63rNnn+YhvJRV5y3muReDGluqond3/JBlye5AHAlKBGH0u9Fuz8te5XW53RMfwBAhTLcrFdq7SeY/ZE0xub6l4LNv2SreyzGuQjrw9z4ggpVhEWHvuLQFqank3mjclUUfuq91Gzar+2de0gEEfkfIZG5pfMlkT1MdH1c7adh1R4Qu9XJTy2WNUiVLmnP6Yh9racjovgg4i9sc3idw2mTUBBp/TGteTHX4rNhe6qfsmSnJuCiNgO/Zs5BdNEe7Gs1jSdVIiKiJtAhyTvbP9sfJI58kxDI/OM9s0kbst7A58N22VjBPWrGv3XE7oxHsDfjYbu9goVU7tDtrj+S/4ZtHeb5XJI7oUcKdBrH2y5e09K5sUG7p4XXu4xWY/34t4hpXLvdpubu22etYkMQp7NsOzimSyIm9EhB8+hg0zRny8mfTeiR0qS3NgFgeGYcbs5KtJiulLvm56+p30/NPqNDXdd2tXVcqMu2VaN9onNJj9TOqb32eTE10vmREfxBr+aRHvmsOWpCjxRkOlnmTYWJrp9plrcSoXWeWX1Zk+CRXrfHU8aiMNR8aLG13f+DT4fvx6H0q50SVvX8yCfbz1Jgk4BtDIlchU127ePhaTg2XfBhrbM/tJjWZ5/l+KQ/9Kl/7Fh32dbhebMnqZyJ6A5IJDjQ4n4UajNQpG2Dy8Hee5UaaJi8uQZ7+HoP9reunzuSTGe3WX3usV5WTIKpMZjo+iiZodzuQw1qnIrpjyqF+0ePsOWitjV2tH0C8ee34JdOL5nOWEaZCrnxwzwWlz9wx++3v/+gxOvUkMskyC20PxoJ+Q8BXsARBTI2XfBR7f5416Hldrad7eZI6nes2a3YlPW6W5+EpFH69kc5Iri6DVpkiPuG3tIoG35dG6Kyv25Djn+wStbQcBpFq278GK4hajl0QZbbkf3V0DBUffV4qRWeeZ+eUPM5dpWGfh/UiqufR6VcarX9Z2Swbw9zF2bl8+eM2t9Zpcz1588gpXOfe3tlXfu9WvveBYJAOo+4ms9mBwsWLIBEIsGMGTNM04QQmDt3LhISEqDRaNC/f38cOmT7oQO+LPbC9nqXOZw2yaHndVtTuzONLxjcJhYKme1aG1sdI+J11U8665wShhC1ZTJXM79Gu4SrteP9WkejbYIWUSFKtI6z3lmrU3IYgOofXludwULUclzTsnrA+O6pETbfgyO6poYjOlSFYJUMSeFXLywyE7VIDNOgb4urHaOSwjUYkRmH69rbfxzsoDYxaB0XijbxoYjVqiCXShBV60dpcNsYDG5j3vEvqp4EZVTHeAzMiHEoMeqZbv+YqBVSZMSHYnhmnNnyIzvEW12+dhnWuKZlFFrFXi3DPi0iEadTITUqCB2TdVDJpWbHrlVMqNlnqlVsCHo3j4Tir4QhI06LjPhQDG4TY9FpqCbBr3uMBrWJsfs+a2g1ctPnCgA6JutMn9Oe6RHolhqObqnhGNUx3iLB69Mi0mJ7beJDIZdKoFZIrXaws0Yll6JlbIhFJ8XeLaLqLS8AGJhh+V5rEp1uqeFoHh0MuVSCfq2iTR2lpJLqckoK1yAiWAmVnc5k6dEhCFLKEK9TQ6tWQC6r/v7VHKeh7WLRq3kkwoMUkMskpk6YaVHm571wK0lVQtjVc0LN8te1j4Pcyvmn7vYGt7V837FaFeLD1Ohh47h1Sw03+44Oa1f9XeuYFGZWXvY6c7WKDUFiuHlFQ9dmV/enVSvQ9q/vhb3vZLxOjcRwjcW2agxqEwOtRo6kcA3SooKtlnNdvZtHonVcCHo3j0K3VOvnyKxm4ejXOhrtErRoG681xVpjQEa0qcNa7fKpzd7nxZ7m0cG4vqP1c4lWI0d0qAqxWuvfm9TIIKufiyFtq8swPkxtVm4hajnkUonpQjkzUYtgleyvzq/V76vmPCeVwOLcYu83EADSo4PROi4EI9vH2/zNqtl+3Vjrbqc2a59rb+KTD4zYsWMHxo4dC61WiwEDBmDRokUAgBdffBHz5s3DkiVL0KpVKzz//PPYtGkTjh49itBQx3qV+sIDIzTlZ3HT+kH1Lreu6zsoiO5tdd6NnRKwJ+cicgpLAQA3dErA8r15pvm9m0diyx8XrK47oUdKvXEPyIjG+t/O1Rujre3/ee4ytv1ZaDY9WCXDlQqDzXVqWIut9vzt2YU4fvayxfQal8qr8N2+fADAzVmJ+HrXaavbqU1vMOKLnafs7rdubPX1oK3vGPdtEYXNx88DaPzTaGr2FRakwMXSKgBAalQQejd3fMSAuu/NWvyD28YgJtT2Y5StqdQb8dWu6mM7qmO8qWzSooLRq7ll4mYvtnidGgMc+PF1NWfK3RXrWdtGsEqGGzslNni7NevIpRKM7ZZsMb1zShjaxJufM7/YmQu94epPTN19rTyQb/q8uaJHeU0s7RK06FjrYqCprD96FvkXy02vrb2nut+Lv2UluWwEiPrOfUajwNIduQCqv4trDlc/Yrxviyik2BjN4KdDBbhwudJiWzX7uqZlFJIj7I+EULPsta2ikBQeZHodE6rCYCuJVO33oVFKcVPnhj1Stm6MNa+1GjlKyvQAqkd0KC5r/GfQFd/Vxuy3Q5LONOpB7d+jpnxSWVNzNF/zuRrdy5cv47bbbsN7772H8PCrV39CCCxatAhPPvkkxowZg8zMTHzwwQcoLS3Fp59ajinry9pkLzF7/W3/Vfh64EbsbPM49reYgnJFOA42n2wzya1Ruz0mW7CRP6upNYmxUfPirWpqf50Zds6XaJy8ve31GlBt5Ovt4l3RFIjInXwu0X3wwQcxcuRIDB482Gx6dnY2CgoKMHToUNM0lUqFfv36YcuWLTa3V1FRgZKSErM/b5NcsBoTfmiPCT+0R8TFg8g48ZHZ/FJNPCpUEfg99TYcbPkAlg3ehP2tppnmO3JbwRdPtrZuvbhSQzqxuLOdLTXMqI4J6JkegTZxnuuY2RCD2sSidVwI+reO9nQobtEjLQIJYWoMyPDP9+cPbN3zHdYuFte0jArYNrPkO3xq1IWlS5di9+7d2LFjh8W8goICAEBsrPltkNjYWJw8edLmNhcsWIBnnnnGtYG6kEQYcM2emabXw7fe6vQ2woP8M/EKamDnKne31onVqk23+sg7BKvkSI/2rYdeANWdALNqtaX0N0FKOfq39u72fWRdZIgKjjUcIvIsn6nRzc3NxfTp0/Hxxx9Drbbdxk9Sp2pSCGExrbbZs2ejuLjY9Jebm+uymF1BVVFod/6vmXMavO3gWj3ppVaOUd2OWPWp6QTQMbnhT0ex1iHMlpS/2oW5uqe3O9V0eEqNCsyn+5B3qOlMVLdTiT01n11PtH11li/eofKEmo5S9p6y1vavdtfJEf7TzlMCiem3xp/eF1nnMzW6u3btwtmzZ5GVlWWaZjAYsGnTJrzxxhs4evQogOqa3fj4qz0kz549a1HLW5tKpYJK5Z3t9vrvfAAJ5zbbXeaP5L/ZnW+P3F43XVQ34F99+AyK/uosUp9OyWHomipFiEqO/OKGjVM6sr313q01spqFY9fJIgDVifrfspLq7Wlal70LH3frkhKOlIggRIZ452eO3KNbajh2nCjydBgmfZpHoqCkHHFaxy9mu6ZGICNea3OoOWs3SphvercxnROhNwq7Q1elRAbhxpAEp4cL83Yj28ejUm/E2Uvl9S9MPs1nanQHDRqEAwcOYO/evaa/rl274rbbbsPevXuRnp6OuLg4rF692rROZWUlNm7ciN697XfK8kaqisJ6k1x9I8elre8OvlwmdarzjgSSesdbrY+snuS77mylXOrRxNVZUqkEMVp1ve+TrKv9kfWhYje7e+IN5DIpksKDIHdy/NTGfr+biu+NJeQZcpnUofFZg1VynzrPOkImlUCjlPGzEgB846wFIDQ0FJmZmWbTgoODERkZaZo+Y8YMzJ8/Hy1btkTLli0xf/58BAUFYcKECZ4IuV6VeqPNeUHl+fWuv7bbey6LxZ8Sr3idGvnFvEonIiJLgg/pDig+k+g6YtasWSgrK8OUKVNQVFSEHj16YNWqVQ6PodvUjHYuJWOK9thdd3+LKbgQ3tFlsShkUnRNDcdOL7q92lDd0yLwv1pjApN/Yk0MERHVx6cT3Q0bNpi9lkgkmDt3LubOneuReFypw+//sjv/dEw/l++zVWyoXyS61p5EQ/6BJUtE3kgi4cW3t/KZNrqBRmGw35mrOKR5E0VC3srPmswREfksJrnei4muF4q30glNL73aO/pos1thlHlfr322eyIib+BLF4E+FCqRT/Lppgv+SGLUY8DOB8ymfTXoZ1QqwyA1VkFqqIBe4XsD35PrsQaBiIjIPia6XkZmsBwtoFIZBgAwShUwSn3n4QhE7uRLtXaBwFp58FqMvB3PI/6PTRe8TOK5nz0dAgUwnvOJKJDwzpj/Y6LrZbocedHs9R+Joz0TCBEREZGPY6LrZTSVF8xe782Y6aFIyJt0SNI1yX5YuUFERP6Eia4XO5b8N1Qow922fVe3TZLwxrdbKOVSZCbqoOD4wEREVI/aj2vmrwYTXa+2v+VUT4fgdQKxxlHYaETGThRE5AxPnzMkng4gAAXib2ZdTHS9jEFSParCZU0CKlSRLtkmTy1E5Ak891Btti7aidyJia4XkRj1kIkqAECZKsbD0RB5H/5Mei/mMOQr2MwusDDR9SK1x9DVyzRu3x9/mIiIKNDwKZ6BhYmuF5Ebykz/6+XuT3R9Ea/D3YvHl4jIf/CczkTXq9ROdA1StQcjIW/CDhxEREQNw0TXi6grC03/VyibZtxUIl/ClJ+IvBHrI7wXE10vIqtVo1slD/FgJERERES+j4muF5EbKkz/G6QqD0ZCRERNgU2T/AM7d3svJrpeRGa8OuqCQeZ7bXTZk5WIauMZgYg8jYmuF5HVqtHVszMaERERUaMw0fUitcfRNcjYdIGIfAfvwBORN2Ki60XkPt50IZCxnR0REZH3YaLrRWIv7DD9z3F0G46PdyQi8j6sECBPYKLrRRLPbTT9b5Aq3b4/V59zmiLBZOcWIiIichQTXS9Vqo71dAhERI3C+jsi8jQmul5KL9d4OgTyIYGSUNSu0Q+U90xERA3HRNdLGWTuT3Q5wLX/YFGSp/F8QvUR/JCQBzDR9RISYTB7rW+CRJeIiDyLdybcj33gAhsTXS8hNVaaveYjgK3j+YqIiJwRyBXJTPKZ6HoNmeFqoluujOCnk6geAfzbRUREDmKi6yVktR4WcTa8iwcjIfIuta/5ePlHRN6IdVPei4mul6hdo2tsgjF0iYiIiPwdE10vITN7/C/b55JzArEyIRDfMxEROYeJrpeQ1eqM5qsd0QRbTRJRLTwjUKAI5A5v3o6JrpeQGSpM/7NGl4iIyDXYfjawMdH1EmZNF3y0RpeIiIg8i3m9OSa6XqJ2ZzQmut7DG2oCvCAEonp5w3eFvJuEHxLyACa6XkJqbPqmC754znFFMyh/eQylL5YfERFRU2Ki6yXktRNdH63RlbDu0S38Iy2nQOSpMwLPRURUg4mul5DW7ozGcXTdirfPfBeTfvJmHHmGyPsw0fUStYcXa6oHRvjJHXwiIjNMOImoBhNdLyE1Vpn+N0gVHoyEiMh5vHCm+vhL/wjyLUx0vYRUXE10+QhgIqLA0JQtqdhsiwIRE10v4YmmC76Ip2n34u8gERH5Eya6XoJNF8gW5p5ERO7BxhT+j4mul2CNLlH9mPQTkTfi3TDvxUTXS0iNtZ+MxhpdIqKG4ji6RFSDia6XkBr1pv+NTHTJQ9gpmlyJHyci8jQmul7CH5oucOxKIiIi78G7G0x0vUbt4cX4ZDQiIvI3HN6MPIGJrpeQ60tN//tqjS4REVEgYrMv7+Uzie6CBQvQrVs3hIaGIiYmBqNHj8bRo0fNlhFCYO7cuUhISIBGo0H//v1x6NAhD0XsHLn+iun/SrnWg5F4N1ecS9zxdB5/qadghQs1FD87DcNaTs/i0fd/PpPobty4EQ8++CC2bduG1atXQ6/XY+jQobhy5WqC+NJLL+HVV1/FG2+8gR07diAuLg5DhgzBpUuXPBi5Y2RmT0Zrms5oPL8SkTvxFEPejhWx/k/u6QAc9eOPP5q9Xrx4MWJiYrBr1y5ce+21EEJg0aJFePLJJzFmzBgAwAcffIDY2Fh8+umnuO+++zwRtsNqHhhhkMhdnoE2VY2BrzR6Zw2K7+KPEhEROcNnanTrKi4uBgBEREQAALKzs1FQUIChQ4eallGpVOjXrx+2bNliczsVFRUoKSkx+/OEmkS3KYcWY5siIiIi8mc+megKITBz5kz07dsXmZmZAICCggIAQGxsrNmysbGxpnnWLFiwADqdzvSXnJzsvsDtkIrqcXQ5hi4RERGRa/hkojt16lTs378fn332mcW8urelhRB2b1XPnj0bxcXFpr/c3FyXx+sIU42uhIkuEfke3iEiIm/kM210azz00ENYvnw5Nm3ahKSkJNP0uLg4ANU1u/Hx8abpZ8+etajlrU2lUkGlUrkvYAd5oukCERFRU3HHiDdE9fGZGl0hBKZOnYply5Zh3bp1SEtLM5uflpaGuLg4rF692jStsrISGzduRO/evZs6XKcx0SUiIiJyLZ+p0X3wwQfx6aef4n//+x9CQ0NN7W51Oh00Gg0kEglmzJiB+fPno2XLlmjZsiXmz5+PoKAgTJgwwcPR16/myWhsumAfx0sgIiIiR/lMovvWW28BAPr37282ffHixZg0aRIAYNasWSgrK8OUKVNQVFSEHj16YNWqVQgNDW3iaJ3HGl0i6yQ2/ici8hYSCdupeyufSXQdadsjkUgwd+5czJ071/0BuRgTXWoMDg1MRERkyWfa6PoziTBACiMAwMBEl4j8BCu4iDyLlSBMdL1CTW0uwDa6RETkn/hUSvIEJrpewCzR9eEaXcH6GyIi8jJMsAMbE10v4C+Jrrdw5TmNp0ciIiLfxUTXC9QMLQaw6UJ9WGd8FWspyNvxE0qBgiMueC8mul7AvEa36QbCYJ5Evoa/Jd7Lm84n3hQLEXkWE10v4C9NFySsv6EmxBptIiKqDxNdL2DWdKEJE13eaiEif8RzGxHVYKLrBTi8GBGR72OCTeR9mOh6AZmfNF2gpuXI0wKJmgo/jkTkjZjoeoHaNbp8MhoRERGRazDR9QIcXowagp2xiMiX8C4UeQITXS/gL6MuNAWmdkTkrXjtSeR9mOh6AfNEV+nBSIi8G/MIcgQTTnKUq2qZvekz502xeAOHnk4wZswYhze4bNmyBgcTqNgZjYj8EW9UU21sbkWe4FCNrk6nM/1ptVqsXbsWO3fuNM3ftWsX1q5dC51O57ZA/VntNroGttElIvJJbIJK5H0cqtFdvHix6f/HHnsMY8eOxdtvvw2ZTAYAMBgMmDJlCrRarXui9HNso0tERETkek630X3//ffxyCOPmJJcAJDJZJg5cybef/99lwYXKPwl0RW8UUlERERexOlEV6/X48iRIxbTjxw5AqPR6JKgAo2/JLpNgak0ke9gi0wi8jSHmi7Udtddd+Huu+/G8ePH0bNnTwDAtm3b8MILL+Cuu+5yeYCBwN3j6Nr6sWG/API1vNAhIiJnOJ3ovvzyy4iLi8P//d//IT8/HwAQHx+PWbNm4eGHH3Z5gIGANbpERES+ix0RvZdTia5er8cnn3yCO+64A7NmzUJJSQkAsBNaI5knuk5fezSYq7+YEt6oJApYvENERN7IqTa6crkcDzzwACoqKgBUJ7hMchuPjwAmIiIicj2nO6P16NEDe/bscUcsAYsPjCAiIiJyPafvk0+ZMgUPP/wwTp06haysLAQHB5vN79Chg8uCCxS1my4YmOgSkQ9iG0Ui8kZOJ7rjxo0DAEybNs00TSKRQAgBiUQCg8HguugChFnTBSa6RH6H7VeJyBN46mlAopudne2OOAKaWWc0ttElIiIicgmnE91mzZq5I46AxuHFHMerU/JFvK1PROQZDR7L6vDhw8jJyUFlZaXZ9BtuuKHRQQUaqVFv+p+JLtXF295X8VAQkTeSSHhB662cTnT//PNP3HTTTThw4ICpbS5Q3U4XANvoNgCHFyMif8TffSLyNKeHF5s+fTrS0tJw5swZBAUF4dChQ9i0aRO6du2KDRs2uCFE/8emC0RERESu53SN7tatW7Fu3TpER0dDKpVCKpWib9++WLBgAaZNm8YxdhuAiS4RERGR6zldo2swGBASEgIAiIqKQl5eHoDqTmpHjx51bXQBwl+GFxNNcKPSkT2wHSeRd+B3kYg8zeka3czMTOzfvx/p6eno0aMHXnrpJSiVSrz77rtIT093R4x+r+bJaEZIISQyD0dD3oYdHK7ioSAiImc4neg+9dRTuHLlCgDg+eefx/XXX49rrrkGkZGR+Pzzz10eYCCoabrQ1LW57M3vOjyWTY/HnIiI6uN0ojts2DDT/+np6Th8+DAKCwsRHh5uGnmBnHM10VU26X5ZU+gbmvZrxe8wERH5D6fb6K5evRqlpaVm0yIiIpjkNoLMWAHAt9vnAoCESRIREQUgVhx5L6drdG+++WZUVFQgKysL/fr1Q//+/dGnTx9TBzVynrKqBABQKQ/1cCRERA3Dug4i8kZO1+gWFRVhw4YNuOGGG7Bnzx7ccsstiIiIQM+ePfH444+7I0a/JxXVT0YzyJq26QKRJVZLEBGR/3A60ZXJZOjVqxcef/xx/Pjjj9iyZQsmTJiAXbt2YeHChe6I0e9JjdWPUeZT0YiIiMhZte+osCmpOaebLhw5cgQbN27Ehg0bsHHjRhgMBvTt2xevvPIK+vXr544Y/ZpEGCAV1Y9NburOaETUNALhd4dtFIm8UACce+rjdKLbrl07REdHY8aMGXj66afRrl07d8QVMPhUNHIFdgQkIgpcvNC0zemmC9OmTUNiYiLmzp2Lu+++G4899hh++OEHXL582R3x+b3aia6BNbr1YjrnbjzCRETkP5xOdBctWoTdu3fjzJkzeOqpp2AwGPDPf/4TUVFR6Nmzpzti9Gs17XMB1ugSkX9hJRMFikBonuSrnE50axiNRuj1elRWVqKiogJVVVU4ceKEC0MLDDI2XSCyq3bHCl/9LeFtRSIiz3A60Z0+fTo6duyImJgY3HfffcjLy8Pf//537Nu3DwUFBe6I0a+x6QIRERGRezjdGe306dOYPHky+vfvj8zMTHfEFFDMmi5weDEi8iO+WgNPRP7D6UT3q6++ckccAUsqajdd8O0aXdEELfKa+g6wN49H6L2RERF5D54rA1uD2uh+9NFH6NOnDxISEnDy5EkA1Z3U/ve//7k0uEAgY2c0IoexqSsRETnD6UT3rbfewsyZM3Hdddfh4sWLMBiqH3YQFhaGRYsWuTo+v+fJNrpeXFlJRERE1GhOJ7qvv/463nvvPTz55JOQyWSm6V27dsWBAwdcGlxDvfnmm0hLS4NarUZWVhZ+/vlnT4dkk/nwYk63JGkU9gT3bSw+IiIi+5xOdLOzs9G5c2eL6SqVCleuXHFJUI3x+eefY8aMGXjyySexZ88eXHPNNRgxYgRycnI8HZpV5sOL+XYbXT6di4iIvA0rBQKb04luWloa9u7dazH9hx9+QNu2bV0RU6O8+uqruOeee3DvvfeiTZs2WLRoEZKTk/HWW295OjSrzJoucNQFIvJRbApFgYx3SL2X0/fKH330UTz44IMoLy+HEALbt2/HZ599hgULFuA///mPO2J0WGVlJXbt2oXHH3/cbPrQoUOxZcsWq+tUVFSgoqLC9LqkpMStMdZl3hnNt2t0iYiIqOnxQtM2pxPdu+66C3q9HrNmzUJpaSkmTJiAxMREvPbaaxg/frw7YnTY+fPnYTAYEBsbazY9NjbW5sMsFixYgGeeeaYpwrPKfHgx1uiS43heIyIiss+ppgt6vR4ffPABRo0ahZMnT+Ls2bMoKChAbm4u7rnnHnfF6LS6Y58KIWyOhzp79mwUFxeb/nJzc5siRJPandH4ZDQi/xQItS28dUveKgC+fmSHUzW6crkcDzzwAI4cOQIAiIqKcktQDRUVFQWZTGZRe3v27FmLWt4aKpUKKpWqKcKzSmpkjS4RERGROzjdGa1Hjx7Ys2ePO2JpNKVSiaysLKxevdps+urVq9G7d28PRWUfHxhBREREjcE7KrY53UZ3ypQpePjhh3Hq1ClkZWUhODjYbH6HDh1cFlxDzJw5ExMnTkTXrl3Rq1cvvPvuu8jJycH999/v0bhsYY2ucwLxFlQg3PYm/8TfXiLyNKcT3XHjxgEApk2bZpomkUhM7WBrnpTmKePGjcOFCxfw7LPPIj8/H5mZmVi5ciWaNWvm0bhs8eST0Yh8DXN+IvJGEglrVb2V04ludna2O+JwqSlTpmDKlCmeDsMhHF6MyP/xB5DIO/n7V5MPcmpAouutNaO+ymx4MT4wol7+flKyhkkS+Sr+xBJ5lgjIX01zTndGI9dqiuHF2MaT/AVP2eTNeFFK5H2Y6HqYJzujuToB5pUjEREReRMmuh7myeHFWPtARERE/oyJrofJ9WWm/w0+PrxYIDd6t/XkPSIiIk8J5N/lGg1KdC9evIj//Oc/mD17NgoLCwEAu3fvxunTp10aXCAIqjhj+r9MZf3pbRTYmEMTEZE9/J2wzelRF/bv34/BgwdDp9PhxIkTmDx5MiIiIvDNN9/g5MmT+PDDD90Rp9+qaaNrlMhhlHF4MSIiIiJXcbpGd+bMmZg0aRKOHTsGtVptmj5ixAhs2rTJpcEFAlOi6+PNFogosLFGiQIZ+7x4L6cT3R07duC+++6zmJ6YmIiCggKXBBVIpEIPoLpGl6ihAjHJ8KW3HIjlE4hYzkTex+lEV61Wo6SkxGL60aNHER0d7ZKgAklNja6vd0QjosDGGi0eAyJv5HSie+ONN+LZZ59FVVV1giaRSJCTk4PHH38cN998s8sD9HdsukBERETkHk4nui+//DLOnTuHmJgYlJWVoV+/fmjRogVCQ0Mxb948d8To1652RmOiS0T+hRWcRE2DdxNsc7phqFarxebNm7Fu3Trs3r0bRqMRXbp0weDBg90Rn9+TCtboOoNN4NzLl9oY8rxORET1cTrRPXHiBFJTUzFw4EAMHDjQHTEFlKtNFzi0GJE1Ehv/ExF5C4mEtareyummC+np6ejbty/eeecd08MiqOHYRtc5PI8Q+Q5emBCRpzmd6O7cuRO9evXC888/j4SEBNx444348ssvUVFR4Y74/JvRACmMADjqAjnPl5oZNIaw8b8vYU0PEZFnOJ3odunSBQsXLkROTg5++OEHxMTE4L777kNMTAzuvvtud8TovwyVpn/ZGY2cFejJU4Dk+UTUSIFSKUDWOZ3o1pBIJBgwYADee+89rFmzBunp6fjggw9cGZv/M1SZ/vWHpgvCZ+vbqEagJ89ERORfGpzo5ubm4qWXXkKnTp3QrVs3BAcH44033nBlbP6vdo2uHyS6RERE3iYQLuBt1VqzNrsBoy68++67+OSTT/DLL7+gdevWuO222/Dtt98iNTXVDeH5OT9ruiDhzWQiIiLyIk4nus899xzGjx+P1157DZ06dXJDSIFDYqzddMHpoiByOV79ExGRP3E6u8rJyYGEv4auwaYLRERERG7jUKK7f/9+ZGZmQiqV4sCBA3aX7dChg0sCCwh+1hmNmhavN4mIiOxzKNHt1KkTCgoKEBMTg06dOkEikUDUat1d81oikcBgMLgtWL/jZ210ici6QLgoCYT3SGRLIHR481UOJbrZ2dmIjo42/U8uwqYLROQn+ENP3ooXYYHNoUS3WbNmpv9PnjyJ3r17Qy43X1Wv12PLli1my1I9ajVd4JPRiIhcg4kNEdVwehzdAQMGoLCw0GJ6cXExBgwY4JKgAoWETReIyI+xkpeoafCOim1OJ7o1bXHrunDhAoKDg10SVMBg0wWnsaKGiIiIHOXw8GJjxowBUN3xbNKkSVCpVKZ5BoMB+/fvR+/evV0foT9jous0XrQGHomN/8n7sbwoUEgkrFX1Vg4nujqdDkB1jW5oaCg0Go1pnlKpRM+ePTF58mTXR+jPmqjpAsc9Jl8mbPxPRERUH4cT3cWLFwMAUlNT8cgjj7CZgitwHF0iIiKPYS2s/3P6yWhz5sxxRxwBScKmC0RERNRIvHFrm9OJLgB89dVX+OKLL5CTk4PKykqzebt373ZJYAHBz2p0RSNvLPOLSv6KtUaBgcVM5H2cHnXhX//6F+666y7ExMRgz5496N69OyIjI/Hnn39ixIgR7ojRfxk5vBgRERGRuzid6L755pt499138cYbb0CpVGLWrFlYvXo1pk2bhuLiYnfE6L/87IEREvaxJiIiIi/idKKbk5NjGkZMo9Hg0qVLAICJEyfis88+c210/o5tdImIiIjcxulENy4uDhcuXABQ/Wjgbdu2AQCys7Mh2BDNKXwyGhGR/+A9LSLv43SiO3DgQHz33XcAgHvuuQf/+Mc/MGTIEIwbNw433XSTywP0a37WGY2oKbHzIhER1cfpURfeffddGI1GAMD999+PiIgIbN68GaNGjcL999/v8gD9GpsuEAUEJuVE5Ak89TQg0ZVKpZBKr1YEjx07FmPHjnVpUAFDpkCVLBhSUeUXndGIiIiIvIlDie7+/fsd3mCHDh0aHEyg0Q+ci2VhfGwyEfmnQOu1EWjvl65iFyXv5VCi26lTJ0gkkno7m0kkEhgMBpcERkRERETUGA4lutnZ2e6Og4hs4PjE1rEGxfvxk0vUNHg+tM2hRLdZs2bujoOIbGjso5WJiMi9JBImm97K6c5oH374od35d9xxR4ODISJyFEcyICKi+jid6E6fPt3sdVVVFUpLS6FUKhEUFMREl4iIiKgJ8cLfNqcfGFFUVGT2d/nyZRw9ehR9+/blI4CJiIiIyGs4neha07JlS7zwwgsWtb1EzuAFKREREbmSSxJdAJDJZMjLy3PV5oiI/AY7qRAReYbTbXSXL19u9loIgfz8fLzxxhvo06ePywIjIiIiImoMpxPd0aNHm72WSCSIjo7GwIED8corr7gqLiL6C8fRJSIiahinmy4YjUazP4PBgIKCAnz66aeIj493R4w4ceIE7rnnHqSlpUGj0aB58+aYM2cOKisrzZbLycnBqFGjEBwcjKioKEybNs1iGSJ/xFSYiIjIktM1up7w22+/wWg04p133kGLFi1w8OBBTJ48GVeuXMHLL78MADAYDBg5ciSio6OxefNmXLhwAXfeeSeEEHj99dc9/A6IKJBx6B8iIs9wOtEVQuCrr77C+vXrcfbsWRiNRrP5y5Ytc1lwNYYPH47hw4ebXqenp+Po0aN46623TInuqlWrcPjwYeTm5iIhIQEA8Morr2DSpEmYN28etFqt1W1XVFSgoqLC9LqkpMTl8RMRERE1NQmvsp1vujB9+nRMnDgR2dnZCAkJgU6nM/trKsXFxYiIiDC93rp1KzIzM01JLgAMGzYMFRUV2LVrl83tLFiwwCz+5ORkt8ZNRERERE3D6Rrdjz/+GMuWLcN1113njngc8scff+D111836/xWUFCA2NhYs+XCw8OhVCpRUFBgc1uzZ8/GzJkzTa9LSkqY7BIRERH5AadrdHU6HdLT012y87lz50Iikdj927lzp9k6eXl5GD58OG655Rbce++9ZvOsVdELIexW3atUKmi1WrM/IiIiIkdxrGzv5XSN7ty5c/HMM8/g/fffh0ajadTOp06divHjx9tdJjU11fR/Xl4eBgwYgF69euHdd981Wy4uLg6//vqr2bSioiJUVVVZ1PRS48VqVThTUoHoUBXOXaqofwUX0WkU9S4jradNUlSIEsfP2p6vlF+9/vPm1k1ByqtfX41S1qhtSSWAUQCxWjUuXHbNSCVRIUqcr7Ot2jE7qnYZKGVXyyY8SNnQ0IjIC8RoVVanSyRMHJ0VZuN8qFa47LlgPsvpX51bbrkFn332GWJiYpCamgqFwjzx2L17t8PbioqKQlRUlEPLnj59GgMGDEBWVhYWL14MqdS88Hr16oV58+YhPz/fNMzZqlWroFKpkJWV5XBM/mpgRgxyi0px7Mxll2yvT4so5BSWIiUiCMt2n7a7bLxOjZaxISitNEAulWDbn4UN3m+sVo2e6RF2E16p1Dw9HZ4ZZ/Y6LSoYABAVav0kq5LL0K91NKQSy215i74toqDTKDC4TQzKq4wIVdd/AWDP9R0TkH+xDOnRITic55oOmde2ijb7bPRrHY0QlfOJrlQqwYCMaBiMAmqFDCPbx+Pc5QpTORL5qqHtArMSZlTHeBQUlyM9OsTG/AQs3+tbT1r1VHI+IjMOhaWVSAwzr3gc1CYGlXpjgyoX/I3TR2DSpEnYtWsXbr/9dsTGxjZJj768vDz0798fKSkpePnll3Hu3DnTvLi46iRm6NChaNu2LSZOnIiFCxeisLAQjzzyCCZPnuzXzRGCVTJcqTDUu1ycTo3IEKXLEl21QoZWsaEOLZsWFYyk8CDT6+zzV3CmpLoWuCE1wrZOjubxSVFeVT0iSESw+ZWuRCKpdxt1TxreJiWy+njGaNUu2V6ISo6WDpano9QKGVKjgnDifCmAxh3TeN3VdXVBCuiCGpfYE3mDqBDrF9v+LlStsHtx3pAL4kAVHqxEeLBlbW6si34b/IHTn6YVK1bgp59+Qt++fd0Rj1WrVq3C8ePHcfz4cSQlJZnNE39dQslkMqxYsQJTpkxBnz59oNFoMGHCBNPwY2TJkWYA7hAVojIluu4SE6pGTmGpWTMEIgoMnjq3OaLm4j4yJPCa3gQ70cSqprLCFQlbkKI61ZFLJdAbBZPAAON0opucnNzkNaSTJk3CpEmT6l0uJSUF33//vfsD8hMpkUHopg+3qPF0t8xEHVQKKRLCNNj2xwW37KN7WgTCghRI5e1tooAxtF0siq5Umt1B8jbXtIxC9vkrAdX0ZlCbGFyp0NtsR2rNsHZxyCksRXMH7uDZ229ppcF0B+i6DvHILSxFi5iGb5N8j9PVXa+88gpmzZqFEydOuCEcqstaEhqsalzHo9paxoYisolvn8mkEmTEaaFtZLtSe5RyKTITdbwFRhRAokJULm+C42pqhQxt4rVQK1x3Hvd2sVq1Q03OagtWydEmXtuou3KxWrXZBUXIX9tUyHinL5A4nQXcfvvtKC0tRfPmzREUFGTRGa2wsOEdjciSLz3UxJXNBIK9KEGN06lQUFyBcAfbhUY2cQ05kT1ymQR6g0C0jc6X5DqRIcomHYWGiOrndDaxaNEiN4RBzvC2R/r1bx0NvUE0eoir2mK1anRpFgaNQoZfjruneYOjejevvtWYGmn/VuOAjGhU6QWSI4LQLTW80SMhkP/w5FBJIzLjcPJCqcOdR6nhOiTq8HvBJRg5NBaR13A60b3zzjvdEQfZ4F0prXUJbhqhICOuui24pxPdmluN9ak9MoC33z6lwBGqViAzsekezx7I5DIp2iZocfC0a4boI6LGczrRzcnJsTs/JSWlwcGQJWu1t+lRwdh/qtgD0Tiu9th9IWrbH7OoUJXpoQK2Bg8nz4gMdq48IoIVKLxShViWIxEReQmnE93U1FS7t84NhvrHdKXGaRET4pFEt3ua/Qc11KbTKNAiJgR6o9HuWJEdEnXQGwQq9UZ0TQ13VajUCNe1j8OZkgq0dLJncv/WMQHXm9xRXtbaiIgoYDid6O7Zs8fsdVVVFfbs2YNXX30V8+bNc1lgZJvKQ2PDOjskS/e0iHqXkcukDi1HTScsSOnUMEA1HG3iQURE1FScTnQ7duxoMa1r165ISEjAwoULMWbMGJcERp5VM+pBQxIeco94nQY5haUuHV6OyFWsPa2u5jNb/T8H6Sfvo9V4zwg/5B4uK+FWrVphx44drtoc/aUxdzz7tIh0+hGTg9vG4FK53jQUUXpUMAxGgegAfVSlN+meFoHIECWaRXrvYPgUeIa2i8XF0kqrj3junhaBYJUMRgG0S2Btf1PqnhbOigoHxISq0bt5JELt9CUh3+Z0yZaUmPcmFUIgPz8fc+fORcuWLV0WGDVes3qGw7ImJlSNmFoDBkgkEg5L5CWUcimbBpDXiQpR2bygVsql6JzCtvdNTSIBWsTwvO0oPkHTvzmd6IaFhVl0RhNCIDk5GUuXLnVZYNQ4yRHuGfKLmk5EsBKFVyrZuYuIyMu1iAnBsTOXER/GJjrexulEd926dWaJrlQqRXR0NFq0aAG5nFX/nhYRrECLmFCkRPD2tq8bmBGDc5crEK/liZOIyJt1SQlHQpgGMXwCoddxOjPt37+/G8IgW5wdlkgplzo9OgJ5J6VcarXdIxEReReZVMLztZdyepyqBQsW4P3337eY/v777+PFF190SVDkHnLp1axZrWDPfXK/WNZGU4CJZMddIq/idKL7zjvvICMjw2J6u3bt8Pbbb7skKDJ3U+dEZMQ3vmOBRCLBzVmJGNMlETIpR7An90uPCkbfFlG4sVOCp0MhahKJYRpc0zIK13eM93QoRIQGNF0oKChAfLzlFzg6Ohr5+fkuCYrMaZQyRIeo8BsuNXpbKjlrcqnpSCQSpHA4NAowyewjQeQ1nK7RTU5Oxi+//GIx/ZdffkFCAmttmkLtzoDBSv/vAJj6V6LEcTiJiIjIGU5nSffeey9mzJiBqqoqDBw4EACwdu1azJo1Cw8//LDLAwx0tjqj3ZyVCCGAbX9eaNqAPKBX80hkJumgVVs+eYmIiIjIFqcT3VmzZqGwsBBTpkxBZWUlAECtVuOxxx7D7NmzXR4gWRdITRAkEgmTXCIiInKa04muRCLBiy++iKeffhpHjhyBRqNBy5YtoVKxp6k7SBr1EGAi8gZhGj6KldwvNTIIJy6Uoi2foEhk0uAGniEhIejWrZsrYyEi8ksapQzXd4yHUuZ0twgih/VMj0TruFBEBPPCiqiG//dk8hOOPjhC6uwTJoioSbD5DbmbVCpxeBxf3i2kQMFE10ck6DSI1aoQbudKXauRo2tqRBNGRUREvqRlbAguV+gRFcJaXwoMTHR9hFQqwaA2sXaXub4Dh3cjIiLburEyhAIMG4x5uWCV/WsRNlUgIiIiso41ul6qY7IOxWVV6Jiss7tc55QwFJVWIiOOvWyJiIiIamOi66XitGq0S7Cf5AJAqFqBGzslNkFERERERL6FTReIiIiIyC8x0fUiGfGhng6BiIiIyG8w0fUi6gB6rC8RERGRuzHRJSIiIiK/xESXiIiIiPwSE10vJZNyfFwiIiKixuDwYl4mM1GLskoDwoL4eEYiIiKixmCi62U6JIV5OgQiIiIiv8CmC0RERETkl5joEhEREZFfYqJLRERERH6JiS4RERER+SUmukRERETkl5joEhEREZFfYqJLRERERH6JiS4RERER+SUmukRERETkl5joepAQno6AiIiIyH8x0fWgSxVVng6BiIiIyG8x0fWgSr3R0yEQERER+S0mukRERETkl5joEhEREZFfYqJLRERERH7J5xLdiooKdOrUCRKJBHv37jWbl5OTg1GjRiE4OBhRUVGYNm0aKisrPROoAyQSiadDICIiIvJbck8H4KxZs2YhISEB+/btM5tuMBgwcuRIREdHY/Pmzbhw4QLuvPNOCCHw+uuveyhaIiIiIvIUn6rR/eGHH7Bq1Sq8/PLLFvNWrVqFw4cP4+OPP0bnzp0xePBgvPLKK3jvvfdQUlLigWiJiIiIyJN8JtE9c+YMJk+ejI8++ghBQUEW87du3YrMzEwkJCSYpg0bNgwVFRXYtWuXze1WVFSgpKTE7I+IiIiIfJ9PJLpCCEyaNAn3338/unbtanWZgoICxMbGmk0LDw+HUqlEQUGBzW0vWLAAOp3O9JecnOzS2ImIiIjIMzya6M6dOxcSicTu386dO/H666+jpKQEs2fPtrs9a527hBB2O33Nnj0bxcXFpr/c3NxGvy8iIiIi8jyPdkabOnUqxo8fb3eZ1NRUPP/889i2bRtUKpXZvK5du+K2227DBx98gLi4OPz6669m84uKilBVVWVR01ubSqWy2C4RERER+T6PJrpRUVGIioqqd7l//etfeP75502v8/LyMGzYMHz++efo0aMHAKBXr16YN28e8vPzER8fD6C6g5pKpUJWVpZ73gAREREReS2fGF4sJSXF7HVISAgAoHnz5khKSgIADB06FG3btsXEiROxcOFCFBYW4pFHHsHkyZOh1WqbPGYiIiIi8iyf6IzmCJlMhhUrVkCtVqNPnz4YO3YsRo8ebXUoMiIiIiLyfz5Ro1tXamoqhBAW01NSUvD99997ICIiIiIi8jZ+U6NLRERERFQbE10iIiIi8ktMdImIiIjILzHRJSIiIiK/xESXiIiIiPwSE10iIiIi8ktMdImIiIjILzHRJSIiIiK/xESXiIiIiPwSE10iIiIi8ktMdImIiIjILzHRJSIiIiK/xESXiIiIiPwSE10iIiIi8ktMdImIiIjILzHRJSIiIiK/xESXiIiIiPwSE10iIiIi8ktMdImIiIjILzHR9SAhhKdDICIiIvJbTHSJiIiIyC8x0SUiIiIiv8REl4iIiIj8EhNdIiIiIvJLTHSJiIiIyC8x0SUiIiIiv8REl4iIiIj8EhNdIiIiIvJLTHSJiIiIyC8x0SUiIiIiv8REl4iIiIj8EhNdIiIiIvJLTHSJiIiIyC8x0SUiIiIiv8RE14OE8HQERERERP6LiS4RERER+SUmuh4kkXg6AiIiIiL/xUTXg9h0gYiIiMh9mOgSERERkV9ioutBUinbLhARERG5CxNdD4rXqj0dAhEREZHfYqLrQVKpBKFquafDICIiIvJLTHSJiIiIyC8x0SUiIiIiv8REl4iIiIj8EhNdL6KQcRQGIiIiIldhoutF0qNDPB0CERERkd9goutFZBxXl4iIiMhlmOgSERERkV9ioktEREREfsmnEt0VK1agR48e0Gg0iIqKwpgxY8zm5+TkYNSoUQgODkZUVBSmTZuGyspKD0VLRERERJ7kM4/l+vrrrzF58mTMnz8fAwcOhBACBw4cMM03GAwYOXIkoqOjsXnzZly4cAF33nknhBB4/fXXPRg5EREREXmCTyS6er0e06dPx8KFC3HPPfeYprdu3dr0/6pVq3D48GHk5uYiISEBAPDKK69g0qRJmDdvHrRabZPH7QgJ+58RERERuYVPNF3YvXs3Tp8+DalUis6dOyM+Ph4jRozAoUOHTMts3boVmZmZpiQXAIYNG4aKigrs2rXL5rYrKipQUlJi9kdEREREvs8nEt0///wTADB37lw89dRT+P777xEeHo5+/fqhsLAQAFBQUIDY2Fiz9cLDw6FUKlFQUGBz2wsWLIBOpzP9JScnu++NEBEREVGT8WiiO3fuXEgkErt/O3fuhNFoBAA8+eSTuPnmm5GVlYXFixdDIpHgyy+/NG1PYqUdgBDC6vQas2fPRnFxsekvNzfX9W+UiIiIiJqcR9voTp06FePHj7e7TGpqKi5dugQAaNu2rWm6SqVCeno6cnJyAABxcXH49ddfzdYtKipCVVWVRU1vbSqVCiqVqqFvgYiIiIi8lEcT3aioKERFRdW7XFZWFlQqFY4ePYq+ffsCAKqqqnDixAk0a9YMANCrVy/MmzcP+fn5iI+PB1DdQU2lUiErK8t9b4KIiIiIvJJPjLqg1Wpx//33Y86cOUhOTkazZs2wcOFCAMAtt9wCABg6dCjatm2LiRMnYuHChSgsLMQjjzyCyZMne+2IC0RERETkPj6R6ALAwoULIZfLMXHiRJSVlaFHjx5Yt24dwsPDAQAymQwrVqzAlClT0KdPH2g0GkyYMAEvv/yyhyMnIiIiIk+QCCGEp4PwJiUlJdDpdCguLm6SmuDv9+ehpEwPAJjQI8Xt+yMiIiLydY7maz4xvBgRERERkbOY6BIRERGRX2KiS0RERER+iYkuEREREfklJrpERERE5JeY6BIRERGRX2Ki62EZcdVDYiSFazwcCREREZF/8ZkHRvirFjEhiA5VIVTFoiAiIiJyJWZXXkCnUXg6BCIiIiK/w6YLREREROSXmOgSERERkV9ioktEREREfomJLhERERH5JSa6REREROSXmOgSERERkV9ioktEREREfomJLhERERH5JSa6REREROSXmOgSERERkV9ioktEREREfomJLhERERH5JSa6REREROSXmOgSERERkV+SezoAbyOEAACUlJR4OBIiIiIisqYmT6vJ22xholvHpUuXAADJyckejoSIiIiI7Ll06RJ0Op3N+RJRXyocYIxGI/Ly8hAaGgqJROL2/ZWUlCA5ORm5ubnQarVu3x+5HsvQt7H8fB/L0PexDH1fU5ehEAKXLl1CQkICpFLbLXFZo1uHVCpFUlJSk+9Xq9Xyy+3jWIa+jeXn+1iGvo9l6Puasgzt1eTWYGc0IiIiIvJLTHSJiIiIyC8x0fUwlUqFOXPmQKVSeToUaiCWoW9j+fk+lqHvYxn6Pm8tQ3ZGIyIiIiK/xBpdIiIiIvJLTHSJiIiIyC8x0SUiIiIiv8REl4iIiIj8EhNdD3rzzTeRlpYGtVqNrKws/Pzzz54OKSAtWLAA3bp1Q2hoKGJiYjB69GgcPXrUbBkhBObOnYuEhARoNBr0798fhw4dMlumoqICDz30EKKiohAcHIwbbrgBp06dMlumqKgIEydOhE6ng06nw8SJE3Hx4kV3v8WAsmDBAkgkEsyYMcM0jeXn/U6fPo3bb78dkZGRCAoKQqdOnbBr1y7TfJahd9Pr9XjqqaeQlpYGjUaD9PR0PPvsszAajaZlWIbeZdOmTRg1ahQSEhIgkUjw7bffms1vyvLKycnBqFGjEBwcjKioKEybNg2VlZWueaOCPGLp0qVCoVCI9957Txw+fFhMnz5dBAcHi5MnT3o6tIAzbNgwsXjxYnHw4EGxd+9eMXLkSJGSkiIuX75sWuaFF14QoaGh4uuvvxYHDhwQ48aNE/Hx8aKkpMS0zP333y8SExPF6tWrxe7du8WAAQNEx44dhV6vNy0zfPhwkZmZKbZs2SK2bNkiMjMzxfXXX9+k79efbd++XaSmpooOHTqI6dOnm6az/LxbYWGhaNasmZg0aZL49ddfRXZ2tlizZo04fvy4aRmWoXd7/vnnRWRkpPj+++9Fdna2+PLLL0VISIhYtGiRaRmWoXdZuXKlePLJJ8XXX38tAIhvvvnGbH5TlZderxeZmZliwIABYvfu3WL16tUiISFBTJ061SXvk4muh3Tv3l3cf//9ZtMyMjLE448/7qGIqMbZs2cFALFx40YhhBBGo1HExcWJF154wbRMeXm50Ol04u233xZCCHHx4kWhUCjE0qVLTcucPn1aSKVS8eOPPwohhDh8+LAAILZt22ZaZuvWrQKA+O2335rirfm1S5cuiZYtW4rVq1eLfv36mRJdlp/3e+yxx0Tfvn1tzmcZer+RI0eKu+++22zamDFjxO233y6EYBl6u7qJblOW18qVK4VUKhWnT582LfPZZ58JlUoliouLG/3e2HTBAyorK7Fr1y4MHTrUbPrQoUOxZcsWD0VFNYqLiwEAERERAIDs7GwUFBSYlZdKpUK/fv1M5bVr1y5UVVWZLZOQkIDMzEzTMlu3boVOp0OPHj1My/Ts2RM6nY7l7gIPPvggRo4cicGDB5tNZ/l5v+XLl6Nr16645ZZbEBMTg86dO+O9994zzWcZer++ffti7dq1+P333wEA+/btw+bNm3HdddcBYBn6mqYsr61btyIzMxMJCQmmZYYNG4aKigqz5ksNJW/0Fshp58+fh8FgQGxsrNn02NhYFBQUeCgqAqrbJM2cORN9+/ZFZmYmAJjKxFp5nTx50rSMUqlEeHi4xTI16xcUFCAmJsZinzExMSz3Rlq6dCl2796NHTt2WMxj+Xm/P//8E2+99RZmzpyJJ554Atu3b8e0adOgUqlwxx13sAx9wGOPPYbi4mJkZGRAJpPBYDBg3rx5uPXWWwHwe+hrmrK8CgoKLPYTHh4OpVLpkjJloutBEonE7LUQwmIaNa2pU6di//792Lx5s8W8hpRX3WWsLc9yb5zc3FxMnz4dq1atglqttrkcy897GY1GdO3aFfPnzwcAdO7cGYcOHcJbb72FO+64w7Qcy9B7ff755/j444/x6aefol27dti7dy9mzJiBhIQE3HnnnablWIa+panKy51lyqYLHhAVFQWZTGZxpXL27FmLqxpqOg899BCWL1+O9evXIykpyTQ9Li4OAOyWV1xcHCorK1FUVGR3mTNnzljs99y5cyz3Rti1axfOnj2LrKwsyOVyyOVybNy4Ef/6178gl8tNx5bl573i4+PRtm1bs2lt2rRBTk4OAH4HfcGjjz6Kxx9/HOPHj0f79u0xceJE/OMf/8CCBQsAsAx9TVOWV1xcnMV+ioqKUFVV5ZIyZaLrAUqlEllZWVi9erXZ9NWrV6N3794eiipwCSEwdepULFu2DOvWrUNaWprZ/LS0NMTFxZmVV2VlJTZu3Ggqr6ysLCgUCrNl8vPzcfDgQdMyvXr1QnFxMbZv325a5tdff0VxcTHLvREGDRqEAwcOYO/evaa/rl274rbbbsPevXuRnp7O8vNyffr0sRjS7/fff0ezZs0A8DvoC0pLSyGVmqcUMpnMNLwYy9C3NGV59erVCwcPHkR+fr5pmVWrVkGlUiErK6vxb6bR3dmoQWqGF/vvf/8rDh8+LGbMmCGCg4PFiRMnPB1awHnggQeETqcTGzZsEPn5+aa/0tJS0zIvvPCC0Ol0YtmyZeLAgQPi1ltvtTrMSlJSklizZo3YvXu3GDhwoNVhVjp06CC2bt0qtm7dKtq3b89hcdyg9qgLQrD8vN327duFXC4X8+bNE8eOHROffPKJCAoKEh9//LFpGZahd7vzzjtFYmKiaXixZcuWiaioKDFr1izTMixD73Lp0iWxZ88esWfPHgFAvPrqq2LPnj2mYU6bqrxqhhcbNGiQ2L17t1izZo1ISkri8GL+4N///rdo1qyZUCqVokuXLqbhrKhpAbD6t3jxYtMyRqNRzJkzR8TFxQmVSiWuvfZaceDAAbPtlJWVialTp4qIiAih0WjE9ddfL3JycsyWuXDhgrjttttEaGioCA0NFbfddpsoKipqgncZWOomuiw/7/fdd9+JzMxMoVKpREZGhnj33XfN5rMMvVtJSYmYPn26SElJEWq1WqSnp4snn3xSVFRUmJZhGXqX9evXW/3tu/POO4UQTVteJ0+eFCNHjhQajUZERESIqVOnivLycpe8T4kQQjS+XpiIiIiIyLuwjS4RERER+SUmukRERETkl5joEhEREZFfYqJLRERERH6JiS4RERER+SUmukRERETkl5joEhEREZFfYqJLRERERH6JiS4RkQ9bsmQJwsLC3LqP1NRULFq0yK37ICJyBya6REQ+bNy4cfj99989HQYRkVeSezoAIiJqOI1GA41G4+kwiIi8Emt0iYg8SAiBl156Cenp6dBoNOjYsSO++uorAMCGDRsgkUiwYsUKdOzYEWq1Gj169MCBAwdM69dturBv3z4MGDAAoaGh0Gq1yMrKws6dO03zv/76a7Rr1w4qlQqpqal45ZVXzOI5e/YsRo0aBY1Gg7S0NHzyyScWMRcXF+Pvf/87YmJioNVqMXDgQOzbt8/FR4aIqPFYo0tE5EFPPfUUli1bhrfeegstW7bEpk2bcPvttyM6Otq0zKOPPorXXnsNcXFxeOKJJ3DDDTfg999/h0KhsNjebbfdhs6dO+Ott96CTCbD3r17Tcvt2rULY8eOxdy5czFu3Dhs2bIFU6ZMQWRkJCZNmgQAmDRpEnJzc7Fu3ToolUpMmzYNZ8+eNW1fCIGRI0ciIiICK1euhE6nwzvvvINBgwbh999/R0REhHsPGBGRMwQREXnE5cuXhVqtFlu2bDGbfs8994hbb71VrF+/XgAQS5cuNc27cOGC0Gg04vPPPxdCCLF48WKh0+lM80NDQ8WSJUus7m/ChAliyJAhZtMeffRR0bZtWyGEEEePHhUAxLZt20zzjxw5IgCI//u//xNCCLF27Vqh1WpFeXm52XaaN28u3nnnHecOABGRm7FGl4jIQw4fPozy8nIMGTLEbHplZSU6d+5set2rVy/T/xEREWjdujWOHDlidZszZ87Evffei48++giDBw/GLbfcgubNmwMAjhw5ghtvvNFs+T59+mDRokUwGAw4cuQI5HI5unbtapqfkZFh1jRi165duHz5MiIjI822U1ZWhj/++MO5A0BE5GZMdImIPMRoNAIAVqxYgcTERLN5KpXKbuIokUisTp87dy4mTJiAFStW4IcffsCcOXOwdOlS3HTTTRBCWKwnhLD439a2a2KOj4/Hhg0bLOa5e5gzIiJnMdElIvKQtm3bQqVSIScnB/369bOYX5Pobtu2DSkpKQCAoqIi/P7778jIyLC53VatWqFVq1b4xz/+gVtvvRWLFy/GTTfdhLZt22Lz5s1my27ZsgWtWrWCTCZDmzZtoNfrsXPnTnTv3h0AcPToUVy8eNG0fJcuXVBQUAC5XI7U1NRGHgEiIvdioktE5CGhoaF45JFH8I9//ANGoxF9+/ZFSUkJtmzZgpCQEDRr1gwA8OyzzyIyMhKxsbF48sknERUVhdGjR1tsr6ysDI8++ij+9re/IS0tDadOncKOHTtw8803AwAefvhhdOvWDc899xzGjRuHrVu34o033sCbb74JAGjdujWGDx+OyZMn491334VcLseMGTPMhi8bPHgwevXqhdGjR+PFF19E69atkZeXh5UrV2L06NFmzR6IiDzOw22EiYgCmtFoFK+99ppo3bq1UCgUIjo6WgwbNkxs3LjR1Bntu+++E+3atRNKpVJ069ZN7N2717R+7c5oFRUVYvz48SI5OVkolUqRkJAgpk6dKsrKykzLf/XVV6Jt27ZCoVCIlJQUsXDhQrN48vPzxciRI4VKpRIpKSniww8/FM2aNTN1RhNCiJKSEvHQQw+JhIQEoVAoRHJysrjttttETk6OW48VEZGzJELUaqBFREReY8OGDRgwYACKiorY/pWIqAH4wAgiIiIi8ktMdImIiIjIL7HpAhERERH5JdboEhEREZFfYqJLRERERH6JiS4RERER+SUmukRERETkl5joEhEREZFfYqJLRERERH6JiS4RERER+SUmukRERETkl/4fu/x+JFBw4kQAAAAASUVORK5CYII=",
      "text/plain": [
       "<Figure size 800x500 with 1 Axes>"
      ]
     },
     "metadata": {},
     "output_type": "display_data"
    }
   ],
   "source": [
    "plot_episodes(q_history, \"cumulative reward\", smooth=101)"
   ]
  },
  {
   "cell_type": "markdown",
   "metadata": {},
   "source": [
    "### SARSA($\\lambda$)"
   ]
  },
  {
   "cell_type": "code",
<<<<<<< HEAD
   "execution_count": 39,
=======
   "execution_count": 28,
>>>>>>> 65c1331ca49c269dd67aa9fee95f003d9b044837
   "metadata": {},
   "outputs": [],
   "source": [
    "class SARSA(BaseController):\n",
    "    def __init__(self, env, gamma, lmbda, alpha=None, N0=1):\n",
    "        super().__init__(env)\n",
    "\n",
    "        self.gamma = gamma\n",
    "        self.lmbda = lmbda\n",
    "        self.alpha = alpha\n",
    "        self.N0    = N0\n",
    "\n",
    "\n",
    "    def train(self, policy, max_episodes=1000):\n",
    "        history = {\n",
    "            \"cumulative reward\"  : [],\n",
    "            \"episode error\"      : [],\n",
    "            \"episode length\"     : [],\n",
    "            \"episode win\"        : []\n",
    "        }\n",
    "\n",
    "        Ntable = defaultdict(lambda : {action: 0 for action in Actions.actions})\n",
    "\n",
    "        for _ in tqdm(range(max_episodes)):\n",
    "            \n",
    "            Etable  = defaultdict(lambda : {action: 0 for action in Actions.actions})\n",
    "\n",
    "            state, done = self.env.reset(random_init = True)\n",
    "            action = policy.act(state, epsilon=1)\n",
    "\n",
    "            cumulative_reward = 0\n",
    "            cumulative_error  = 0\n",
    "\n",
    "            n_steps = 0\n",
    "\n",
    "            while not done:\n",
    "                Etable[state][action] = Etable[state][action] + 1\n",
    "\n",
    "                next_state, reward, done, info = self.env.step(action)\n",
    "\n",
    "                epsilon = self.N0 / (self.N0 + sum(Ntable[next_state].values()))\n",
    "\n",
    "                next_action = policy.act(next_state, epsilon)\n",
    "\n",
    "                Ntable[state][action] += 1\n",
    "                n_steps += 1\n",
    "\n",
    "                cumulative_reward = (self.gamma * cumulative_reward) + reward\n",
    "\n",
    "                td_error = reward + self.gamma * policy.Q(next_state, next_action) - policy.Q(state, action)\n",
    "\n",
    "                cumulative_error += abs(td_error)\n",
    "\n",
    "                alpha = 1/Ntable[state][action] if self.alpha is None else self.alpha\n",
    "\n",
    "                for state in Etable:\n",
    "                    for action in Actions.actions:\n",
    "                        policy.update_Q(state, action, alpha, td_error * Etable[state][action])\n",
    "                        Etable[state][action] *= self.gamma * self.lmbda\n",
    "\n",
    "                state  = next_state\n",
    "                action = next_action\n",
    "\n",
    "            history[\"cumulative reward\"].append(cumulative_reward)\n",
    "            history[\"episode error\"].append(cumulative_error)\n",
    "            history[\"episode length\"].append(n_steps)\n",
    "            history[\"episode win\"].append(env.is_win())\n",
    "        \n",
    "        return policy, history"
   ]
  },
  {
   "cell_type": "code",
<<<<<<< HEAD
   "execution_count": 40,
=======
   "execution_count": 29,
>>>>>>> 65c1331ca49c269dd67aa9fee95f003d9b044837
   "metadata": {},
   "outputs": [
    {
     "data": {
      "application/vnd.jupyter.widget-view+json": {
       "model_id": "f30590d4d2f649118998e3efc9f436f4",
       "version_major": 2,
       "version_minor": 0
      },
      "text/plain": [
       "  0%|          | 0/10000 [00:00<?, ?it/s]"
      ]
     },
     "metadata": {},
     "output_type": "display_data"
    }
   ],
   "source": [
    "sarsa = SARSA(\n",
    "    env    = env.set_render(None),\n",
    "    gamma  = 0.99,\n",
    "    lmbda  = 0.2,\n",
    "    N0     = 10\n",
    ")\n",
    "sarsa_policy, sarsa_history = sarsa.train(EpsilonGreedyQAgent(), 10000)"
   ]
  },
  {
   "cell_type": "code",
<<<<<<< HEAD
   "execution_count": 41,
=======
   "execution_count": 30,
>>>>>>> 65c1331ca49c269dd67aa9fee95f003d9b044837
   "metadata": {},
   "outputs": [
    {
     "name": "stdout",
     "output_type": "stream",
     "text": [
      "% % % % % %\n",
      "% \u001b[33m<\u001b[0m \u001b[31mM\u001b[0m     %\n",
      "%         %\n",
      "%         %\n",
      "%         %\n",
      "% % % % % %\n",
      "Score: 45\n"
     ]
    }
   ],
   "source": [
    "env.set_render('ansi')\n",
    "env.run_policy(sarsa_policy, 0, .5);"
   ]
  },
  {
   "cell_type": "code",
<<<<<<< HEAD
   "execution_count": 64,
=======
   "execution_count": 32,
   "metadata": {},
   "outputs": [
    {
     "name": "stdout",
     "output_type": "stream",
     "text": [
      "[43. 43. 43. 45. 43. 45. 43. 45. 43. 43. 43. 43. 43. 45. 45. 43. 45. 45.\n",
      " 45. 43. 43. 43. 45. 43. 43. 43. 45. 45. 45. 43. 43. 43. 43. 43. 45. 45.\n",
      " 45. 45. 43. 45. 45. 43. 43. 45. 43. 43. 45. 43. 45.]\n"
     ]
    }
   ],
   "source": [
    "sarsa = SARSA(env.set_render(None), 0.99,0.2)\n",
    "sarsa_policy = EpsilonGreedyQAgent()\n",
    "scoresSarsa = np.zeros([49,100])\n",
    "\n",
    "for i in range (1,50):\n",
    "    sarsa.N0 = i\n",
    "    _, sarsa_history = sarsa.train(sarsa_policy, 10000)\n",
    "\n",
    "    #print(scores)\n",
    "\n",
    "    for j in range(100):\n",
    "        env.run_policy(sarsa_policy, 0, 0)\n",
    "        scoresSarsa[i-1][j] =  env.get_score()\n",
    "\n",
    "    sarsa_policy.reset()\n",
    "\n",
    "mediaSarsa = np.mean(scoresSarsa, 1)\n",
    "print(mediaSarsa)"
   ]
  },
  {
   "cell_type": "code",
   "execution_count": 39,
>>>>>>> 65c1331ca49c269dd67aa9fee95f003d9b044837
   "metadata": {},
   "outputs": [
    {
     "data": {
      "text/plain": [
       "(<Figure size 800x500 with 1 Axes>,\n",
       " <Axes: title={'center': 'Episode win during training'}, xlabel='episode', ylabel='episode win'>)"
      ]
     },
     "execution_count": 64,
     "metadata": {},
     "output_type": "execute_result"
    },
    {
     "data": {
      "image/png": "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",
      "text/plain": [
       "<Figure size 800x500 with 1 Axes>"
      ]
     },
     "metadata": {},
     "output_type": "display_data"
    }
   ],
   "source": [
    "plot_episodes(sarsa_history, \"episode win\", smooth=101)"
   ]
  },
  {
   "cell_type": "markdown",
   "metadata": {},
   "source": [
    "## Linear Features"
   ]
  },
  {
   "cell_type": "code",
   "execution_count": 23,
   "metadata": {},
   "outputs": [],
   "source": [
    "class EpsilonGreedyLinearAgent(Agent):\n",
    "    \"\"\"\n",
    "    Agent with linear approximation for Q and epsilon-greedy policy.\n",
    "    This class do not include any default training algorithm.\n",
    "    \"\"\"\n",
    "\n",
    "    def __init__(self, state_dim, action_dim):\n",
    "        self.weights = np.random.randn(action_dim, state_dim)\n",
    "    \n",
    "    \n",
    "    def act(self, state, epsilon=0.) -> str:\n",
    "        if np.random.rand() > epsilon:\n",
    "            action, _ = self.max_Q(state)\n",
    "\n",
    "        else:\n",
    "            action = Actions.sample()\n",
    "\n",
    "        return action\n",
    "\n",
    "\n",
    "    def Q(self, state, action):\n",
    "        idx = Actions.action_index(action)\n",
    "\n",
    "        return (self.weights @ np.array(state))[idx]\n",
    "\n",
    "\n",
    "    def max_Q(self, state):\n",
    "        Qvalues = self.weights @ np.array(state)\n",
    "\n",
    "        idx = np.argmax(Qvalues)\n",
    "\n",
    "        return Actions.actions[idx], Qvalues[idx]\n",
    "\n",
    "\n",
    "    def update_Q(self, state, action, alpha, error):\n",
    "        bellman_loss_grad = np.array(state)\n",
    "\n",
    "        self.weights += alpha * error * bellman_loss_grad\n",
    "\n",
    "\n",
    "    def reset(self):\n",
    "        \"\"\"\n",
    "        Reset agent's Q table.\n",
    "        \"\"\"\n",
    "        self.weights = np.random.randn(*self.weights.shape)"
   ]
  },
  {
   "cell_type": "code",
   "execution_count": 24,
   "metadata": {},
   "outputs": [
    {
     "data": {
      "application/vnd.jupyter.widget-view+json": {
       "model_id": "9476b01673284185bcad78e4b58187e4",
       "version_major": 2,
       "version_minor": 0
      },
      "text/plain": [
       "  0%|          | 0/10000 [00:00<?, ?it/s]"
      ]
     },
     "metadata": {},
     "output_type": "display_data"
    }
   ],
   "source": [
    "linear_env = PacmanEnv.contourDanger(4, ghost_names=\"RobustGhost\", state_space=\"features\")\n",
    "\n",
    "monte_carlo = MonteCarloControl(\n",
    "    env    = linear_env.set_render(None),\n",
    "    gamma  = 0.99,\n",
    "    alpha  = 0.1,\n",
    ")\n",
    "mc_policy, mc_history = monte_carlo.train(EpsilonGreedyLinearAgent(2, 4), 10000)"
   ]
  },
  {
   "cell_type": "code",
   "execution_count": 67,
   "metadata": {},
   "outputs": [],
   "source": [
    "q_learning = QLearning(\n",
    "    env    = env.set_render(None),\n",
    "    gamma  = 0.99,\n",
    "    N0     = 10\n",
    ")\n",
    "q_policy, q_history = q_learning.train(EpsilonGreedyLinearAgent(2, 4), 10000)"
   ]
  },
  {
   "cell_type": "code",
   "execution_count": 25,
   "metadata": {},
   "outputs": [
    {
     "name": "stdout",
     "output_type": "stream",
     "text": [
      "% % % % % %\n",
      "% . \u001b[31mM\u001b[0m \u001b[33m^\u001b[0m   %\n",
      "%         %\n",
      "%         %\n",
      "%         %\n",
      "% % % % % %\n",
      "Score: -24\n"
     ]
    },
    {
     "ename": "KeyboardInterrupt",
     "evalue": "",
     "output_type": "error",
     "traceback": [
      "\u001b[0;31m---------------------------------------------------------------------------\u001b[0m",
      "\u001b[0;31mKeyboardInterrupt\u001b[0m                         Traceback (most recent call last)",
      "\u001b[0;32m/tmp/ipykernel_459857/426505355.py\u001b[0m in \u001b[0;36m<cell line: 2>\u001b[0;34m()\u001b[0m\n\u001b[1;32m      1\u001b[0m \u001b[0mlinear_env\u001b[0m\u001b[0;34m.\u001b[0m\u001b[0mset_render\u001b[0m\u001b[0;34m(\u001b[0m\u001b[0;34m'ansi'\u001b[0m\u001b[0;34m)\u001b[0m\u001b[0;34m\u001b[0m\u001b[0;34m\u001b[0m\u001b[0m\n\u001b[0;32m----> 2\u001b[0;31m \u001b[0mlinear_env\u001b[0m\u001b[0;34m.\u001b[0m\u001b[0mrun_policy\u001b[0m\u001b[0;34m(\u001b[0m\u001b[0mmc_policy\u001b[0m\u001b[0;34m,\u001b[0m \u001b[0;36m0\u001b[0m\u001b[0;34m,\u001b[0m \u001b[0;36m.5\u001b[0m\u001b[0;34m)\u001b[0m\u001b[0;34m;\u001b[0m\u001b[0;34m\u001b[0m\u001b[0;34m\u001b[0m\u001b[0m\n\u001b[0m",
      "\u001b[0;32m/media/danielgardin/Daniel/Acadêmico/Aulas/Mestrado/02 - 2S2023/MO436 - Reinforcement Learning/MO436-Reinfocement-Learning/pacman/env.py\u001b[0m in \u001b[0;36mrun_policy\u001b[0;34m(self, policy, timeout_time, delay, seed)\u001b[0m\n\u001b[1;32m    611\u001b[0m \u001b[0;34m\u001b[0m\u001b[0m\n\u001b[1;32m    612\u001b[0m         \u001b[0;32mwhile\u001b[0m \u001b[0;32mnot\u001b[0m \u001b[0mdone\u001b[0m\u001b[0;34m:\u001b[0m\u001b[0;34m\u001b[0m\u001b[0;34m\u001b[0m\u001b[0m\n\u001b[0;32m--> 613\u001b[0;31m             \u001b[0mtime\u001b[0m\u001b[0;34m.\u001b[0m\u001b[0msleep\u001b[0m\u001b[0;34m(\u001b[0m\u001b[0mdelay\u001b[0m\u001b[0;34m)\u001b[0m\u001b[0;34m\u001b[0m\u001b[0;34m\u001b[0m\u001b[0m\n\u001b[0m\u001b[1;32m    614\u001b[0m \u001b[0;34m\u001b[0m\u001b[0m\n\u001b[1;32m    615\u001b[0m             \u001b[0;32mwith\u001b[0m \u001b[0mtimeout\u001b[0m\u001b[0;34m(\u001b[0m\u001b[0mtimeout_time\u001b[0m\u001b[0;34m)\u001b[0m\u001b[0;34m:\u001b[0m\u001b[0;34m\u001b[0m\u001b[0;34m\u001b[0m\u001b[0m\n",
      "\u001b[0;31mKeyboardInterrupt\u001b[0m: "
     ]
    }
   ],
   "source": [
    "linear_env.set_render('ansi')\n",
    "linear_env.run_policy(mc_policy, 0, .5);"
   ]
  }
 ],
 "metadata": {
  "kernelspec": {
   "display_name": "Python 3",
   "language": "python",
   "name": "python3"
  },
  "language_info": {
   "codemirror_mode": {
    "name": "ipython",
    "version": 3
   },
   "file_extension": ".py",
   "mimetype": "text/x-python",
   "name": "python",
   "nbconvert_exporter": "python",
   "pygments_lexer": "ipython3",
   "version": "3.9.16"
  },
  "orig_nbformat": 4
 },
 "nbformat": 4,
 "nbformat_minor": 2
}
