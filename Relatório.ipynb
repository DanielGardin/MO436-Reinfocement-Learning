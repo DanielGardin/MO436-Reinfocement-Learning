{
 "cells": [
  {
   "cell_type": "markdown",
   "metadata": {},
   "source": [
    "## Reinforcement Learning (MO436)\n",
    "\n",
    "Autores:\n",
    "\n",
    "**Aline Cavalca Caravlho Soares de Azevedo** (RA: )\n",
    "\n",
    "**Beatriz Cardoso Nascimento**               (RA: )\n",
    "\n",
    "**Daniel Gardin Gratti**                     (RA: 214729)\n",
    "\n",
    "**Guilhermo de Luiggi Mocelim de Oliveira** (RA: )\n",
    "\n",
    "\n",
    "### Introdução"
   ]
  },
  {
   "cell_type": "code",
   "execution_count": 2,
   "metadata": {},
   "outputs": [],
   "source": [
    "from collections import defaultdict\n",
    "from pacman.actions import Actions\n",
    "from pacman.env import PacmanEnv\n",
    "from pacman.agents import Agent\n",
    "\n",
    "import matplotlib.pyplot as plt\n",
    "import seaborn as sns\n",
    "import numpy as np\n",
    "\n",
    "sns.set_theme('notebook', 'whitegrid', 'Set1')"
   ]
  }
 ],
 "metadata": {
  "kernelspec": {
   "display_name": "Python 3",
   "language": "python",
   "name": "python3"
  },
  "language_info": {
   "codemirror_mode": {
    "name": "ipython",
    "version": 3
   },
   "file_extension": ".py",
   "mimetype": "text/x-python",
   "name": "python",
   "nbconvert_exporter": "python",
   "pygments_lexer": "ipython3",
   "version": "3.8.10"
  },
  "orig_nbformat": 4
 },
 "nbformat": 4,
 "nbformat_minor": 2
}
